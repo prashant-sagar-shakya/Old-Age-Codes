{
 "cells": [
  {
   "cell_type": "markdown",
   "id": "1569ee3c",
   "metadata": {},
   "source": [
    "## Functions in Python"
   ]
  },
  {
   "cell_type": "code",
   "execution_count": 5,
   "id": "eb8e7aab",
   "metadata": {},
   "outputs": [
    {
     "name": "stdout",
     "output_type": "stream",
     "text": [
      "4\n",
      "2\n",
      "6\n"
     ]
    }
   ],
   "source": [
    "#Calculating nCr\n",
    "\n",
    "#Calculating Factorial\n",
    "def fact(n:int):  #def is used to define a function\n",
    "    mul=1\n",
    "    for i in range(1,n+1):\n",
    "        mul=mul*i\n",
    "    return mul\n",
    "        \n",
    "n=int(input())\n",
    "r=int(input())\n",
    "\n",
    "print(fact(n)//(fact(n-r)*fact(r)))"
   ]
  },
  {
   "cell_type": "markdown",
   "id": "ecc83d00",
   "metadata": {},
   "source": [
    "## Why do we use functions ?\n",
    "###### To avoid repetation\n",
    "###### To improve redability of code\n",
    "###### Improves testability of a chunk of code"
   ]
  },
  {
   "cell_type": "markdown",
   "id": "b6617459",
   "metadata": {},
   "source": [
    "## Few Examples"
   ]
  },
  {
   "cell_type": "code",
   "execution_count": 23,
   "id": "ede01ae2",
   "metadata": {},
   "outputs": [
    {
     "name": "stdout",
     "output_type": "stream",
     "text": [
      "99\n",
      "Not Prime\n",
      "Not Prime\n"
     ]
    }
   ],
   "source": [
    "#Checking number is prime or not\n",
    "import math\n",
    "\n",
    "#Function 1 Normal Approach\n",
    "def CP(n:int):\n",
    "    for d in range (2,n):\n",
    "        if n%d==0:\n",
    "            break\n",
    "    else:\n",
    "        return True\n",
    "    return False\n",
    "\n",
    "#Function 2 Optimal Approach\n",
    "def checkPrime(n:int):\n",
    "    if n<=1:\n",
    "        return False\n",
    "    elif n==2 or n==3:\n",
    "        return True\n",
    "    elif n%2==0 or n%3==0:\n",
    "        return False\n",
    "    for i in range(5,int(math.sqrt(n+1)),6):\n",
    "        if(n%i==0 or n%(i+2)==0):\n",
    "            return False\n",
    "    return True\n",
    "\n",
    "n=int(input())\n",
    "if(checkPrime(n)):\n",
    "    print(\"Prime\")\n",
    "else:\n",
    "    print(\"Not Prime\")\n",
    "    \n",
    "if(CP(n)):\n",
    "    print(\"Prime\")\n",
    "else:\n",
    "    print(\"Not Prime\")"
   ]
  },
  {
   "cell_type": "code",
   "execution_count": 25,
   "id": "e74e937c",
   "metadata": {},
   "outputs": [
    {
     "name": "stdout",
     "output_type": "stream",
     "text": [
      "100\n",
      "2 3 5 7 11 13 17 19 23 29 31 37 41 43 47 53 59 61 67 71 73 79 83 89 97 "
     ]
    }
   ],
   "source": [
    "#Prime From 2 to N\n",
    "\n",
    "#Using CP Function\n",
    "n=int(input())\n",
    "for i in range(2,n+1):\n",
    "    if(CP(i)):\n",
    "        print(i,end=' ')"
   ]
  },
  {
   "cell_type": "code",
   "execution_count": 21,
   "id": "6edcbb6a",
   "metadata": {},
   "outputs": [
    {
     "name": "stdout",
     "output_type": "stream",
     "text": [
      "100\n",
      "2 3 5 7 11 13 17 19 23 25 29 31 37 41 43 47 53 59 61 67 71 73 79 83 89 97 "
     ]
    }
   ],
   "source": [
    "#Prime From 2 to N\n",
    "\n",
    "#Using checkPrime Function\n",
    "n=int(input())\n",
    "for i in range(2,n+1):\n",
    "    if(checkPrime(i)):\n",
    "        print(i,end=' ')"
   ]
  },
  {
   "cell_type": "markdown",
   "id": "6e619c89",
   "metadata": {},
   "source": [
    "## 8. Fahrenhite to Celcius :-\n",
    "Given three values - Start Fahrenheit Value (S), End Fahrenheit value (E) and Step Size (W), you need to convert all Fahrenheit values from Start to End at the gap of W, into their corresponding Celsius values and print the table."
   ]
  },
  {
   "cell_type": "code",
   "execution_count": 29,
   "id": "368756a8",
   "metadata": {},
   "outputs": [
    {
     "name": "stdout",
     "output_type": "stream",
     "text": [
      "0\n",
      "100\n",
      "5\n",
      "0 -17\n",
      "5 -15\n",
      "10 -12\n",
      "15 -9\n",
      "20 -6\n",
      "25 -3\n",
      "30 -1\n",
      "35 1\n",
      "40 4\n",
      "45 7\n",
      "50 10\n",
      "55 12\n",
      "60 15\n",
      "65 18\n",
      "70 21\n",
      "75 23\n",
      "80 26\n",
      "85 29\n",
      "90 32\n",
      "95 35\n",
      "100 37\n"
     ]
    }
   ],
   "source": [
    "def F2C(f:int):\n",
    "    return int((f-32)*5/9)\n",
    "S=int(input())\n",
    "E=int(input())\n",
    "W=int(input())\n",
    "\n",
    "for i in range(S,E+1,W):\n",
    "    print(i,F2C(i))"
   ]
  },
  {
   "cell_type": "markdown",
   "id": "025ffca5",
   "metadata": {},
   "source": [
    "## 9. Fibonacci Member\n",
    "Given a number N, figure out if it is a member of fibonacci series or not. Return true if the number is member of fibonacci series else false."
   ]
  },
  {
   "cell_type": "code",
   "execution_count": 43,
   "id": "c960ed60",
   "metadata": {},
   "outputs": [
    {
     "name": "stdout",
     "output_type": "stream",
     "text": [
      "14\n",
      "False\n"
     ]
    }
   ],
   "source": [
    "def Fib(n:int):\n",
    "    if n<=1:\n",
    "        return n\n",
    "    return Fib(n-1)+Fib(n-2)\n",
    "\n",
    "## Recursive Approach of Calculating Fibonacci is very slow for slightly greater numbers so i prefer iterative approach\n",
    "\n",
    "def fibo(n:int):\n",
    "    #Taking First term as 0\n",
    "    n1=0\n",
    "    n2=1\n",
    "    nt=0\n",
    "    for i in range(1,n+1):\n",
    "        n1=n2\n",
    "        n2=nt\n",
    "        nt=n1+n2\n",
    "    return nt\n",
    "\n",
    "def FibMem(n:int):\n",
    "    for i in range(n+1):\n",
    "        if(fibo(i)==n):\n",
    "            print(fibo(i))\n",
    "            return True \n",
    "    return False\n",
    "\n",
    "n=int(input())\n",
    "print(FibMem(n))"
   ]
  },
  {
   "cell_type": "markdown",
   "id": "2b65a148",
   "metadata": {},
   "source": [
    "## How Function Calling Work\n",
    "Function Calling Works in a Hierarchical way, It's followed by function call stack, on every call a function call stack generated and it works in FIFO order"
   ]
  },
  {
   "cell_type": "code",
   "execution_count": 45,
   "id": "e5ddd1a0",
   "metadata": {},
   "outputs": [
    {
     "name": "stdout",
     "output_type": "stream",
     "text": [
      "A\n",
      "B\n",
      "C\n",
      "C Completed\n",
      "B Completed\n",
      "A Completed\n",
      "None\n"
     ]
    }
   ],
   "source": [
    "def A():\n",
    "    print(\"A\")\n",
    "    B()\n",
    "    print(\"A Completed\")\n",
    "def B():\n",
    "    print(\"B\")\n",
    "    C()\n",
    "    print(\"B Completed\")\n",
    "def C():\n",
    "    print(\"C\")\n",
    "    print(\"C Completed\")\n",
    "print(A())    \n",
    "    "
   ]
  },
  {
   "cell_type": "markdown",
   "id": "c6932243",
   "metadata": {},
   "source": [
    "## Function using strings and lists\n",
    "\n",
    "### In Case of List\n",
    "If you change your varible to point somewhere else the original list don't care about that, but if you use your varibale to go and change the data of the list in that case the original variable can also see the change.\n",
    "\n",
    "### In Case of Strings\n",
    "Strings are little different, eg. a is a string \"ABC\" and let say b has the reference to the same string so b cannot change the string because strings are immutable."
   ]
  },
  {
   "cell_type": "code",
   "execution_count": 4,
   "id": "32b34a75",
   "metadata": {},
   "outputs": [
    {
     "name": "stdout",
     "output_type": "stream",
     "text": [
      "5\n",
      "[1, 1, 2]\n",
      "Str\n"
     ]
    }
   ],
   "source": [
    "def increment (k:int):\n",
    "    k=k+1\n",
    "k=5\n",
    "increment(k)\n",
    "print(k) #Changes not reflected but in case of list the function reflects the changes\n",
    "\n",
    "def inc_lst(l:list):\n",
    "    l[0]=l[0]+1\n",
    "    \n",
    "l=[0,1,2]\n",
    "inc_lst(l)\n",
    "print(l)\n",
    "\n",
    "def string(b:str):\n",
    "    b=\"abc\"\n",
    "a=\"Str\"\n",
    "string(a)\n",
    "print(a)"
   ]
  },
  {
   "cell_type": "code",
   "execution_count": 11,
   "id": "3c594c41",
   "metadata": {},
   "outputs": [
    {
     "name": "stdout",
     "output_type": "stream",
     "text": [
      "[10, 9, 8, 7, 6, 5, 4, 3, 2, 1, 0]\n"
     ]
    }
   ],
   "source": [
    "#Returning a list from a function\n",
    "def Create_rev_array(n:int):\n",
    "    '''\n",
    "    l=[i for i in range(n,-1,-1)]\n",
    "    return l\n",
    "    '''\n",
    "    \n",
    "    l=[]\n",
    "    for i in range(n,-1,-1):\n",
    "        l.append(i)\n",
    "    return l\n",
    "\n",
    "l=[]\n",
    "l=Create_rev_array(10)\n",
    "print(l)"
   ]
  },
  {
   "cell_type": "code",
   "execution_count": 12,
   "id": "3eb7b659",
   "metadata": {},
   "outputs": [
    {
     "name": "stdout",
     "output_type": "stream",
     "text": [
      "[2, 1, 4, 3, 6, 5]\n"
     ]
    }
   ],
   "source": [
    "## Swap Alternate of List\n",
    "\n",
    "def Swap_alter(l:list):\n",
    "    i=0\n",
    "    while i+1<len(l):\n",
    "        l[i],l[i+1]=l[i+1],l[i]\n",
    "        i=i+2\n",
    "        \n",
    "l=[1,2,3,4,5,6]\n",
    "Swap_alter(l)\n",
    "print(l)"
   ]
  },
  {
   "cell_type": "markdown",
   "id": "b235aff0",
   "metadata": {},
   "source": [
    "## Scope of variable\n",
    "In simple terms, scope of a variable is its lifetime in the program.\n",
    "This means that the scope of a variable is the block of code in the entire program where the variable is declared, used, and can be modified.\n",
    "\n",
    "Two Types of Scopes,\n",
    "\n",
    "Local Scope :- Variable are defined inside a function is valid upto that function only is called local scope\n",
    "\n",
    "Global Scope :- Variable are defined ouside a function and is valid to any function is called global scope\n",
    "\n",
    "If you want to change a global variable you need to create a local variable for that"
   ]
  },
  {
   "cell_type": "code",
   "execution_count": 13,
   "id": "6760dc3e",
   "metadata": {},
   "outputs": [
    {
     "name": "stdout",
     "output_type": "stream",
     "text": [
      "10\n"
     ]
    },
    {
     "ename": "NameError",
     "evalue": "name 'b1' is not defined",
     "output_type": "error",
     "traceback": [
      "\u001b[1;31m---------------------------------------------------------------------------\u001b[0m",
      "\u001b[1;31mNameError\u001b[0m                                 Traceback (most recent call last)",
      "Cell \u001b[1;32mIn[13], line 5\u001b[0m\n\u001b[0;32m      3\u001b[0m     b1\u001b[38;5;241m=\u001b[39m\u001b[38;5;241m12\u001b[39m\n\u001b[0;32m      4\u001b[0m \u001b[38;5;28mprint\u001b[39m(a1)\n\u001b[1;32m----> 5\u001b[0m \u001b[38;5;28mprint\u001b[39m(\u001b[43mb1\u001b[49m)\n",
      "\u001b[1;31mNameError\u001b[0m: name 'b1' is not defined"
     ]
    }
   ],
   "source": [
    "a1=10 #Global Variable\n",
    "def f1():\n",
    "    b1=12\n",
    "print(a1)\n",
    "print(b1) #b1 is local variable"
   ]
  },
  {
   "cell_type": "code",
   "execution_count": 15,
   "id": "6e5e2830",
   "metadata": {},
   "outputs": [
    {
     "name": "stdout",
     "output_type": "stream",
     "text": [
      "10\n",
      "12\n"
     ]
    },
    {
     "ename": "NameError",
     "evalue": "name 'c3' is not defined",
     "output_type": "error",
     "traceback": [
      "\u001b[1;31m---------------------------------------------------------------------------\u001b[0m",
      "\u001b[1;31mNameError\u001b[0m                                 Traceback (most recent call last)",
      "Cell \u001b[1;32mIn[15], line 7\u001b[0m\n\u001b[0;32m      5\u001b[0m     \u001b[38;5;28mprint\u001b[39m(c3)\n\u001b[0;32m      6\u001b[0m \u001b[38;5;28mprint\u001b[39m(a1)\n\u001b[1;32m----> 7\u001b[0m \u001b[43mf1\u001b[49m\u001b[43m(\u001b[49m\u001b[43m)\u001b[49m \u001b[38;5;66;03m#b1 is local variable\u001b[39;00m\n\u001b[0;32m      8\u001b[0m c3\u001b[38;5;241m=\u001b[39m\u001b[38;5;241m20\u001b[39m\n",
      "Cell \u001b[1;32mIn[15], line 5\u001b[0m, in \u001b[0;36mf1\u001b[1;34m()\u001b[0m\n\u001b[0;32m      3\u001b[0m b1\u001b[38;5;241m=\u001b[39m\u001b[38;5;241m12\u001b[39m\n\u001b[0;32m      4\u001b[0m \u001b[38;5;28mprint\u001b[39m(b1)\n\u001b[1;32m----> 5\u001b[0m \u001b[38;5;28mprint\u001b[39m(\u001b[43mc3\u001b[49m)\n",
      "\u001b[1;31mNameError\u001b[0m: name 'c3' is not defined"
     ]
    }
   ],
   "source": [
    "a1=10 #Global Variable\n",
    "def f1():\n",
    "    b1=12\n",
    "    print(b1)\n",
    "    print(c3)\n",
    "print(a1)\n",
    "f1() #b1 is local variable\n",
    "c3=20 #For printing c3 we've to define it before function f1"
   ]
  },
  {
   "cell_type": "code",
   "execution_count": 19,
   "id": "e0bde035",
   "metadata": {},
   "outputs": [
    {
     "name": "stdout",
     "output_type": "stream",
     "text": [
      "2867409847120\n",
      "10\n",
      "12\n",
      "20\n",
      "2867409847120\n"
     ]
    }
   ],
   "source": [
    "a1=10 #Global Variable\n",
    "c3=20 #Global Variable\n",
    "print(id(c3))\n",
    "def f1():\n",
    "    b1=12\n",
    "    print(b1)\n",
    "    print(c3)\n",
    "    print(id(c3))\n",
    "print(a1)\n",
    "f1() #b1 is local variable\n",
    "\n",
    "\n",
    "#You can access any global variable defined before the function call\n",
    "#The id's of variables in diffrent functions are different not same because functions does\n",
    "# shallow copy of variables but in case of global varible it remains same"
   ]
  },
  {
   "cell_type": "markdown",
   "id": "3a34a9d6",
   "metadata": {},
   "source": [
    "## Default parameters in functions :-"
   ]
  },
  {
   "cell_type": "code",
   "execution_count": 23,
   "id": "e8a9d043",
   "metadata": {},
   "outputs": [
    {
     "ename": "TypeError",
     "evalue": "fun() takes 1 positional argument but 2 were given",
     "output_type": "error",
     "traceback": [
      "\u001b[1;31m---------------------------------------------------------------------------\u001b[0m",
      "\u001b[1;31mTypeError\u001b[0m                                 Traceback (most recent call last)",
      "Cell \u001b[1;32mIn[23], line 4\u001b[0m\n\u001b[0;32m      2\u001b[0m     \u001b[38;5;28mprint\u001b[39m(n)\n\u001b[0;32m      3\u001b[0m \u001b[38;5;66;03m#print(fun()) #1 required positional argument error\u001b[39;00m\n\u001b[1;32m----> 4\u001b[0m \u001b[38;5;28mprint\u001b[39m(\u001b[43mfun\u001b[49m\u001b[43m(\u001b[49m\u001b[38;5;241;43m2\u001b[39;49m\u001b[43m,\u001b[49m\u001b[38;5;241;43m3\u001b[39;49m\u001b[43m)\u001b[49m)\n",
      "\u001b[1;31mTypeError\u001b[0m: fun() takes 1 positional argument but 2 were given"
     ]
    }
   ],
   "source": [
    "def fun(n:int):\n",
    "    print(n)\n",
    "print(fun()) #1 required positional argument error\n",
    "print(fun(2,3)) #takes 1 positional argument but 2 were given"
   ]
  },
  {
   "cell_type": "code",
   "execution_count": 24,
   "id": "821f4152",
   "metadata": {},
   "outputs": [
    {
     "name": "stdout",
     "output_type": "stream",
     "text": [
      "9\n",
      "6\n"
     ]
    }
   ],
   "source": [
    "#Default argument executes from right to left otherwise it throws an error\n",
    "def Sum(a,b,c=0):#c=0 is a default argument if we pass only two arguments the it will add with c=0,\n",
    "    #if we pass three arguments then it changes c=0 to our given value and add.\n",
    "    return a+b+c\n",
    "print(Sum(4,5))\n",
    "print(Sum(1,2,3))"
   ]
  }
 ],
 "metadata": {
  "kernelspec": {
   "display_name": "Python 3 (ipykernel)",
   "language": "python",
   "name": "python3"
  },
  "language_info": {
   "codemirror_mode": {
    "name": "ipython",
    "version": 3
   },
   "file_extension": ".py",
   "mimetype": "text/x-python",
   "name": "python",
   "nbconvert_exporter": "python",
   "pygments_lexer": "ipython3",
   "version": "3.10.9"
  }
 },
 "nbformat": 4,
 "nbformat_minor": 5
}
