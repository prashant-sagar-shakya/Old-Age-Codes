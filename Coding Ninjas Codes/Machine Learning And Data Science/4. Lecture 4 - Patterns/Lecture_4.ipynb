{
 "cells": [
  {
   "cell_type": "markdown",
   "id": "ad2f809b",
   "metadata": {},
   "source": [
    "# Patterns :-\n",
    "How many rows, How many coulmns and What to print ?"
   ]
  },
  {
   "cell_type": "code",
   "execution_count": 10,
   "id": "a850c078",
   "metadata": {},
   "outputs": [
    {
     "name": "stdout",
     "output_type": "stream",
     "text": [
      "4\n",
      "* * * * \n",
      "* * * * \n",
      "* * * * \n",
      "* * * * \n"
     ]
    }
   ],
   "source": [
    "'''\n",
    "* * * *\n",
    "* * * *\n",
    "* * * *\n",
    "* * * *\n",
    "'''\n",
    "\n",
    "n=int(input())\n",
    "i=1\n",
    "while i<=n:\n",
    "    j=1\n",
    "    while j<=n:\n",
    "        print(\"*\",end=' ')\n",
    "        j=j+1\n",
    "    print()\n",
    "    i=i+1"
   ]
  },
  {
   "cell_type": "markdown",
   "id": "a3ab58a1",
   "metadata": {},
   "source": [
    "## Square Patterns :-"
   ]
  },
  {
   "cell_type": "code",
   "execution_count": 11,
   "id": "9413affa",
   "metadata": {},
   "outputs": [
    {
     "name": "stdout",
     "output_type": "stream",
     "text": [
      "4\n",
      "1 1 1 1 \n",
      "2 2 2 2 \n",
      "3 3 3 3 \n",
      "4 4 4 4 \n"
     ]
    }
   ],
   "source": [
    "'''\n",
    "1 1 1 1\n",
    "2 2 2 2\n",
    "3 3 3 3\n",
    "4 4 4 4\n",
    "'''\n",
    "\n",
    "n=int(input())\n",
    "i=1\n",
    "while i<=n:\n",
    "    j=1\n",
    "    while j<=n:\n",
    "        print(i,end=' ')\n",
    "        j=j+1\n",
    "    print()\n",
    "    i=i+1"
   ]
  },
  {
   "cell_type": "code",
   "execution_count": 12,
   "id": "7faf8cdc",
   "metadata": {},
   "outputs": [
    {
     "name": "stdout",
     "output_type": "stream",
     "text": [
      "4\n",
      "1 2 3 4 \n",
      "1 2 3 4 \n",
      "1 2 3 4 \n",
      "1 2 3 4 \n"
     ]
    }
   ],
   "source": [
    "'''\n",
    "1 2 3 4\n",
    "1 2 3 4\n",
    "1 2 3 4\n",
    "1 2 3 4\n",
    "'''\n",
    "\n",
    "n=int(input())\n",
    "i=1\n",
    "while i<=n:\n",
    "    j=1\n",
    "    while j<=n:\n",
    "        print(j,end=' ')\n",
    "        j=j+1\n",
    "    print()\n",
    "    i=i+1"
   ]
  },
  {
   "cell_type": "code",
   "execution_count": 13,
   "id": "0d995adf",
   "metadata": {},
   "outputs": [
    {
     "name": "stdout",
     "output_type": "stream",
     "text": [
      "4\n",
      "4 3 2 1 \n",
      "4 3 2 1 \n",
      "4 3 2 1 \n",
      "4 3 2 1 \n"
     ]
    }
   ],
   "source": [
    "'''\n",
    "4 3 2 1\n",
    "4 3 2 1\n",
    "4 3 2 1\n",
    "4 3 2 1\n",
    "'''\n",
    "\n",
    "n=int(input())\n",
    "i=1\n",
    "while i<=n:\n",
    "    j=n\n",
    "    while j>=1:\n",
    "        print(j,end=' ')\n",
    "        j=j-1\n",
    "    print()\n",
    "    i=i+1"
   ]
  },
  {
   "cell_type": "code",
   "execution_count": 20,
   "id": "7d9d4238",
   "metadata": {},
   "outputs": [
    {
     "name": "stdout",
     "output_type": "stream",
     "text": [
      "4\n",
      "4 4 4 4 \n",
      "4 4 4 4 \n",
      "4 4 4 4 \n",
      "4 4 4 4 \n"
     ]
    }
   ],
   "source": [
    "'''\n",
    "(4.) Square Pattern :-\n",
    "Print the following pattern for the given N number of rows.\n",
    "Pattern for N = 4\n",
    "4 4 4 4\n",
    "4 4 4 4\n",
    "4 4 4 4\n",
    "4 4 4 4\n",
    "'''\n",
    "n=int(input())\n",
    "i=1\n",
    "while i<=n:\n",
    "    j=1\n",
    "    while j<=n:\n",
    "        print(n,end=' ')\n",
    "        j=j+1\n",
    "    print()\n",
    "    i=i+1"
   ]
  },
  {
   "cell_type": "markdown",
   "id": "5837b2a8",
   "metadata": {},
   "source": [
    "## Triangular Pattern :-"
   ]
  },
  {
   "cell_type": "code",
   "execution_count": 15,
   "id": "a76382c5",
   "metadata": {},
   "outputs": [
    {
     "name": "stdout",
     "output_type": "stream",
     "text": [
      "4\n",
      "1 \n",
      "1 2 \n",
      "1 2 3 \n",
      "1 2 3 4 \n"
     ]
    }
   ],
   "source": [
    "'''\n",
    "1\n",
    "1 2\n",
    "1 2 3\n",
    "1 2 3 4\n",
    "'''\n",
    "n=int(input())\n",
    "i=1\n",
    "while i<=n:\n",
    "    j=1\n",
    "    while j<=i:\n",
    "        print(j,end=' ')\n",
    "        j=j+1\n",
    "    print()\n",
    "    i=i+1"
   ]
  },
  {
   "cell_type": "code",
   "execution_count": 16,
   "id": "04f38ba3",
   "metadata": {},
   "outputs": [
    {
     "name": "stdout",
     "output_type": "stream",
     "text": [
      "4\n",
      "1 \n",
      "2 3 \n",
      "3 4 5 \n",
      "4 5 6 7 \n"
     ]
    }
   ],
   "source": [
    "'''\n",
    "1\n",
    "2 3\n",
    "3 4 5\n",
    "4 5 6 7\n",
    "'''\n",
    "n=int(input())\n",
    "i=1\n",
    "while i<=n:\n",
    "    j=i\n",
    "    while j<=2*i-1:\n",
    "        print(j,end=' ')\n",
    "        j=j+1\n",
    "    print()\n",
    "    i=i+1"
   ]
  },
  {
   "cell_type": "code",
   "execution_count": 19,
   "id": "12a38835",
   "metadata": {},
   "outputs": [
    {
     "name": "stdout",
     "output_type": "stream",
     "text": [
      "4\n",
      "1 \n",
      "2 3 \n",
      "4 5 6 \n",
      "7 8 9 10 \n"
     ]
    }
   ],
   "source": [
    "'''\n",
    "1\n",
    "2 3\n",
    "4 5 6\n",
    "7 8 9 10\n",
    "'''\n",
    "n=int(input())\n",
    "i=1\n",
    "k=1\n",
    "while i<=n:\n",
    "    j=1\n",
    "    while j<=i:\n",
    "        print(k,end=' ')\n",
    "        k=k+1\n",
    "        j=j+1\n",
    "    print()\n",
    "    i=i+1"
   ]
  },
  {
   "cell_type": "code",
   "execution_count": 21,
   "id": "74724d88",
   "metadata": {},
   "outputs": [
    {
     "name": "stdout",
     "output_type": "stream",
     "text": [
      "4\n",
      "* \n",
      "* * \n",
      "* * * \n",
      "* * * * \n"
     ]
    }
   ],
   "source": [
    "'''\n",
    "(6.) Triangular Star Pattern :-\n",
    "Print the following pattern for the given N number of rows.\n",
    "Pattern for N = 4\n",
    "*\n",
    "* *\n",
    "* * *\n",
    "* * * *\n",
    "'''\n",
    "n=int(input())\n",
    "i=1\n",
    "while i<=n:\n",
    "    j=1\n",
    "    while j<=i:\n",
    "        print(\"*\",end=' ')\n",
    "        j=j+1\n",
    "    print()\n",
    "    i=i+1"
   ]
  },
  {
   "cell_type": "code",
   "execution_count": 22,
   "id": "eb11bc65",
   "metadata": {},
   "outputs": [
    {
     "name": "stdout",
     "output_type": "stream",
     "text": [
      "4\n",
      "1 \n",
      "2 2 \n",
      "3 3 3 \n",
      "4 4 4 4 \n"
     ]
    }
   ],
   "source": [
    "'''\n",
    "(7.) Triangular Number Pattern :-\n",
    "Print the following pattern for the given N number of rows.\n",
    "Pattern for N = 4\n",
    "1\n",
    "2 2\n",
    "3 3 3\n",
    "4 4 4 4\n",
    "'''\n",
    "n=int(input())\n",
    "i=1\n",
    "while i<=n:\n",
    "    j=1\n",
    "    while j<=i:\n",
    "        print(i,end=' ')\n",
    "        j=j+1\n",
    "    print()\n",
    "    i=i+1"
   ]
  },
  {
   "cell_type": "code",
   "execution_count": 23,
   "id": "636ebc5a",
   "metadata": {},
   "outputs": [
    {
     "name": "stdout",
     "output_type": "stream",
     "text": [
      "4\n",
      "1 \n",
      "2 1 \n",
      "3 2 1 \n",
      "4 3 2 1 \n"
     ]
    }
   ],
   "source": [
    "'''\n",
    "(8.) Reverse Number Pattern :-\n",
    "Print the following pattern for the given N number of rows.\n",
    "Pattern for N = 4\n",
    "1\n",
    "2 1\n",
    "3 2 1\n",
    "4 3 2 1\n",
    "'''\n",
    "n=int(input())\n",
    "i=1\n",
    "while i<=n:\n",
    "    j=i\n",
    "    while j>=1:\n",
    "        print(j,end=' ')\n",
    "        j=j-1\n",
    "    print()\n",
    "    i=i+1"
   ]
  },
  {
   "cell_type": "markdown",
   "id": "5c46c361",
   "metadata": {},
   "source": [
    "## Character Patterns"
   ]
  },
  {
   "cell_type": "code",
   "execution_count": 7,
   "id": "7413cac5",
   "metadata": {},
   "outputs": [
    {
     "name": "stdout",
     "output_type": "stream",
     "text": [
      "4\n",
      "D\n"
     ]
    }
   ],
   "source": [
    "#Print Kth Alphabet\n",
    "\n",
    "k=int(input())\n",
    "x=ord('A') # ord('A') ----> Order of A gives ASCII calue of A\n",
    "ascii_target=x+k-1\n",
    "ascii_char = chr(ascii_target)\n",
    "print(ascii_char)"
   ]
  },
  {
   "cell_type": "code",
   "execution_count": 9,
   "id": "fd1affbc",
   "metadata": {},
   "outputs": [
    {
     "name": "stdout",
     "output_type": "stream",
     "text": [
      "4\n",
      "A B C D \n",
      "A B C D \n",
      "A B C D \n",
      "A B C D \n"
     ]
    }
   ],
   "source": [
    "'''\n",
    "A B C D\n",
    "A B C D\n",
    "A B C D\n",
    "A B C D\n",
    "'''\n",
    "n=int(input())\n",
    "i=1\n",
    "while i<=n:\n",
    "    j=ord('A') #Order of A\n",
    "    while j<ord('A')+n:\n",
    "        print(chr(j),end=' ') # chr is used to typecast integer into character\n",
    "        j=j+1\n",
    "    print()\n",
    "    i=i+1"
   ]
  },
  {
   "cell_type": "code",
   "execution_count": 4,
   "id": "8a06fd47",
   "metadata": {},
   "outputs": [
    {
     "name": "stdout",
     "output_type": "stream",
     "text": [
      "4\n",
      "A B C D \n",
      "B C D E \n",
      "C D E F \n",
      "D E F G \n"
     ]
    }
   ],
   "source": [
    "'''\n",
    "A B C D\n",
    "B C D E\n",
    "C D E F\n",
    "D E F G\n",
    "'''\n",
    "n=int(input())\n",
    "i=65 #65 is ASCII code of A\n",
    "while i<65+n:\n",
    "    j=i\n",
    "    while j<i+n:\n",
    "        print(chr(j),end=' ')\n",
    "        j=j+1\n",
    "    print()\n",
    "    i=i+1"
   ]
  },
  {
   "cell_type": "code",
   "execution_count": 13,
   "id": "bd90f8b5",
   "metadata": {},
   "outputs": [
    {
     "name": "stdout",
     "output_type": "stream",
     "text": [
      "3\n",
      "A \n",
      "B B \n",
      "C C C \n"
     ]
    }
   ],
   "source": [
    "'''\n",
    "(10.) Alpha Pattern :-\n",
    "Print the following pattern for the given N number of rows.\n",
    "Pattern for N = 4\n",
    "A\n",
    "B B\n",
    "C C C\n",
    "D D D D\n",
    "'''\n",
    "n=int(input())\n",
    "i=ord('A')\n",
    "while i<=ord('A')+n-1:\n",
    "    j=ord('A')\n",
    "    while j<=i:\n",
    "        print(chr(i),end=' ')\n",
    "        j=j+1\n",
    "    print()\n",
    "    i=i+1"
   ]
  },
  {
   "cell_type": "code",
   "execution_count": 20,
   "id": "0b22669f",
   "metadata": {},
   "outputs": [
    {
     "name": "stdout",
     "output_type": "stream",
     "text": [
      "4\n",
      "A \n",
      "B C \n",
      "C D E \n",
      "D E F G \n"
     ]
    }
   ],
   "source": [
    "'''\n",
    "(11.) Character Pattern :-\n",
    "Print the following pattern for the given N number of rows.\n",
    "Pattern for N = 4\n",
    "A\n",
    "B C\n",
    "C D E\n",
    "D E F G\n",
    "'''\n",
    "n=int(input())\n",
    "i=1\n",
    "while i<=n:\n",
    "    j=ord('A')+i-1\n",
    "    while j<ord('A')+2*i-1:\n",
    "        print(chr(j),end=' ')\n",
    "        j=j+1\n",
    "    print()\n",
    "    i=i+1"
   ]
  },
  {
   "cell_type": "code",
   "execution_count": 3,
   "id": "c18c025b",
   "metadata": {},
   "outputs": [
    {
     "name": "stdout",
     "output_type": "stream",
     "text": [
      "5\n",
      "E \n",
      "D E \n",
      "C D E \n",
      "B C D E \n",
      "A B C D E \n"
     ]
    }
   ],
   "source": [
    "'''\n",
    "(12.) Interesting Alphabets :-\n",
    "Print the following pattern for the given N number of rows.\n",
    "Pattern for N = 5\n",
    "E\n",
    "D E\n",
    "C D E\n",
    "B C D E\n",
    "A B C D E\n",
    "'''\n",
    "n=int(input())\n",
    "i=n\n",
    "while i>0:\n",
    "    j=i\n",
    "    while j<=n:\n",
    "        print(chr(ord('A')+j-1),end=' ')\n",
    "        j=j+1\n",
    "    print()\n",
    "    i=i-1"
   ]
  },
  {
   "cell_type": "code",
   "execution_count": 7,
   "id": "6e905889",
   "metadata": {},
   "outputs": [
    {
     "name": "stdout",
     "output_type": "stream",
     "text": [
      "4\n",
      "* * * * \n",
      "* * * \n",
      "* * \n",
      "* \n"
     ]
    }
   ],
   "source": [
    "#Inverted Pattern\n",
    "'''\n",
    "* * * *\n",
    "* * *\n",
    "* *\n",
    "*\n",
    "'''\n",
    "n=int(input())\n",
    "i=1\n",
    "while i<=n:\n",
    "    j=n\n",
    "    while j>=i:\n",
    "        print(\"*\",end=' ')\n",
    "        j=j-1\n",
    "    print()\n",
    "    i=i+1"
   ]
  },
  {
   "cell_type": "code",
   "execution_count": 12,
   "id": "3e26302c",
   "metadata": {},
   "outputs": [
    {
     "name": "stdout",
     "output_type": "stream",
     "text": [
      "4\n",
      "4 4 4 4 \n",
      "3 3 3 \n",
      "2 2 \n",
      "1 \n"
     ]
    }
   ],
   "source": [
    "'''\n",
    "(14.) Inverted Number Pattern :-\n",
    "Print the following pattern for the given N number of rows.\n",
    "Pattern for N = 4\n",
    "4 4 4 4\n",
    "3 3 3\n",
    "2 2\n",
    "1\n",
    "'''\n",
    "n=int(input())\n",
    "i=n\n",
    "while i>=1:\n",
    "    j=1\n",
    "    while j<=i:\n",
    "        print(i,end=' ')\n",
    "        j=j+1\n",
    "    print()\n",
    "    i=i-1"
   ]
  },
  {
   "cell_type": "code",
   "execution_count": 15,
   "id": "1ec1259d",
   "metadata": {},
   "outputs": [
    {
     "name": "stdout",
     "output_type": "stream",
     "text": [
      "4\n",
      "      * \n",
      "    * * \n",
      "  * * * \n",
      "* * * * \n"
     ]
    }
   ],
   "source": [
    "'''\n",
    "Reversed Pattern :-\n",
    "      *\n",
    "    * *\n",
    "  * * *\n",
    "* * * *\n",
    "'''\n",
    "n=int(input())\n",
    "i=1\n",
    "while i<=n:\n",
    "    k=1\n",
    "    while k<=n-i:\n",
    "        print(\" \",end=' ')\n",
    "        k=k+1\n",
    "    j=1\n",
    "    while j<=i:\n",
    "        print(\"*\",end=' ')\n",
    "        j=j+1\n",
    "    print()    \n",
    "    i=i+1    "
   ]
  },
  {
   "cell_type": "code",
   "execution_count": 16,
   "id": "2703613d",
   "metadata": {},
   "outputs": [
    {
     "name": "stdout",
     "output_type": "stream",
     "text": [
      "4\n",
      "      1 \n",
      "    1 2 \n",
      "  1 2 3 \n",
      "1 2 3 4 \n"
     ]
    }
   ],
   "source": [
    "'''\n",
    "(16.) Mirror Number Pattern :-\n",
    "Print the following pattern for the given N number of rows.\n",
    "Pattern for N = 4\n",
    "      1\n",
    "    1 2\n",
    "  1 2 3\n",
    "1 2 3 4\n",
    "'''\n",
    "n=int(input())\n",
    "i=1\n",
    "while i<=n:\n",
    "    k=1\n",
    "    while k<=n-i:\n",
    "        print(\" \",end=' ')\n",
    "        k=k+1\n",
    "    j=1\n",
    "    while j<=i:\n",
    "        print(j,end=' ')\n",
    "        j=j+1\n",
    "    print()    \n",
    "    i=i+1 "
   ]
  },
  {
   "cell_type": "code",
   "execution_count": 22,
   "id": "7c52789e",
   "metadata": {
    "scrolled": true
   },
   "outputs": [
    {
     "name": "stdout",
     "output_type": "stream",
     "text": [
      "4\n",
      "      1 \n",
      "    1 2 1 \n",
      "  1 2 3 2 1 \n",
      "1 2 3 4 3 2 1 \n"
     ]
    }
   ],
   "source": [
    "'''\n",
    "Isosceles Pattern :-\n",
    "      1\n",
    "    1 2 1\n",
    "  1 2 3 2 1\n",
    "1 2 3 4 3 2 1\n",
    "'''\n",
    "n=int(input())\n",
    "i=1\n",
    "while i<=n:\n",
    "    k=1\n",
    "    while k<=n-i:\n",
    "        print(\" \",end=' ')\n",
    "        k=k+1\n",
    "    j=1\n",
    "    while j<=i:\n",
    "        print(j,end=' ')\n",
    "        j=j+1\n",
    "    l=i-1\n",
    "    while l>=1:\n",
    "        print(l,end=' ')\n",
    "        l=l-1\n",
    "    print()\n",
    "    i=i+1 "
   ]
  },
  {
   "cell_type": "code",
   "execution_count": 19,
   "id": "be36f69a",
   "metadata": {},
   "outputs": [
    {
     "name": "stdout",
     "output_type": "stream",
     "text": [
      "5\n",
      "        * \n",
      "      * * * \n",
      "    * * * * * \n",
      "  * * * * * * * \n",
      "* * * * * * * * * \n"
     ]
    }
   ],
   "source": [
    "'''\n",
    "(18.) Star Pattern :-\n",
    "Print the following pattern for the given N number of rows.\n",
    "Pattern for N = 4\n",
    "      *\n",
    "    * * *\n",
    "  * * * * *\n",
    "* * * * * * *\n",
    "'''\n",
    "n=int(input())\n",
    "i=1\n",
    "while i<=n:\n",
    "    k=1\n",
    "    while k<=n-i:\n",
    "        print(\" \",end=' ')\n",
    "        k=k+1\n",
    "    j=1\n",
    "    l=1\n",
    "    while j<=i*2-1:\n",
    "        print(\"*\",end=' ')\n",
    "        j=j+1\n",
    "    print()\n",
    "    i=i+1 "
   ]
  },
  {
   "cell_type": "code",
   "execution_count": 29,
   "id": "30381ec6",
   "metadata": {},
   "outputs": [
    {
     "name": "stdout",
     "output_type": "stream",
     "text": [
      "4\n",
      "      1 \n",
      "    2 3 2 \n",
      "  3 4 5 4 3 \n",
      "4 5 6 7 6 5 4 \n"
     ]
    }
   ],
   "source": [
    "'''\n",
    "(19.) Triangle of Numbers :-\n",
    "Print the following pattern for the given N number of rows.\n",
    "Pattern for N = 4\n",
    "      1\n",
    "    2 3 2\n",
    "  3 4 5 4 3\n",
    "4 5 6 7 6 5 4\n",
    "'''\n",
    "n=int(input())\n",
    "i=1\n",
    "while i<=n:\n",
    "    k=1\n",
    "    while k<=n-i:\n",
    "        print(\" \",end=' ')\n",
    "        k=k+1\n",
    "    j=i\n",
    "    while j<=i*2-1:\n",
    "        print(j,end=' ')\n",
    "        j=j+1\n",
    "    l=2*i-2\n",
    "    while l>=i:\n",
    "        print(l,end=' ')\n",
    "        l=l-1\n",
    "    print()\n",
    "    i=i+1 "
   ]
  },
  {
   "cell_type": "code",
   "execution_count": 45,
   "id": "9bc3e3d3",
   "metadata": {},
   "outputs": [
    {
     "name": "stdout",
     "output_type": "stream",
     "text": [
      "4\n",
      "      * \n",
      "    * * * \n",
      "  * * * * * \n",
      "* * * * * * * \n",
      "  * * * * * \n",
      "    * * * \n",
      "      * \n"
     ]
    }
   ],
   "source": [
    "'''\n",
    "(20.) Diamond of Stars :-\n",
    "Print the following pattern for the given N number of rows.\n",
    "Pattern for N = 4\n",
    "      *\n",
    "    * * *\n",
    "  * * * * *\n",
    "* * * * * * *\n",
    "  * * * * *\n",
    "    * * *\n",
    "      *\n",
    "'''\n",
    "n=int(input())\n",
    "i=1\n",
    "\n",
    "#Printing Upper Triangle\n",
    "while i<=n:\n",
    "    k=1\n",
    "    while k<=n-i:\n",
    "        print(\" \",end=' ')\n",
    "        k=k+1\n",
    "    j=1\n",
    "    while j<=i*2-1:\n",
    "        print(\"*\",end=' ')\n",
    "        j=j+1\n",
    "    print()\n",
    "    i=i+1\n",
    "\n",
    "#Printing Lower Triangle\n",
    "i=1\n",
    "while i<=n-1:\n",
    "    k=1\n",
    "    while k<=i:\n",
    "        print(\" \",end=' ')\n",
    "        k=k+1\n",
    "    j=n*2-1\n",
    "    while j>2*i:\n",
    "        print(\"*\",end=' ')\n",
    "        j=j-1\n",
    "    print()\n",
    "    i=i+1\n",
    "    "
   ]
  }
 ],
 "metadata": {
  "kernelspec": {
   "display_name": "Python 3 (ipykernel)",
   "language": "python",
   "name": "python3"
  },
  "language_info": {
   "codemirror_mode": {
    "name": "ipython",
    "version": 3
   },
   "file_extension": ".py",
   "mimetype": "text/x-python",
   "name": "python",
   "nbconvert_exporter": "python",
   "pygments_lexer": "ipython3",
   "version": "3.10.9"
  }
 },
 "nbformat": 4,
 "nbformat_minor": 5
}
