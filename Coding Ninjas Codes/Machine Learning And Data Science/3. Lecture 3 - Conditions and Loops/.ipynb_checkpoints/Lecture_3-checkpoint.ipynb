{
 "cells": [
  {
   "cell_type": "markdown",
   "id": "d67b1fe3",
   "metadata": {},
   "source": [
    "## Boolean Datatype\n",
    "Stores True or False"
   ]
  },
  {
   "cell_type": "code",
   "execution_count": 2,
   "id": "8c7177c2",
   "metadata": {},
   "outputs": [
    {
     "name": "stdout",
     "output_type": "stream",
     "text": [
      "True\n",
      "<class 'bool'>\n"
     ]
    }
   ],
   "source": [
    "a=True\n",
    "b=True\n",
    "\n",
    "print(a)\n",
    "print(type(b))"
   ]
  },
  {
   "cell_type": "markdown",
   "id": "006facaf",
   "metadata": {},
   "source": [
    "## Relational Operators\n",
    "Compares two values and gives true or false as output"
   ]
  },
  {
   "cell_type": "code",
   "execution_count": 3,
   "id": "9a8b1133",
   "metadata": {},
   "outputs": [
    {
     "name": "stdout",
     "output_type": "stream",
     "text": [
      "False\n",
      "True\n",
      "False\n",
      "False\n",
      "True\n",
      "True\n"
     ]
    }
   ],
   "source": [
    "a=10\n",
    "b=20\n",
    "print(a>b) # Greater than\n",
    "print(a<b) # Less than\n",
    "print(a==b) # Is equal to\n",
    "print(a>=b) # Is greater than or equal to\n",
    "print(a<=b) # Is less than or equal to\n",
    "print(a!=b) # Is not equal to"
   ]
  },
  {
   "cell_type": "markdown",
   "id": "3d43f914",
   "metadata": {},
   "source": [
    "## Logical Operators"
   ]
  },
  {
   "cell_type": "code",
   "execution_count": 4,
   "id": "3ea0cd4e",
   "metadata": {},
   "outputs": [
    {
     "name": "stdout",
     "output_type": "stream",
     "text": [
      "False\n",
      "True\n",
      "True\n"
     ]
    }
   ],
   "source": [
    "a=10\n",
    "b=20\n",
    "c1=a>b\n",
    "c2=a<b\n",
    "c3=a==b\n",
    "print(c1 and c2) # If all are true then returns true else returns false\n",
    "print(c2 or c3) # If any one is true then returns true else returns false\n",
    "r1=not c3 # Assign a==b -> true due to not logical operator\n",
    "print(r1)"
   ]
  },
  {
   "cell_type": "markdown",
   "id": "3e2a5526",
   "metadata": {},
   "source": [
    "## If-else\n",
    "Used for checking decisions"
   ]
  },
  {
   "cell_type": "code",
   "execution_count": 5,
   "id": "48cc5ee4",
   "metadata": {},
   "outputs": [
    {
     "name": "stdout",
     "output_type": "stream",
     "text": [
      "I am inside if\n",
      "I am inside if 2\n"
     ]
    }
   ],
   "source": [
    "a=True\n",
    "if a:\n",
    "    print('I am inside if')\n",
    "    print(\"I am inside if 2\")\n",
    "else :\n",
    "    print(\"I am outside if\")"
   ]
  },
  {
   "cell_type": "code",
   "execution_count": 6,
   "id": "1fa58769",
   "metadata": {},
   "outputs": [
    {
     "name": "stdout",
     "output_type": "stream",
     "text": [
      "Enter a number 5\n",
      "Odd\n"
     ]
    }
   ],
   "source": [
    "# Check number to be odd or even\n",
    "\n",
    "n=int(input(\"Enter a number \"))\n",
    "if n%2==0:\n",
    "    print(\"Even\")\n",
    "else :\n",
    "    print(\"Odd\")"
   ]
  },
  {
   "cell_type": "code",
   "execution_count": 8,
   "id": "8b4ca486",
   "metadata": {},
   "outputs": [
    {
     "name": "stdout",
     "output_type": "stream",
     "text": [
      "4\n",
      "Greater than 3\n"
     ]
    }
   ],
   "source": [
    "# If-else Ladder using elif\n",
    "\n",
    "a=int(input())\n",
    "if a==1:\n",
    "    print(\"one\")\n",
    "elif a==2:\n",
    "    print(\"two\")\n",
    "elif a==3:\n",
    "    print(\"three\")\n",
    "else :\n",
    "    print(\"Greater than 3\")"
   ]
  },
  {
   "cell_type": "code",
   "execution_count": 9,
   "id": "bdac691c",
   "metadata": {},
   "outputs": [
    {
     "name": "stdout",
     "output_type": "stream",
     "text": [
      "a is greater than 2\n",
      "a is 5\n"
     ]
    }
   ],
   "source": [
    "# Multiple If-else\n",
    "\n",
    "a=5\n",
    "if(a>2):\n",
    "    print(\"a is greater than 2\")\n",
    "if(a==5):\n",
    "    print(\"a is 5\")\n",
    "else :\n",
    "    print(\"a is greater than 5\")"
   ]
  },
  {
   "cell_type": "markdown",
   "id": "5c29849d",
   "metadata": {},
   "source": [
    "## Using Operators in If-else"
   ]
  },
  {
   "cell_type": "code",
   "execution_count": 1,
   "id": "a8c0ff71",
   "metadata": {},
   "outputs": [
    {
     "name": "stdout",
     "output_type": "stream",
     "text": [
      "10\n",
      "10\n",
      "Both a and b are less than 10\n"
     ]
    }
   ],
   "source": [
    "# Checking two numbers are greater than 10 or not !\n",
    "\n",
    "a=int(input())\n",
    "b=int(input())\n",
    "r= a>10 and b>10\n",
    "if r:\n",
    "    print(\"Both a and b are greater than 10\")\n",
    "elif a>10 and b<10:\n",
    "    print(\"a is greater than 10 and b is less than 10\")\n",
    "elif a<10 and b>10:\n",
    "    print(\"a is less than 10 and b is greater than 10\")\n",
    "else:\n",
    "    print(\"Both a and b are less than 10\")"
   ]
  },
  {
   "cell_type": "markdown",
   "id": "9a84b066",
   "metadata": {},
   "source": [
    "## 9. Check Number :-\n",
    "Given an integer n, find if n is positive, negative or 0.\n",
    "If n is positive, print \"Positive\"\n",
    "If n is negative, print \"Negative\"\n",
    "And if n is equal to 0, print \"Zero\"."
   ]
  },
  {
   "cell_type": "code",
   "execution_count": 13,
   "id": "11c6b8a8",
   "metadata": {},
   "outputs": [
    {
     "name": "stdout",
     "output_type": "stream",
     "text": [
      "5\n",
      "Positive\n"
     ]
    }
   ],
   "source": [
    "n=int(input())\n",
    "if n>0:\n",
    "    print(\"Positive\")\n",
    "elif n<0:\n",
    "    print(\"Negative\")\n",
    "else : \n",
    "    print(\"Zero\")"
   ]
  },
  {
   "cell_type": "markdown",
   "id": "c9e5fedc",
   "metadata": {},
   "source": [
    "## Nested Conditionals :-\n",
    "If statement under an if statement"
   ]
  },
  {
   "cell_type": "code",
   "execution_count": 2,
   "id": "78c8005a",
   "metadata": {},
   "outputs": [
    {
     "name": "stdout",
     "output_type": "stream",
     "text": [
      "0\n",
      "n is even\n",
      "n is zero\n"
     ]
    }
   ],
   "source": [
    "n=int(input())\n",
    "if n%2==0:\n",
    "    print(\"n is even\")\n",
    "    if n==0:\n",
    "        print(\"n is zero\")\n",
    "else:\n",
    "    print(\"n is odd\")"
   ]
  },
  {
   "cell_type": "markdown",
   "id": "49d72f72",
   "metadata": {},
   "source": [
    "## While Loop :-\n",
    "The idea of using loops is to doing a work repeatedly"
   ]
  },
  {
   "cell_type": "code",
   "execution_count": null,
   "id": "768ddfbe",
   "metadata": {},
   "outputs": [],
   "source": [
    "'''\n",
    "Syntax of while loop\n",
    "\n",
    "while(condition):\n",
    "    code goes here\n",
    "    updation\n",
    "'''"
   ]
  },
  {
   "cell_type": "code",
   "execution_count": 1,
   "id": "0edc72a9",
   "metadata": {},
   "outputs": [
    {
     "name": "stdout",
     "output_type": "stream",
     "text": [
      "10\n",
      "1\n",
      "2\n",
      "3\n",
      "4\n",
      "5\n",
      "6\n",
      "7\n",
      "8\n",
      "9\n",
      "10\n"
     ]
    }
   ],
   "source": [
    "# Printing 1 to n\n",
    "\n",
    "n=int(input())\n",
    "init = 1\n",
    "while(init <=n ):\n",
    "    print(init)\n",
    "    init=init+1"
   ]
  },
  {
   "cell_type": "markdown",
   "id": "00070b3f",
   "metadata": {},
   "source": [
    "## 14. Sum of n Natural Numbers"
   ]
  },
  {
   "cell_type": "code",
   "execution_count": 2,
   "id": "27a222c5",
   "metadata": {},
   "outputs": [
    {
     "name": "stdout",
     "output_type": "stream",
     "text": [
      "10\n",
      "55\n"
     ]
    }
   ],
   "source": [
    "n=int(input())\n",
    "sum=0\n",
    "i=1\n",
    "while(i<=n):\n",
    "    sum=sum+i\n",
    "    i=i+1\n",
    "print(sum)"
   ]
  },
  {
   "cell_type": "markdown",
   "id": "b77a2b26",
   "metadata": {},
   "source": [
    "## 15. Sum of even numbers till n"
   ]
  },
  {
   "cell_type": "code",
   "execution_count": 3,
   "id": "be54da8e",
   "metadata": {},
   "outputs": [
    {
     "name": "stdout",
     "output_type": "stream",
     "text": [
      "6\n",
      "12\n"
     ]
    }
   ],
   "source": [
    "n=int(input())\n",
    "sum=0\n",
    "i=1\n",
    "while(i<=n):\n",
    "    if i%2==0:\n",
    "        sum=sum+i\n",
    "    i=i+1\n",
    "print(sum)    "
   ]
  },
  {
   "cell_type": "markdown",
   "id": "cd2661fa",
   "metadata": {},
   "source": [
    "## Primality Checking"
   ]
  },
  {
   "cell_type": "code",
   "execution_count": 7,
   "id": "b784caf8",
   "metadata": {},
   "outputs": [
    {
     "name": "stdout",
     "output_type": "stream",
     "text": [
      "2\n",
      "Prime\n"
     ]
    }
   ],
   "source": [
    "# Check Prime\n",
    "\n",
    "n=int(input())\n",
    "flag = False\n",
    "d=2\n",
    "while(d<n):\n",
    "    if(n%d==0):\n",
    "        flag=True\n",
    "    d=d+1\n",
    "if(flag):\n",
    "    print(\"Not Prime\")\n",
    "else:\n",
    "    print(\"Prime\")"
   ]
  },
  {
   "cell_type": "markdown",
   "id": "8e545270",
   "metadata": {},
   "source": [
    "## Nested Loops :-\n",
    "A loop under a loop"
   ]
  },
  {
   "cell_type": "code",
   "execution_count": 11,
   "id": "53da4a3a",
   "metadata": {},
   "outputs": [
    {
     "name": "stdout",
     "output_type": "stream",
     "text": [
      "20\n",
      "2\n",
      "3\n",
      "5\n",
      "7\n",
      "11\n",
      "13\n",
      "17\n",
      "19\n"
     ]
    }
   ],
   "source": [
    "#Printing Prime numbers in range of (2,n) \n",
    "\n",
    "n=int(input())\n",
    "i=2\n",
    "while i<=n:\n",
    "    flag=False\n",
    "    d=2\n",
    "    while(d<i):\n",
    "        if(i%d==0):\n",
    "            flag=True\n",
    "        d=d+1\n",
    "    if(not flag):\n",
    "        print(i)\n",
    "    i=i+1\n",
    "    "
   ]
  },
  {
   "cell_type": "markdown",
   "id": "bd091531",
   "metadata": {},
   "source": [
    "## 21. Fahrenhite to Celsius\n",
    "Given three values - Start Fahrenheit Value (S), End Fahrenheit value (E) and Step Size (W), you need to convert all Fahrenheit values from Start to End at the gap of W, into their corresponding Celsius values and print the table."
   ]
  },
  {
   "cell_type": "code",
   "execution_count": 15,
   "id": "53312802",
   "metadata": {},
   "outputs": [
    {
     "name": "stdout",
     "output_type": "stream",
     "text": [
      "0\n",
      "30\n",
      "5\n",
      "Celcius        Fahrenhite\n",
      "0              32.0\n",
      "5              41.0\n",
      "10              50.0\n",
      "15              59.0\n",
      "20              68.0\n",
      "25              77.0\n",
      "30              86.0\n"
     ]
    }
   ],
   "source": [
    "S=int(input())\n",
    "E=int(input())\n",
    "W=int(input())\n",
    "print(\"Celcius        Fahrenhite\")\n",
    "while(S<=E):\n",
    "    f=S*9/5+32\n",
    "    print(str(S)+\"              \"+str(f))\n",
    "    S=S+W"
   ]
  }
 ],
 "metadata": {
  "kernelspec": {
   "display_name": "Python 3 (ipykernel)",
   "language": "python",
   "name": "python3"
  },
  "language_info": {
   "codemirror_mode": {
    "name": "ipython",
    "version": 3
   },
   "file_extension": ".py",
   "mimetype": "text/x-python",
   "name": "python",
   "nbconvert_exporter": "python",
   "pygments_lexer": "ipython3",
   "version": "3.10.9"
  }
 },
 "nbformat": 4,
 "nbformat_minor": 5
}
