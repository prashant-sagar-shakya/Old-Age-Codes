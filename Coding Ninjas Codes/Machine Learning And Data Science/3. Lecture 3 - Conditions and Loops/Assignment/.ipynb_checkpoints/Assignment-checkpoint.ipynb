{
 "cells": [
  {
   "cell_type": "markdown",
   "id": "f8c8d581",
   "metadata": {},
   "source": [
    "## 1. Calculator\n",
    "Write a program that performs the tasks of a simple calculator. The program should first take an integer as input and then based on that integer perform the task as given below.\n",
    "1. If the input is 1, then 2 integers are taken from the user and their sum is printed.\n",
    "2. If the input is 2, then 2 integers are taken from the user and their difference(1st number - 2nd number) is printed.\n",
    "3. If the input is 3, then 2 integers are taken from the user and their product is printed.\n",
    "4. If the input is 4, then 2 integers are taken from the user and the quotient obtained (on dividing 1st number by 2nd number) is printed.\n",
    "5. If the input is 5, then 2 integers are taken from the user and their remainder(1st number mod 2nd number) is printed.\n",
    "6. If the input is 6, then the program exits.\n",
    "7. For any other input, then print \"Invalid Operation\".\n",
    "Note: Each answer in next line.\n"
   ]
  },
  {
   "cell_type": "code",
   "execution_count": 2,
   "id": "2907e2e1",
   "metadata": {},
   "outputs": [
    {
     "name": "stdout",
     "output_type": "stream",
     "text": [
      "7\n",
      "7\n",
      "7\n",
      "Invalid Operation\n"
     ]
    }
   ],
   "source": [
    "n=int(input())\n",
    "a=int(input())\n",
    "b=int(input())\n",
    "\n",
    "if(n==1):\n",
    "    print(a+b)\n",
    "elif(n==2):\n",
    "    print(a-b)\n",
    "elif(n==3):\n",
    "    print(a*b)\n",
    "elif(n==4):\n",
    "    print(a/b)\n",
    "elif(n==5):\n",
    "    print(a%b)\n",
    "elif(n==6):\n",
    "    exit()  #Program exits kernel Dead\n",
    "else:\n",
    "    print(\"Invalid Operation\")"
   ]
  },
  {
   "cell_type": "markdown",
   "id": "c41d751b",
   "metadata": {},
   "source": [
    "## 2. Reverse of  a Number\n",
    "Write a program to generate the reverse of a given number N. Print the corresponding reverse number.\n",
    "Note : If a number has trailing zeros, then its reverse will not include them. For e.g., reverse of 10400 will be 401 instead of 00401."
   ]
  },
  {
   "cell_type": "code",
   "execution_count": 4,
   "id": "d757c85c",
   "metadata": {},
   "outputs": [
    {
     "name": "stdout",
     "output_type": "stream",
     "text": [
      "10400\n",
      "401\n"
     ]
    }
   ],
   "source": [
    "n=int(input())\n",
    "rev=0\n",
    "while(n!=0):\n",
    "    last=n%10\n",
    "    rev=rev*10+last\n",
    "    n=n//10\n",
    "print(rev)"
   ]
  },
  {
   "cell_type": "markdown",
   "id": "2619cbc0",
   "metadata": {},
   "source": [
    "## 3. Palindrome Number\n",
    "Reverse of the number is equal to the original number"
   ]
  },
  {
   "cell_type": "code",
   "execution_count": 5,
   "id": "5f1264d7",
   "metadata": {},
   "outputs": [
    {
     "name": "stdout",
     "output_type": "stream",
     "text": [
      "121\n",
      "It's a palindrome\n"
     ]
    }
   ],
   "source": [
    "n=int(input())\n",
    "actual=n\n",
    "rev=0\n",
    "while(n!=0):\n",
    "    last=n%10\n",
    "    rev=rev*10+last\n",
    "    n=n//10\n",
    "if(actual==rev):\n",
    "    print(\"It's a palindrome\")\n",
    "else:\n",
    "    print(\"It's not a palindrome\")"
   ]
  },
  {
   "cell_type": "markdown",
   "id": "7fa9e519",
   "metadata": {},
   "source": [
    "## 4. Sum of Even and Odds\n",
    "Write a program to input an integer N and print the sum of all its even digits and sum of all its odd digits separately.\n",
    "Digits mean numbers, not the places! That is, if the given integer is \"13245\", even digits are 2 & 4 and odd digits are 1, 3 & 5."
   ]
  },
  {
   "cell_type": "code",
   "execution_count": 6,
   "id": "f202a636",
   "metadata": {},
   "outputs": [
    {
     "name": "stdout",
     "output_type": "stream",
     "text": [
      "13245\n",
      "6 9\n"
     ]
    }
   ],
   "source": [
    "n=int(input())\n",
    "even=0\n",
    "odd=0\n",
    "while(n!=0):\n",
    "    last=n%10\n",
    "    if(last%2==0):\n",
    "        even=even+last\n",
    "    else:\n",
    "        odd=odd+last\n",
    "    n=n//10\n",
    "print(even,odd)"
   ]
  },
  {
   "cell_type": "markdown",
   "id": "08c67e8a",
   "metadata": {},
   "source": [
    "## 5. Nth Fibonacci Number\n",
    "Nth term of fibonacci series F(n) is calculated using following formula -\n",
    "    F(n) = F(n-1) + F(n-2), \n",
    "    Where, F(1) = F(2) = 1\n",
    "Provided N you have to find out the Nth Fibonacci Number."
   ]
  },
  {
   "cell_type": "code",
   "execution_count": 4,
   "id": "af88ac15",
   "metadata": {},
   "outputs": [
    {
     "name": "stdout",
     "output_type": "stream",
     "text": [
      "6\n",
      "8\n"
     ]
    }
   ],
   "source": [
    "n=int(input())\n",
    "i=1\n",
    "n1=1\n",
    "n2=1\n",
    "nt=0\n",
    "while(i<=n):\n",
    "    n1=n2\n",
    "    n2=nt\n",
    "    nt=n1+n2\n",
    "    i=i+1\n",
    "print(nt)"
   ]
  }
 ],
 "metadata": {
  "kernelspec": {
   "display_name": "Python 3 (ipykernel)",
   "language": "python",
   "name": "python3"
  },
  "language_info": {
   "codemirror_mode": {
    "name": "ipython",
    "version": 3
   },
   "file_extension": ".py",
   "mimetype": "text/x-python",
   "name": "python",
   "nbconvert_exporter": "python",
   "pygments_lexer": "ipython3",
   "version": "3.10.9"
  }
 },
 "nbformat": 4,
 "nbformat_minor": 5
}
