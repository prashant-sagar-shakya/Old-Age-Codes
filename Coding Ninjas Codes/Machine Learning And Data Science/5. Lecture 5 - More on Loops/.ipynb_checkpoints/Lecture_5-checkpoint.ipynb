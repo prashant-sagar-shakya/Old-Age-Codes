{
 "cells": [
  {
   "cell_type": "markdown",
   "id": "b5582cd6",
   "metadata": {},
   "source": [
    "## The for loop, using for a sequence or container\n",
    "for i in sequence: or, for i in container:"
   ]
  },
  {
   "cell_type": "code",
   "execution_count": 1,
   "id": "86e7e2d0",
   "metadata": {},
   "outputs": [
    {
     "name": "stdout",
     "output_type": "stream",
     "text": [
      "a\n",
      "b\n",
      "c\n",
      "d\n"
     ]
    }
   ],
   "source": [
    "s=\"abcd\"\n",
    "for c in s:\n",
    "    print(c)"
   ]
  },
  {
   "cell_type": "markdown",
   "id": "cbb2d540",
   "metadata": {},
   "source": [
    "## The Range Method\n",
    "for i in range (start,stop,stride). By default start = 0, stride = +1. Start is included and Stop is excluded."
   ]
  },
  {
   "cell_type": "code",
   "execution_count": 6,
   "id": "d14969b1",
   "metadata": {},
   "outputs": [
    {
     "name": "stdout",
     "output_type": "stream",
     "text": [
      "5\n",
      "1\n",
      "2\n",
      "3\n",
      "4\n",
      "5\n"
     ]
    }
   ],
   "source": [
    "#Printing first n natural numbers using for loop\n",
    "#Giving all three arguments to range\n",
    "\n",
    "n=int(input())\n",
    "for i in range(1,n+1,1):\n",
    "    print(i)"
   ]
  },
  {
   "cell_type": "code",
   "execution_count": 8,
   "id": "02398093",
   "metadata": {},
   "outputs": [
    {
     "name": "stdout",
     "output_type": "stream",
     "text": [
      "5\n",
      "0\n",
      "1\n",
      "2\n",
      "3\n",
      "4\n",
      "5\n"
     ]
    }
   ],
   "source": [
    "#Printing 1 to n\n",
    "#Giving only one argument stop\n",
    "#By default start = 0 and stride = +1\n",
    "\n",
    "n=int(input())\n",
    "for i in range(n+1):\n",
    "    print(i)"
   ]
  },
  {
   "cell_type": "code",
   "execution_count": 9,
   "id": "b1fe8273",
   "metadata": {},
   "outputs": [
    {
     "name": "stdout",
     "output_type": "stream",
     "text": [
      "5\n",
      "1\n",
      "2\n",
      "3\n",
      "4\n",
      "5\n"
     ]
    }
   ],
   "source": [
    "#Printing 1 to n\n",
    "#Giving only two arguments start and stop\n",
    "#By default stride = +1\n",
    "\n",
    "n=int(input())\n",
    "for i in range(1,n+1):\n",
    "    print(i)"
   ]
  },
  {
   "cell_type": "code",
   "execution_count": 10,
   "id": "fab8030b",
   "metadata": {},
   "outputs": [
    {
     "name": "stdout",
     "output_type": "stream",
     "text": [
      "5\n",
      "5\n",
      "4\n",
      "3\n",
      "2\n",
      "1\n"
     ]
    }
   ],
   "source": [
    "#Printing n to 1\n",
    "\n",
    "n=int(input())\n",
    "for i in range(n,0,-1):\n",
    "    print(i)"
   ]
  },
  {
   "cell_type": "code",
   "execution_count": 12,
   "id": "7b832299",
   "metadata": {},
   "outputs": [
    {
     "name": "stdout",
     "output_type": "stream",
     "text": [
      "100\n",
      "3 6 9 12 15 18 21 24 27 30 33 36 39 42 45 48 51 54 57 60 63 66 69 72 75 78 81 84 87 90 93 96 99 "
     ]
    }
   ],
   "source": [
    "#Printing Multiple of 3 till n, a < b\n",
    "\n",
    "a=int(input())\n",
    "b=int(input())\n",
    "for i in range (a,b+1):\n",
    "    if(i%3==0):\n",
    "        print(i,end=' ')"
   ]
  },
  {
   "cell_type": "code",
   "execution_count": 16,
   "id": "6da62e0e",
   "metadata": {},
   "outputs": [
    {
     "name": "stdout",
     "output_type": "stream",
     "text": [
      "2\n",
      "100\n",
      "3 6 9 12 15 18 21 24 27 30 33 36 39 42 45 48 51 54 57 60 63 66 69 72 75 78 81 84 87 90 93 96 99 "
     ]
    }
   ],
   "source": [
    "#Printing Multiple of 3 till n ANOTHER LOGIC INCREMENTING BY 3, a < b\n",
    "\n",
    "a=int(input())\n",
    "b=int(input())\n",
    "if(a%3==1):\n",
    "    a=a+2\n",
    "elif(a%3==2):\n",
    "    a=a+1\n",
    "for i in range (a,b+1,3):\n",
    "        print(i,end=' ')"
   ]
  },
  {
   "cell_type": "markdown",
   "id": "e4035c1e",
   "metadata": {},
   "source": [
    "## 5. Terms of A.P :-\n",
    "Write a program to print first x terms of the series 3N + 2 which are not multiples of 4."
   ]
  },
  {
   "cell_type": "code",
   "execution_count": null,
   "id": "5ecf632b",
   "metadata": {},
   "outputs": [],
   "source": [
    "n=int(input())\n",
    "count=0\n",
    "i=1\n",
    "while(count<=n):\n",
    "    res=3*i+2\n",
    "    i=i+1\n",
    "    if(res%4==0):\n",
    "        continue\n",
    "    print(res,end=' ')\n",
    "    count=count+1\n",
    "    if(count==n):\n",
    "        break"
   ]
  },
  {
   "cell_type": "markdown",
   "id": "1f278566",
   "metadata": {},
   "source": [
    "## Prime Check :-"
   ]
  },
  {
   "cell_type": "code",
   "execution_count": 38,
   "id": "88880746",
   "metadata": {},
   "outputs": [
    {
     "name": "stdout",
     "output_type": "stream",
     "text": [
      "10\n",
      "Not Prime\n"
     ]
    }
   ],
   "source": [
    "#Check a number is prime or not using for loop\n",
    "\n",
    "n=int(input())\n",
    "flag = True\n",
    "for i in range(2,n,1):\n",
    "    if n%i==0:\n",
    "        flag=False\n",
    "if(flag):\n",
    "    print(\"Prime\")\n",
    "else:\n",
    "    print(\"Not Prime\")"
   ]
  },
  {
   "cell_type": "code",
   "execution_count": 22,
   "id": "9f049f60",
   "metadata": {},
   "outputs": [
    {
     "name": "stdout",
     "output_type": "stream",
     "text": [
      "4\n",
      "      1 \n",
      "    2 3 2 \n",
      "  3 4 5 4 3 \n",
      "4 5 6 7 6 5 4 \n"
     ]
    }
   ],
   "source": [
    "'''\n",
    "Print the pattern using for loop\n",
    "      1\n",
    "    2 3 2\n",
    "  3 4 5 4 3\n",
    "4 5 6 7 6 5 4\n",
    "'''\n",
    "n=int(input())\n",
    "for i in range(1,n+1):\n",
    "    for k in range(n-i):\n",
    "        print(\" \",end=' ')\n",
    "    for j in range(i,2*i):\n",
    "        print(j,end=' ')\n",
    "    for l in range(2*i-2,i-1,-1):\n",
    "        print(l,end=' ')\n",
    "    print()"
   ]
  },
  {
   "cell_type": "markdown",
   "id": "9266066a",
   "metadata": {},
   "source": [
    "## 8. Sum or Product :-\n",
    "Write a program that asks the user for a number N and a choice C. And then give them the possibility to choose between computing the sum and computing the product of all integers in the range 1 to N (both inclusive).\n",
    "If C is equal to\n",
    " 1, then print the sum\n",
    " 2, then print the product\n",
    " Any other number, then print '-1' (without the quotes)"
   ]
  },
  {
   "cell_type": "code",
   "execution_count": 26,
   "id": "6e302626",
   "metadata": {},
   "outputs": [
    {
     "name": "stdout",
     "output_type": "stream",
     "text": [
      "10\n",
      "2\n",
      "3628800\n"
     ]
    }
   ],
   "source": [
    "n=int(input())\n",
    "c=int(input())\n",
    "sum=0\n",
    "mul=1\n",
    "if(c==1):\n",
    "    for i in range (1,n+1):\n",
    "        sum=sum+i\n",
    "    print(sum)\n",
    "elif (c==2):\n",
    "    for i in range(1,n+1):\n",
    "        mul=mul*i\n",
    "    print(mul)\n",
    "else :\n",
    "    print(-1)"
   ]
  },
  {
   "cell_type": "markdown",
   "id": "21ab7ab5",
   "metadata": {},
   "source": [
    "## Break Keyword\n",
    "Used to exit the loop on a spcific condition"
   ]
  },
  {
   "cell_type": "code",
   "execution_count": 33,
   "id": "7e2da20f",
   "metadata": {},
   "outputs": [
    {
     "name": "stdout",
     "output_type": "stream",
     "text": [
      "1\n",
      "2\n",
      "3\n",
      "4\n"
     ]
    }
   ],
   "source": [
    "i=1\n",
    "while i<10:\n",
    "    if(i==5):\n",
    "        break\n",
    "    print(i)\n",
    "    i=i+1"
   ]
  },
  {
   "cell_type": "markdown",
   "id": "2429ad88",
   "metadata": {},
   "source": [
    "#### Prime Check Using Break Statement"
   ]
  },
  {
   "cell_type": "code",
   "execution_count": 42,
   "id": "c2ef8185",
   "metadata": {},
   "outputs": [
    {
     "name": "stdout",
     "output_type": "stream",
     "text": [
      "19\n",
      "Prime\n"
     ]
    }
   ],
   "source": [
    "n=int(input())\n",
    "i=2\n",
    "flag=True\n",
    "while i<n:\n",
    "    if(n%i==0):\n",
    "        flag=False\n",
    "        break\n",
    "    i=i+1\n",
    "if(flag):\n",
    "    print(\"Prime\")\n",
    "else:\n",
    "    print(\"Not Prime\")"
   ]
  },
  {
   "cell_type": "markdown",
   "id": "f21fe608",
   "metadata": {},
   "source": [
    "## 12. Square Root (Integral)\n",
    "Given a number N, find its square root. You need to find and print only the integral part of square root of N.\n",
    "For eg. if number given is 18, answer is 4."
   ]
  },
  {
   "cell_type": "code",
   "execution_count": 46,
   "id": "cc433e31",
   "metadata": {},
   "outputs": [
    {
     "name": "stdout",
     "output_type": "stream",
     "text": [
      "4\n",
      "2\n"
     ]
    }
   ],
   "source": [
    "n=int(input())\n",
    "for i in range(1,n):\n",
    "    if i*i>n:\n",
    "        break\n",
    "print(i-1)"
   ]
  },
  {
   "cell_type": "markdown",
   "id": "cc8c2b81",
   "metadata": {},
   "source": [
    "## Else Keyword with loops :-\n",
    "In Python we can use else keyword with loops also"
   ]
  },
  {
   "cell_type": "code",
   "execution_count": null,
   "id": "48f8fba4",
   "metadata": {},
   "outputs": [],
   "source": [
    "i=1\n",
    "while i<10:\n",
    "    print(i)\n",
    "    i=i+1\n",
    "else:\n",
    "    print(\"Hi baby\")"
   ]
  }
 ],
 "metadata": {
  "kernelspec": {
   "display_name": "Python 3 (ipykernel)",
   "language": "python",
   "name": "python3"
  },
  "language_info": {
   "codemirror_mode": {
    "name": "ipython",
    "version": 3
   },
   "file_extension": ".py",
   "mimetype": "text/x-python",
   "name": "python",
   "nbconvert_exporter": "python",
   "pygments_lexer": "ipython3",
   "version": "3.10.9"
  }
 },
 "nbformat": 4,
 "nbformat_minor": 5
}
