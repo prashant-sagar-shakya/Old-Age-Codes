{
 "cells": [
  {
   "cell_type": "markdown",
   "id": "4eba17fd",
   "metadata": {},
   "source": [
    "## 1. Decimal to Binary\n",
    "Given a decimal number (integer N), convert it into binary and print.\n",
    "The binary number should be in the form of an integer.\n",
    "Note : The given input number could be large, so the corresponding binary number can exceed the integer range. So you may want to take the answer as long for CPP and Java.\n"
   ]
  },
  {
   "cell_type": "code",
   "execution_count": 16,
   "id": "51465f61",
   "metadata": {},
   "outputs": [
    {
     "name": "stdout",
     "output_type": "stream",
     "text": [
      "12\n",
      "1100\n"
     ]
    }
   ],
   "source": [
    "n=int(input())\n",
    "i=0\n",
    "bin=0\n",
    "while(n!=0):\n",
    "    last=n&1\n",
    "    bin=(10**i)*last+bin\n",
    "    n=n>>1\n",
    "    i=i+1\n",
    "print(bin)"
   ]
  },
  {
   "cell_type": "markdown",
   "id": "08ada544",
   "metadata": {},
   "source": [
    "## 2. Binary to Decimal\n",
    "Given a binary number as an integer N, convert it into decimal and print."
   ]
  },
  {
   "cell_type": "code",
   "execution_count": 18,
   "id": "6b43dcc8",
   "metadata": {},
   "outputs": [
    {
     "name": "stdout",
     "output_type": "stream",
     "text": [
      "1100\n",
      "12\n"
     ]
    }
   ],
   "source": [
    "n=int(input())\n",
    "i=0\n",
    "bin=0\n",
    "while(n!=0):\n",
    "    last=n%10\n",
    "    bin=(2**i)*last+bin\n",
    "    n=n//10\n",
    "    i=i+1\n",
    "print(bin)"
   ]
  },
  {
   "cell_type": "markdown",
   "id": "392e977f",
   "metadata": {},
   "source": [
    "## 3. Even Fibonacci Number\n",
    "Given a number N find the sum of all the even valued terms in the fibonacci sequence less than or equal to N. Try generating only even fibonacci numbers instead of iterating over all Fibonacci numbers."
   ]
  },
  {
   "cell_type": "code",
   "execution_count": 13,
   "id": "4b4b315d",
   "metadata": {},
   "outputs": [
    {
     "name": "stdout",
     "output_type": "stream",
     "text": [
      "400\n",
      "188\n"
     ]
    }
   ],
   "source": [
    "def fib(n):\n",
    "    n1=1\n",
    "    n2=1\n",
    "    nt=0\n",
    "    for i in range (1,n+1):\n",
    "        n1=n2\n",
    "        n2=nt\n",
    "        nt=n1+n2\n",
    "    return nt\n",
    "\n",
    "n=int(input())\n",
    "sum=0\n",
    "for i in range (1,n+1):\n",
    "    res = fib(i)\n",
    "    if(res%2==0 and res<=n):\n",
    "        sum=sum+res\n",
    "print(sum)"
   ]
  },
  {
   "cell_type": "markdown",
   "id": "f43f8165",
   "metadata": {},
   "source": [
    "## 4. Trailing zeros in n! without calcuating the factorial\n",
    "Concept :- No. of trailling zeros in n! = Number of times n! is divisible by 10 = Highest power of 10 which divides n! = Highest power of 5 in n!"
   ]
  },
  {
   "cell_type": "code",
   "execution_count": 12,
   "id": "eb8a3cfa",
   "metadata": {},
   "outputs": [
    {
     "name": "stdout",
     "output_type": "stream",
     "text": [
      "50\n",
      "12\n"
     ]
    }
   ],
   "source": [
    "n=int(input())\n",
    "sum=0\n",
    "while(n!=0):\n",
    "    sum=sum+n//5\n",
    "    n=n//5\n",
    "print(sum)"
   ]
  }
 ],
 "metadata": {
  "kernelspec": {
   "display_name": "Python 3 (ipykernel)",
   "language": "python",
   "name": "python3"
  },
  "language_info": {
   "codemirror_mode": {
    "name": "ipython",
    "version": 3
   },
   "file_extension": ".py",
   "mimetype": "text/x-python",
   "name": "python",
   "nbconvert_exporter": "python",
   "pygments_lexer": "ipython3",
   "version": "3.10.9"
  }
 },
 "nbformat": 4,
 "nbformat_minor": 5
}
