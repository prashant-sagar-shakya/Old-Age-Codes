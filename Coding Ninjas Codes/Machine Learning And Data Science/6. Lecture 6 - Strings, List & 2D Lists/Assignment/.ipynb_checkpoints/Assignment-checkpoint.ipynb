{
 "cells": [
  {
   "cell_type": "markdown",
   "id": "9a950cda",
   "metadata": {},
   "source": [
    "## 1. Remove Consecutive Duplicates :-\n",
    "For a given string(str), remove all the consecutive duplicate characters."
   ]
  },
  {
   "cell_type": "code",
   "execution_count": 3,
   "id": "de087c56",
   "metadata": {},
   "outputs": [
    {
     "name": "stdout",
     "output_type": "stream",
     "text": [
      "aabccabba\n",
      "abcab"
     ]
    }
   ],
   "source": [
    "a=input()\n",
    "for i in range(0,len(a)-1):\n",
    "    if(a[i]!=a[i+1]):\n",
    "        print(a[i],end='')"
   ]
  },
  {
   "cell_type": "markdown",
   "id": "137c8878",
   "metadata": {},
   "source": [
    "## 2. Reverse Each Word\n",
    "Aadil has been provided with a sentence in the form of a string as a function parameter. The task is to implement a function so as to print the sentence such that each word in the sentence is reversed."
   ]
  },
  {
   "cell_type": "code",
   "execution_count": 44,
   "id": "dd5b23fb",
   "metadata": {},
   "outputs": [
    {
     "name": "stdout",
     "output_type": "stream",
     "text": [
      "My name is khan\n",
      "yM eman si nahk "
     ]
    }
   ],
   "source": [
    "a=input()\n",
    "j=0\n",
    "ans=a.split()\n",
    "for i in ans:\n",
    "    print(i[::-1],end=' ')"
   ]
  },
  {
   "cell_type": "markdown",
   "id": "9e1b3e7e",
   "metadata": {},
   "source": [
    "## 3. Highest Occuring Character :-\n",
    "For a given a string(str), find and return the highest occurring character."
   ]
  },
  {
   "cell_type": "code",
   "execution_count": 16,
   "id": "fe00e506",
   "metadata": {},
   "outputs": [
    {
     "name": "stdout",
     "output_type": "stream",
     "text": [
      "abdefgbabfba\n",
      "b\n"
     ]
    }
   ],
   "source": [
    "a=input()\n",
    "d={}\n",
    "for w in a:\n",
    "    d[w]=d.get(w,0)+1\n",
    "m=max(d.values())\n",
    "for w in d:\n",
    "    if(d[w]==m):\n",
    "        print(w)"
   ]
  },
  {
   "cell_type": "markdown",
   "id": "b59e9c70",
   "metadata": {},
   "source": [
    "## 4. Arrange Numbers in the Array :-\n",
    "You have been given an empty array(ARR) and its size N. The only input taken from the user will be N and you need not worry about the array.\n",
    "\n",
    "Your task is to populate the array using the integer values in the range 1 to N(both inclusive) in the order :- 1,3,.......4,2."
   ]
  },
  {
   "cell_type": "code",
   "execution_count": 54,
   "id": "7612254e",
   "metadata": {},
   "outputs": [
    {
     "name": "stdout",
     "output_type": "stream",
     "text": [
      "6\n",
      "[1, 3, 5, 6, 4, 2]\n"
     ]
    }
   ],
   "source": [
    "n=int(input())\n",
    "a=[]\n",
    "count=0\n",
    "for i in range(1,n+1,2):\n",
    "    a.append(i)\n",
    "if(n%2!=0):\n",
    "    n=n-1\n",
    "for i in range(n,1,-2):\n",
    "    a.append(i)\n",
    "print(a)"
   ]
  },
  {
   "cell_type": "markdown",
   "id": "4ef1ad69",
   "metadata": {},
   "source": [
    "## 5. Leaders in array :-\n",
    "Given an integer array A of size n. Find and print all the leaders present in the input array. An array element A[i] is called Leader, if all the elements following it (i.e. present at its right) are less than or equal to A[i].\n",
    "\n",
    "Print all the leader elements separated by space and in the same order they are present in the input array.\n"
   ]
  },
  {
   "cell_type": "code",
   "execution_count": 55,
   "id": "dc95bd80",
   "metadata": {},
   "outputs": [
    {
     "name": "stdout",
     "output_type": "stream",
     "text": [
      "6\n",
      "3 12 34 2 0 -1\n",
      "34 2 0 -1\n"
     ]
    }
   ],
   "source": [
    "size=int(input())\n",
    "a=[int(i) for i in input().split()]\n",
    "for i in range(0,size-1):\n",
    "    if(a[i]>a[i+1]):\n",
    "        print(a[i],end=' ')\n",
    "print(a[size-1])"
   ]
  },
  {
   "cell_type": "markdown",
   "id": "6c875215",
   "metadata": {},
   "source": [
    "## 6. Maximize the Sum :-\n",
    "Given 2 sorted arrays (in increasing order), find a path through the intersections that produces maximum sum and return the maximum sum.\n",
    "\n",
    "That is, we can switch from one array to another array only at common elements.\n",
    "\n",
    "If no intersection element is present, we need to take sum of all elements from the array with greater sum."
   ]
  },
  {
   "cell_type": "code",
   "execution_count": null,
   "id": "bce177bd",
   "metadata": {},
   "outputs": [],
   "source": [
    "m=int(input())\n",
    "a1=[int(i) for i in input().split()]\n",
    "n=int(input())\n",
    "a2=[int(i) for i in input().split()]"
   ]
  },
  {
   "cell_type": "markdown",
   "id": "af20bb84",
   "metadata": {},
   "source": [
    "## 7. Largest Row or Coulmn :-\n",
    "For a given two-dimensional integer array/list of size (N x M), you need to find out which row or column has the largest sum(sum of all the elements in a row/column) amongst all the rows and columns.\n",
    "\n",
    "Note :\n",
    "If there are more than one rows/columns with maximum sum, consider the row/column that comes first. And if ith row and jth column has the same largest sum, consider the ith row as answer.\n"
   ]
  },
  {
   "cell_type": "code",
   "execution_count": null,
   "id": "41d4a3ad",
   "metadata": {},
   "outputs": [],
   "source": [
    "sizes=input().split()\n",
    "m=sizes[0]\n",
    "n=sizes[1]\n",
    "lis=[[int(i) for i in input().split()] for j in range(m)]"
   ]
  },
  {
   "cell_type": "markdown",
   "id": "2880444e",
   "metadata": {},
   "source": [
    "## 8. Print Spiral :-\n",
    "For a given two-dimensional integer array/list of size (N x M), print it in a spiral form. That is, you need to print in the order followed for every iteration:\n",
    "\n",
    "a. First row(left to right)\n",
    "\n",
    "b. Last column(top to bottom)\n",
    "\n",
    "c. Last row(right to left)\n",
    "\n",
    "d. First column(bottom to top)\n",
    "\n",
    "Mind that every element will be printed only once."
   ]
  }
 ],
 "metadata": {
  "kernelspec": {
   "display_name": "Python 3 (ipykernel)",
   "language": "python",
   "name": "python3"
  },
  "language_info": {
   "codemirror_mode": {
    "name": "ipython",
    "version": 3
   },
   "file_extension": ".py",
   "mimetype": "text/x-python",
   "name": "python",
   "nbconvert_exporter": "python",
   "pygments_lexer": "ipython3",
   "version": "3.10.9"
  }
 },
 "nbformat": 4,
 "nbformat_minor": 5
}
