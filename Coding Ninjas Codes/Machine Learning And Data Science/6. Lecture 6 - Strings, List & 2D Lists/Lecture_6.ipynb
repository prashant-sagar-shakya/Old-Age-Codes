{
 "cells": [
  {
   "cell_type": "markdown",
   "id": "f5c6f3bc",
   "metadata": {},
   "source": [
    "## Strings and Lists \n",
    "Strings are collection of characters whereas lists are collections of elements"
   ]
  },
  {
   "cell_type": "markdown",
   "id": "4a833eb7",
   "metadata": {},
   "source": [
    "Strings are immutable, that is it can not point anywhere we want"
   ]
  },
  {
   "cell_type": "code",
   "execution_count": 7,
   "id": "c3fc9079",
   "metadata": {},
   "outputs": [
    {
     "name": "stdout",
     "output_type": "stream",
     "text": [
      "<class 'str'>\n",
      "P\n",
      "<class 'str'>\n",
      "Prashant\n"
     ]
    }
   ],
   "source": [
    "a=\"Pk\"\n",
    "print(type(a))\n",
    "print(a[0])\n",
    "print(type(a[0]))\n",
    "a=\"Prashant\"\n",
    "print(a)"
   ]
  },
  {
   "cell_type": "code",
   "execution_count": 8,
   "id": "41ea8811",
   "metadata": {},
   "outputs": [
    {
     "name": "stdout",
     "output_type": "stream",
     "text": [
      "P0r0a0s0h0a0n0t0"
     ]
    }
   ],
   "source": [
    "for i in a:\n",
    "    print(i,end='0')"
   ]
  },
  {
   "cell_type": "markdown",
   "id": "bd634f2a",
   "metadata": {},
   "source": [
    "## String Inbuilt Functions :-"
   ]
  },
  {
   "cell_type": "code",
   "execution_count": 14,
   "id": "959b3302",
   "metadata": {},
   "outputs": [
    {
     "name": "stdout",
     "output_type": "stream",
     "text": [
      "'Prashant Sagar Shakya'\n",
      "\"Prashant\"\n",
      "\"Prashant\"\n"
     ]
    }
   ],
   "source": [
    "#Writing string in quotes -> Use Aphostrophy for single quote and double inverted comma within aphostrophy for double quote\n",
    "print(\"\\'Prashant Sagar Shakya\\'\")\n",
    "print('\"Prashant\"')\n",
    "\n",
    "#or,\n",
    "\n",
    "print(\"\\\"Prashant\\\"\")"
   ]
  },
  {
   "cell_type": "code",
   "execution_count": 9,
   "id": "582a639f",
   "metadata": {},
   "outputs": [
    {
     "name": "stdout",
     "output_type": "stream",
     "text": [
      "Prashant is a good boyHe's a good singer also\n"
     ]
    }
   ],
   "source": [
    "#Adding two strings\n",
    "a=\"Prashant is a good boy\"\n",
    "b='He\\'s a good singer also'\n",
    "print(a+b)"
   ]
  },
  {
   "cell_type": "code",
   "execution_count": 10,
   "id": "fcb204fb",
   "metadata": {},
   "outputs": [
    {
     "name": "stdout",
     "output_type": "stream",
     "text": [
      "False True False\n"
     ]
    }
   ],
   "source": [
    "# Comparision of strings or characters are done in lexical order or lexicographically\n",
    "print(a==b, a>b, a<b)"
   ]
  },
  {
   "cell_type": "code",
   "execution_count": 210,
   "id": "f10cf673",
   "metadata": {},
   "outputs": [
    {
     "data": {
      "text/plain": [
       "['this', 'is', 'a', 'string']"
      ]
     },
     "execution_count": 210,
     "metadata": {},
     "output_type": "execute_result"
    }
   ],
   "source": [
    "#Split() method splits each word of string\n",
    "a=\"this is a string\"\n",
    "a.split()"
   ]
  },
  {
   "cell_type": "code",
   "execution_count": 211,
   "id": "29d1a31f",
   "metadata": {},
   "outputs": [
    {
     "data": {
      "text/plain": [
       "['th', ' ', ' a string']"
      ]
     },
     "execution_count": 211,
     "metadata": {},
     "output_type": "execute_result"
    }
   ],
   "source": [
    "# Passing an argument to Split method means remove that specific character or sequence of character from the string\n",
    "# and Split each word of string\n",
    "a.split(\"is\")"
   ]
  },
  {
   "cell_type": "code",
   "execution_count": 223,
   "id": "5babfa62",
   "metadata": {},
   "outputs": [
    {
     "data": {
      "text/plain": [
       "'thls ls a strlng'"
      ]
     },
     "execution_count": 223,
     "metadata": {},
     "output_type": "execute_result"
    }
   ],
   "source": [
    "# replace() method replace a specific character or sequence of character in string\n",
    "a.replace(\"i\",\"l\") #replacing i to l, it will not modify the original string"
   ]
  },
  {
   "cell_type": "code",
   "execution_count": 213,
   "id": "9c6a2c66",
   "metadata": {},
   "outputs": [
    {
     "data": {
      "text/plain": [
       "8"
      ]
     },
     "execution_count": 213,
     "metadata": {},
     "output_type": "execute_result"
    }
   ],
   "source": [
    "#find() method gives you the first occuring index of a character or a sequence of character in a string\n",
    "a.find('a')\n",
    "\n",
    "#If not found then returns -1"
   ]
  },
  {
   "cell_type": "code",
   "execution_count": 219,
   "id": "b95c6f17",
   "metadata": {},
   "outputs": [
    {
     "data": {
      "text/plain": [
       "False"
      ]
     },
     "execution_count": 219,
     "metadata": {},
     "output_type": "execute_result"
    }
   ],
   "source": [
    "# lower() or upper() methods are used to lowercase or uppercase the whole string\n",
    "a.upper()"
   ]
  },
  {
   "cell_type": "code",
   "execution_count": 217,
   "id": "1d8f9b1f",
   "metadata": {},
   "outputs": [
    {
     "data": {
      "text/plain": [
       "'this is a string'"
      ]
     },
     "execution_count": 217,
     "metadata": {},
     "output_type": "execute_result"
    }
   ],
   "source": [
    "a.lower()"
   ]
  },
  {
   "cell_type": "code",
   "execution_count": 220,
   "id": "929e941a",
   "metadata": {},
   "outputs": [
    {
     "data": {
      "text/plain": [
       "True"
      ]
     },
     "execution_count": 220,
     "metadata": {},
     "output_type": "execute_result"
    }
   ],
   "source": [
    "# islower() method checks whether a string is lowercase or not, it returns true or false, Same for isupper() method \n",
    "a.islower()"
   ]
  },
  {
   "cell_type": "code",
   "execution_count": 221,
   "id": "6a700376",
   "metadata": {},
   "outputs": [
    {
     "data": {
      "text/plain": [
       "False"
      ]
     },
     "execution_count": 221,
     "metadata": {},
     "output_type": "execute_result"
    }
   ],
   "source": [
    "# isalpha() methods return true or false, if string contains only alphabets without spaces then returns true otherwise false\n",
    "a.isalpha()"
   ]
  },
  {
   "cell_type": "code",
   "execution_count": 222,
   "id": "4992d5c5",
   "metadata": {},
   "outputs": [
    {
     "data": {
      "text/plain": [
       "True"
      ]
     },
     "execution_count": 222,
     "metadata": {},
     "output_type": "execute_result"
    }
   ],
   "source": [
    "# startswith() method checks weather our string is starting with a given character or sequence of characters or not\n",
    "a.startswith(\"this\")"
   ]
  },
  {
   "cell_type": "markdown",
   "id": "9c35789c",
   "metadata": {},
   "source": [
    "## String Slicing :-\n",
    "A Part of a string known as slicing, it is used to find substring.\n",
    "a[StartingIndex : EndIndex], a is string. start-> included and end -> excluded.\n",
    "Indexing Starts From 0"
   ]
  },
  {
   "cell_type": "code",
   "execution_count": 1,
   "id": "ffd0e9b3",
   "metadata": {},
   "outputs": [
    {
     "data": {
      "text/plain": [
       "'is a'"
      ]
     },
     "execution_count": 1,
     "metadata": {},
     "output_type": "execute_result"
    }
   ],
   "source": [
    "a=\"this is a string\"\n",
    "a[5:9]"
   ]
  },
  {
   "cell_type": "code",
   "execution_count": 2,
   "id": "03831c75",
   "metadata": {},
   "outputs": [
    {
     "data": {
      "text/plain": [
       "'is is a string'"
      ]
     },
     "execution_count": 2,
     "metadata": {},
     "output_type": "execute_result"
    }
   ],
   "source": [
    "a[2:]\n",
    "#By default EndIndex = end or, n-1 where n is length of string"
   ]
  },
  {
   "cell_type": "code",
   "execution_count": 3,
   "id": "240d98c5",
   "metadata": {},
   "outputs": [
    {
     "data": {
      "text/plain": [
       "'thi'"
      ]
     },
     "execution_count": 3,
     "metadata": {},
     "output_type": "execute_result"
    }
   ],
   "source": [
    "a[:3]\n",
    "#By default StartingIndex = start or, 0"
   ]
  },
  {
   "cell_type": "code",
   "execution_count": 4,
   "id": "0d4861f8",
   "metadata": {},
   "outputs": [
    {
     "data": {
      "text/plain": [
       "'this is a string'"
      ]
     },
     "execution_count": 4,
     "metadata": {},
     "output_type": "execute_result"
    }
   ],
   "source": [
    "a[:]\n",
    "#The whole string"
   ]
  },
  {
   "cell_type": "code",
   "execution_count": 6,
   "id": "b442bcf7",
   "metadata": {},
   "outputs": [
    {
     "data": {
      "text/plain": [
       "'i sa'"
      ]
     },
     "execution_count": 6,
     "metadata": {},
     "output_type": "execute_result"
    }
   ],
   "source": [
    "#Three arguments, a[Start:end:skip or stride]\n",
    "a[2:10:2]\n",
    "#skip by 2 every time"
   ]
  },
  {
   "cell_type": "code",
   "execution_count": 9,
   "id": "42db47dd",
   "metadata": {},
   "outputs": [
    {
     "data": {
      "text/plain": [
       "''"
      ]
     },
     "execution_count": 9,
     "metadata": {},
     "output_type": "execute_result"
    }
   ],
   "source": [
    " a[2:10:-1]\n",
    "#Start from 2 go to opposite side till 10, That's why an empty string"
   ]
  },
  {
   "cell_type": "code",
   "execution_count": 11,
   "id": "f19441b4",
   "metadata": {},
   "outputs": [
    {
     "data": {
      "text/plain": [
       "'s a si s'"
      ]
     },
     "execution_count": 11,
     "metadata": {},
     "output_type": "execute_result"
    }
   ],
   "source": [
    "a[10:2:-1]\n",
    "#To slice the string in opposite direction"
   ]
  },
  {
   "cell_type": "code",
   "execution_count": 14,
   "id": "1cb8b6ea",
   "metadata": {},
   "outputs": [
    {
     "name": "stdout",
     "output_type": "stream",
     "text": [
      "My name is prashant\n",
      "a\n",
      "d\n",
      "My ndme is prashant\n"
     ]
    }
   ],
   "source": [
    "#Replacing all specific character of a string with an specific character\n",
    "'''\n",
    "String = input()\n",
    "a=input()\n",
    "b=input()\n",
    "String.replace(a,b)\n",
    "'''\n",
    "\n",
    "#Or, Without using the replace method.....with using find() method\n",
    "#find() method gives the index of a character or sequence of characters\n",
    "\n",
    "#Replacing first occurence of a to b\n",
    "\n",
    "String=input()\n",
    "a=input()\n",
    "b=input()\n",
    "p=String.find(a)\n",
    "if p!= -1:\n",
    "    ans=String[:p]+b+String[p+1:]\n",
    "print(ans)"
   ]
  },
  {
   "cell_type": "code",
   "execution_count": 24,
   "id": "708cb7aa",
   "metadata": {},
   "outputs": [
    {
     "name": "stdout",
     "output_type": "stream",
     "text": [
      "My name is khan\n",
      "a\n",
      "b\n",
      "My nbme is khbn\n"
     ]
    }
   ],
   "source": [
    "#Replacing all occurence of a to b\n",
    "ans=input()\n",
    "a=input()\n",
    "b=input()\n",
    "for i in range (0,len(ans)): #len() Method gives the length of string\n",
    "    if ans[i]==a:\n",
    "        ans=ans[:i]+b+ans[i+1:]\n",
    "print(ans)"
   ]
  },
  {
   "cell_type": "markdown",
   "id": "5ef8bbd7",
   "metadata": {},
   "source": [
    "## 10. Check Palindrome\n",
    "Given a string, determine if it is a palindrome, considering only alphanumeric characters.\n",
    "\n",
    "Palindrome :- A palindrome is a word, number, phrase, or other sequences of characters which read the same backwards and forwards.\n"
   ]
  },
  {
   "cell_type": "code",
   "execution_count": 2,
   "id": "7a6f47e8",
   "metadata": {},
   "outputs": [
    {
     "name": "stdout",
     "output_type": "stream",
     "text": [
      "aba\n",
      "Palindrome\n"
     ]
    }
   ],
   "source": [
    "a=input()\n",
    "x=a[::-1] #skip or stride = -1, start=0, end=len of string\n",
    "#it moves in opposite direction from len of string to 0 and store each character in x\n",
    "if a==x:\n",
    "    print(\"Palindrome\")\n",
    "else:\n",
    "    print(\"Not Palindrome\")"
   ]
  },
  {
   "cell_type": "markdown",
   "id": "84667f70",
   "metadata": {},
   "source": [
    "##  11. Print All Substrings :-\n",
    "For a given input string(str), write a function to print all the possible substrings.\n",
    "\n",
    "Substring :- A substring is a contiguous sequence of characters within a string.\n",
    "\n",
    "Example: \"cod\" is a substring of \"coding\". Whereas, \"cdng\" is not as the characters taken are not contiguous"
   ]
  },
  {
   "cell_type": "code",
   "execution_count": 1,
   "id": "53ef4547",
   "metadata": {},
   "outputs": [
    {
     "name": "stdout",
     "output_type": "stream",
     "text": [
      "abc\n",
      "a\n",
      "ab\n",
      "abc\n",
      "b\n",
      "bc\n",
      "c\n"
     ]
    }
   ],
   "source": [
    "a=input()\n",
    "for i in range(0,len(a)):\n",
    "    for j in range(0,len(a)):\n",
    "        x=a[i:j+1]\n",
    "        if(x==\"\"):\n",
    "            continue\n",
    "        print(x)"
   ]
  },
  {
   "cell_type": "markdown",
   "id": "9694a2a2",
   "metadata": {},
   "source": [
    "## Introduction to Lists :-\n",
    "Lists in python are denoted by [ ] or, list([ ]) whatever comes under these braces are known as list elements.\n",
    "\n",
    "Data is accesses by using indexing from 0 to len(list), lists are mutable means you're able to chande the data\n",
    "\n",
    "Size of list is dynamic and list datatype is any (not specific like c++ or java)\n",
    "\n",
    "Each element of list is independent of other element"
   ]
  },
  {
   "cell_type": "code",
   "execution_count": 11,
   "id": "19c5d5c2",
   "metadata": {},
   "outputs": [
    {
     "name": "stdout",
     "output_type": "stream",
     "text": [
      "<class 'list'>\n"
     ]
    }
   ],
   "source": [
    "a=[1,2,3,4,5]\n",
    "print(type(a))"
   ]
  },
  {
   "cell_type": "code",
   "execution_count": 12,
   "id": "e8e8ea78",
   "metadata": {},
   "outputs": [
    {
     "name": "stdout",
     "output_type": "stream",
     "text": [
      "<class 'list'>\n"
     ]
    }
   ],
   "source": [
    "a=list([1,2,3,4,5])\n",
    "print(type(a))"
   ]
  },
  {
   "cell_type": "code",
   "execution_count": 16,
   "id": "00be6cd5",
   "metadata": {},
   "outputs": [
    {
     "name": "stdout",
     "output_type": "stream",
     "text": [
      "[[1, 2, 3], 'Pk', 1, 2]\n"
     ]
    }
   ],
   "source": [
    "a=[[1,2,3],'Pk',1,2]\n",
    "print(a)"
   ]
  },
  {
   "cell_type": "code",
   "execution_count": 21,
   "id": "1bfacec9",
   "metadata": {},
   "outputs": [
    {
     "name": "stdout",
     "output_type": "stream",
     "text": [
      "[5, 5, 5, 5, 5, 5, 5, 5, 5, 5]\n",
      "5\n"
     ]
    }
   ],
   "source": [
    "#We can also create a list by using loops,\n",
    "a=[5 for i in range(10)] #5 is stored in list of size 10 with indices 0 to 9\n",
    "print(a)\n",
    "print(a[0]) #Accessing 0th index\n",
    "\n",
    "#i.e, for every i of list in range 10, add a 10"
   ]
  },
  {
   "cell_type": "code",
   "execution_count": 25,
   "id": "43d24e9c",
   "metadata": {},
   "outputs": [
    {
     "name": "stdout",
     "output_type": "stream",
     "text": [
      "[0, 1, 2, 3, 4, 5, 6, 7, 8, 9]\n",
      "[0, 1, 4, 9, 16, 25, 36, 49, 64, 81]\n"
     ]
    }
   ],
   "source": [
    "a=[i for i in range(10)]\n",
    "print(a)\n",
    "\n",
    "#or,\n",
    "\n",
    "a=[i*i for i in range (10)]\n",
    "print(a)"
   ]
  },
  {
   "cell_type": "markdown",
   "id": "80c1d440",
   "metadata": {},
   "source": [
    "## List Inbuilt functions :-"
   ]
  },
  {
   "cell_type": "code",
   "execution_count": 26,
   "id": "411d4be9",
   "metadata": {},
   "outputs": [
    {
     "name": "stdout",
     "output_type": "stream",
     "text": [
      "5\n"
     ]
    }
   ],
   "source": [
    "a=[1,2,3,4,5]\n",
    "print(len(a)) #len() method gives length of the list\n"
   ]
  },
  {
   "cell_type": "code",
   "execution_count": 40,
   "id": "7a26e2b3",
   "metadata": {},
   "outputs": [
    {
     "name": "stdout",
     "output_type": "stream",
     "text": [
      "[1, 2, 3, 4, 5, 5, 6, 7, 8]\n"
     ]
    }
   ],
   "source": [
    "#Concatenation of lists :-\n",
    "a=[1,2,3,4]\n",
    "b=[5,5,6,7,8]\n",
    "print(a+b) #or a.extend(b)\n",
    "# The differenece is when we do a+b a new list is created.\n",
    "# But when we do a.extend(b) the list a gets modified "
   ]
  },
  {
   "cell_type": "code",
   "execution_count": 15,
   "id": "3d27f4e9",
   "metadata": {},
   "outputs": [
    {
     "name": "stdout",
     "output_type": "stream",
     "text": [
      "[1, 2, 3, 4, 1, 2, 3, 4, 1, 2, 3, 4]\n"
     ]
    }
   ],
   "source": [
    "print(a*3) #Prints the list a 3 times"
   ]
  },
  {
   "cell_type": "code",
   "execution_count": 37,
   "id": "575da834",
   "metadata": {},
   "outputs": [
    {
     "name": "stdout",
     "output_type": "stream",
     "text": [
      "[1, 2, 3, 98]\n",
      "[1, 2, 3, 45, 98]\n"
     ]
    }
   ],
   "source": [
    "#add data to list\n",
    "a.append(98) #adds 98 to last of list\n",
    "print(a)\n",
    "\n",
    "#add data to a particular index in list\n",
    "\n",
    "#a.insert(index,value)\n",
    "\n",
    "a.insert(3,45)\n",
    "print(a)"
   ]
  },
  {
   "cell_type": "code",
   "execution_count": 28,
   "id": "c42cac8c",
   "metadata": {},
   "outputs": [
    {
     "name": "stdout",
     "output_type": "stream",
     "text": [
      "[5, 6, 7, 8]\n"
     ]
    }
   ],
   "source": [
    "# Delete data from list\n",
    "#Using remove method\n",
    "# a.remove(value)\n",
    "b.remove(5)\n",
    "print(b)\n",
    "\n",
    "# It only removes the first occurence of the value"
   ]
  },
  {
   "cell_type": "code",
   "execution_count": 41,
   "id": "ce8d7b82",
   "metadata": {},
   "outputs": [
    {
     "name": "stdout",
     "output_type": "stream",
     "text": [
      "4\n",
      "[1, 2, 3]\n"
     ]
    }
   ],
   "source": [
    "# To remove something from a specific index we've to use pop() method\n",
    "# a.pop(index)\n",
    "print(a.pop(3)) #It also returns what it removes\n",
    "print(a)"
   ]
  },
  {
   "cell_type": "code",
   "execution_count": 43,
   "id": "699d1e00",
   "metadata": {},
   "outputs": [
    {
     "name": "stdout",
     "output_type": "stream",
     "text": [
      "[1, 2]\n"
     ]
    }
   ],
   "source": [
    "# del is a generic python keyword which is used to delete anything in python\n",
    "del a[2] #It doesn't return the deleted value as pop() method\n",
    "print(a)"
   ]
  },
  {
   "cell_type": "code",
   "execution_count": 46,
   "id": "ee6e1c9c",
   "metadata": {
    "scrolled": true
   },
   "outputs": [
    {
     "name": "stdout",
     "output_type": "stream",
     "text": [
      "[0, 1, 3, 4, 5, 23, 32, 78, 90]\n",
      "90\n"
     ]
    },
    {
     "ename": "TypeError",
     "evalue": "'>' not supported between instances of 'str' and 'int'",
     "output_type": "error",
     "traceback": [
      "\u001b[1;31m---------------------------------------------------------------------------\u001b[0m",
      "\u001b[1;31mTypeError\u001b[0m                                 Traceback (most recent call last)",
      "Cell \u001b[1;32mIn[46], line 9\u001b[0m\n\u001b[0;32m      6\u001b[0m \u001b[38;5;28mprint\u001b[39m(\u001b[38;5;28mmax\u001b[39m(a))\n\u001b[0;32m      8\u001b[0m b\u001b[38;5;241m=\u001b[39m[\u001b[38;5;241m1\u001b[39m,\u001b[38;5;241m2\u001b[39m,\u001b[38;5;241m0\u001b[39m,\u001b[38;5;124m\"\u001b[39m\u001b[38;5;124mabc\u001b[39m\u001b[38;5;124m\"\u001b[39m] \u001b[38;5;66;03m#if our list is not homogenous the max function throws an  error\u001b[39;00m\n\u001b[1;32m----> 9\u001b[0m \u001b[38;5;28mprint\u001b[39m(\u001b[38;5;28;43mmax\u001b[39;49m\u001b[43m(\u001b[49m\u001b[43mb\u001b[49m\u001b[43m)\u001b[49m)\n",
      "\u001b[1;31mTypeError\u001b[0m: '>' not supported between instances of 'str' and 'int'"
     ]
    }
   ],
   "source": [
    "a=[1,3,4,5,23,78,90,0,32]\n",
    "a.sort() #Sorts the list in asscending order\n",
    "print(a)\n",
    "\n",
    "# max() method returns the greatest value of a list\n",
    "print(max(a))\n",
    "\n",
    "b=[1,2,0,\"abc\"] #if our list is not homogenous the max function throws an  error, same applies for sort() method\n",
    "print(max(b))\n",
    "# '>' not supported between instances of 'str' and 'int'"
   ]
  },
  {
   "cell_type": "code",
   "execution_count": 48,
   "id": "8915b65c",
   "metadata": {},
   "outputs": [
    {
     "name": "stdout",
     "output_type": "stream",
     "text": [
      "5\n",
      "False\n"
     ]
    }
   ],
   "source": [
    "a=[3,2,1,4,5,7,9]\n",
    "#index() method is used to find index of a specific value passed to it\n",
    "print(a.index(7))\n",
    "\n",
    "#To find the value is exist in list or not we simply can do is.........\n",
    "print(100 in a) #If it found then returns True else False"
   ]
  },
  {
   "cell_type": "markdown",
   "id": "1c51ad1e",
   "metadata": {},
   "source": [
    "## Taking Input :-\n",
    "\n",
    "Each element input in the different line\n",
    "\n",
    "Each element input in the same line\n",
    "\n",
    "or, e.g:-   #5 1 2 3 4 5, '5' denotes the size of list in same line and input of 5 elements in the same line"
   ]
  },
  {
   "cell_type": "code",
   "execution_count": 49,
   "id": "b140f501",
   "metadata": {},
   "outputs": [
    {
     "name": "stdout",
     "output_type": "stream",
     "text": [
      "[2, 3, 4, 5, 6]\n",
      "2 3 4 5 6 "
     ]
    }
   ],
   "source": [
    "a=[2,3,4,5,6]\n",
    "\n",
    "#To print a list\n",
    "print(a)\n",
    "\n",
    "for i in a:\n",
    "    print(i,end=' ')"
   ]
  },
  {
   "cell_type": "code",
   "execution_count": 53,
   "id": "e1163dda",
   "metadata": {},
   "outputs": [
    {
     "name": "stdout",
     "output_type": "stream",
     "text": [
      "3\n",
      "1\n",
      "2\n",
      "3\n",
      "[1, 2, 3]\n"
     ]
    }
   ],
   "source": [
    "#Taking each input in different line\n",
    "lis=[]\n",
    "size=int(input())\n",
    "for i in range(size):\n",
    "    ne=int(input())\n",
    "    lis.append(ne)\n",
    "print(lis)"
   ]
  },
  {
   "cell_type": "code",
   "execution_count": 64,
   "id": "dff1977d",
   "metadata": {},
   "outputs": [
    {
     "name": "stdout",
     "output_type": "stream",
     "text": [
      "1 2 3 4 5\n",
      "1 2 3 4 5\n",
      "['1', '2', '3', '4', '5']\n",
      "[1, 2, 3, 4, 5]\n"
     ]
    }
   ],
   "source": [
    "#Taking input of everything in the same line without having sizez 'n'\n",
    "line=input()\n",
    "print(line)\n",
    "\n",
    "#using split() method to convert each value as element of an array or list\n",
    "\n",
    "l=line.split()\n",
    "print(l)\n",
    "\n",
    "#Typecasting each character value to integer\n",
    "\n",
    "a=[]\n",
    "for i in l:\n",
    "    a.append(int(i))\n",
    "print(a)"
   ]
  },
  {
   "cell_type": "code",
   "execution_count": 65,
   "id": "0e1811e7",
   "metadata": {},
   "outputs": [
    {
     "name": "stdout",
     "output_type": "stream",
     "text": [
      "['1', '2', '3']\n"
     ]
    }
   ],
   "source": [
    "l=['1','2','3']\n",
    "a=[int(i) for i in l]\n",
    "print(l)"
   ]
  },
  {
   "cell_type": "code",
   "execution_count": 66,
   "id": "e55f5258",
   "metadata": {},
   "outputs": [
    {
     "name": "stdout",
     "output_type": "stream",
     "text": [
      "1 2 3 4 5\n",
      "[1, 2, 3, 4, 5]\n"
     ]
    }
   ],
   "source": [
    "lis=input().split()\n",
    "#Takes input as a string and split it in character array\n",
    "b=[int(i) for i in lis]\n",
    "print(b)"
   ]
  },
  {
   "cell_type": "code",
   "execution_count": 69,
   "id": "b8021d58",
   "metadata": {},
   "outputs": [
    {
     "name": "stdout",
     "output_type": "stream",
     "text": [
      "1 2 3 4 5\n",
      "[1, 2, 3, 4, 5]\n"
     ]
    }
   ],
   "source": [
    "a=[int(i) for i in input().split()] #now the input().split() decides the range\n",
    "print(a)"
   ]
  },
  {
   "cell_type": "code",
   "execution_count": 75,
   "id": "338d40b0",
   "metadata": {},
   "outputs": [
    {
     "name": "stdout",
     "output_type": "stream",
     "text": [
      "5\n",
      "1 2 3 4 5\n",
      "[1, 2, 3, 4, 5]\n"
     ]
    }
   ],
   "source": [
    "size=int(input())\n",
    "a=[int(i) for i in input().split()]\n",
    "print(a)"
   ]
  },
  {
   "cell_type": "code",
   "execution_count": 80,
   "id": "ad233856",
   "metadata": {},
   "outputs": [
    {
     "name": "stdout",
     "output_type": "stream",
     "text": [
      "5 1 2 3 4 5\n",
      "5\n",
      "[1, 2, 3, 4, 5]\n"
     ]
    }
   ],
   "source": [
    "# #5 1 2 3 4 5, '5' denotes the size of list in same line and input of 5 elements\n",
    "# in the same line\n",
    "\n",
    "a=[int(i) for i in input().split()]\n",
    "size=a[0]\n",
    "print(size)\n",
    "del(a[0])\n",
    "print(a)"
   ]
  },
  {
   "cell_type": "markdown",
   "id": "b6cd9daa",
   "metadata": {},
   "source": [
    "## Difference of Even Odd :-\n",
    "Sum all the even values and odd values and find differenece of even and odd"
   ]
  },
  {
   "cell_type": "code",
   "execution_count": 81,
   "id": "4b90ccf2",
   "metadata": {},
   "outputs": [
    {
     "name": "stdout",
     "output_type": "stream",
     "text": [
      "1 2 3 4 5\n",
      "-3\n"
     ]
    }
   ],
   "source": [
    "a=[int(i) for i in input().split()]\n",
    "even=0\n",
    "odd=0\n",
    "for i in a:\n",
    "    if(i%2==0):\n",
    "        even+=i\n",
    "    else:\n",
    "        odd+=i\n",
    "print(even-odd)"
   ]
  },
  {
   "cell_type": "markdown",
   "id": "982e74cd",
   "metadata": {},
   "source": [
    "## 22. Swap Alternate :-\n",
    "You have been given an array/list(ARR) of size N. You need to swap every pair of alternate elements in the array/list.\n",
    "\n",
    "You don't need to print or return anything, just change in the input array itself."
   ]
  },
  {
   "cell_type": "code",
   "execution_count": 88,
   "id": "fd801d3a",
   "metadata": {},
   "outputs": [
    {
     "name": "stdout",
     "output_type": "stream",
     "text": [
      "1\n",
      "9\n",
      "9 3 6 12 4 32 5 11 19\n",
      "[3, 9, 12, 6, 32, 4, 11, 5, 19]\n"
     ]
    }
   ],
   "source": [
    "def SwapAlter():\n",
    "    size=int(input())\n",
    "    a=[int(i) for i in input().split()]\n",
    "    for i in range(0,size-1,2):\n",
    "        (a[i+1],a[i])=(a[i],a[i+1])\n",
    "    print(a)\n",
    "\n",
    "t=int(input())\n",
    "for i in range(t):\n",
    "    SwapAlter()"
   ]
  },
  {
   "cell_type": "markdown",
   "id": "7e8f3981",
   "metadata": {},
   "source": [
    "## 23. Array Equillibrium Index :-\n",
    "For a given array/list(ARR) of size 'N,' find and return the 'Equilibrium Index' of the array/list.\n",
    "\n",
    "Equilibrium Index of an array/list is an index 'i' such that the sum of elements at indices [0 to (i - 1)] is equal to the sum of elements at indices [(i + 1) to (N-1)].\n",
    "\n",
    "One thing to note here is, the item at the index 'i' is not included in either part.\n",
    "\n",
    "If more than one equilibrium indices are present, then the index appearing first in left to right fashion should be returned. Negative one(-1) if no such index is present.\n"
   ]
  },
  {
   "cell_type": "code",
   "execution_count": 92,
   "id": "1b3d7cab",
   "metadata": {},
   "outputs": [
    {
     "name": "stdout",
     "output_type": "stream",
     "text": [
      "1\n",
      "7\n",
      "2 3 10 -10 4 2 9\n",
      "2\n"
     ]
    }
   ],
   "source": [
    "def equillibrium(a,n,size):\n",
    "    sum1=0\n",
    "    sum2=0\n",
    "    for i in range(0,n):\n",
    "        sum1=sum1+a[i]\n",
    "    for i in range(n+1,size):\n",
    "        sum2=sum2+a[i]\n",
    "    if(sum1==sum2):\n",
    "        return True\n",
    "    else:\n",
    "        return False\n",
    "\n",
    "def Equal():\n",
    "    size=int(input())\n",
    "    a=[int(i) for i in input().split()]\n",
    "    for i in range(1,size):\n",
    "        if(equillibrium(a,i,size)):\n",
    "            print(i)\n",
    "            break\n",
    "    else:\n",
    "        print(-1)\n",
    "    \n",
    "t=int(input())\n",
    "for i in range(t):\n",
    "    Equal()"
   ]
  },
  {
   "cell_type": "markdown",
   "id": "b94a32c7",
   "metadata": {},
   "source": [
    "## 24. List Slicing :-\n",
    "It works same as the string slicing, string[si:ei:skipper]"
   ]
  },
  {
   "cell_type": "code",
   "execution_count": 1,
   "id": "2649b710",
   "metadata": {},
   "outputs": [
    {
     "data": {
      "text/plain": [
       "[1, 2, 3, 4, 5, 'abc', 34, 0]"
      ]
     },
     "execution_count": 1,
     "metadata": {},
     "output_type": "execute_result"
    }
   ],
   "source": [
    "a=[1,2,3,4,5,\"abc\",34,0]\n",
    "a"
   ]
  },
  {
   "cell_type": "code",
   "execution_count": 2,
   "id": "d6c8f053",
   "metadata": {},
   "outputs": [
    {
     "data": {
      "text/plain": [
       "[1, 2, 3]"
      ]
     },
     "execution_count": 2,
     "metadata": {},
     "output_type": "execute_result"
    }
   ],
   "source": [
    "a[0:3]"
   ]
  },
  {
   "cell_type": "code",
   "execution_count": 3,
   "id": "709c586a",
   "metadata": {},
   "outputs": [
    {
     "data": {
      "text/plain": [
       "[5, 'abc']"
      ]
     },
     "execution_count": 3,
     "metadata": {},
     "output_type": "execute_result"
    }
   ],
   "source": [
    "a[4:6]"
   ]
  },
  {
   "cell_type": "code",
   "execution_count": 4,
   "id": "eb8c84d4",
   "metadata": {},
   "outputs": [
    {
     "data": {
      "text/plain": [
       "[4, 5, 'abc', 34, 0]"
      ]
     },
     "execution_count": 4,
     "metadata": {},
     "output_type": "execute_result"
    }
   ],
   "source": [
    "a[3:]"
   ]
  },
  {
   "cell_type": "code",
   "execution_count": 5,
   "id": "e6d70c75",
   "metadata": {},
   "outputs": [
    {
     "data": {
      "text/plain": [
       "[2, 4, 'abc', 0]"
      ]
     },
     "execution_count": 5,
     "metadata": {},
     "output_type": "execute_result"
    }
   ],
   "source": [
    "a[1::2]"
   ]
  },
  {
   "cell_type": "code",
   "execution_count": 6,
   "id": "4c35c44d",
   "metadata": {},
   "outputs": [
    {
     "data": {
      "text/plain": [
       "[0, 34, 'abc', 5]"
      ]
     },
     "execution_count": 6,
     "metadata": {},
     "output_type": "execute_result"
    }
   ],
   "source": [
    "a[10:3:-1] #10 is no any index in list so it started from end"
   ]
  },
  {
   "cell_type": "code",
   "execution_count": 8,
   "id": "69ca802e",
   "metadata": {
    "scrolled": true
   },
   "outputs": [
    {
     "data": {
      "text/plain": [
       "[0, 34, 'abc', 5]"
      ]
     },
     "execution_count": 8,
     "metadata": {},
     "output_type": "execute_result"
    }
   ],
   "source": [
    "a[:3:-1] # if we give -1 to skipper then it starts from end and go till 4th index in reverse order"
   ]
  },
  {
   "cell_type": "code",
   "execution_count": 15,
   "id": "01999858",
   "metadata": {},
   "outputs": [
    {
     "data": {
      "text/plain": [
       "[0, 34, 'abc', 5, 4, 3, 2, 1]"
      ]
     },
     "execution_count": 15,
     "metadata": {},
     "output_type": "execute_result"
    }
   ],
   "source": [
    "a[::-1] #Reverse order of list....By default end to start...It also changes the original List, creates a new list\n",
    "a"
   ]
  },
  {
   "cell_type": "code",
   "execution_count": 13,
   "id": "bd0f3f96",
   "metadata": {},
   "outputs": [
    {
     "data": {
      "text/plain": [
       "[0, 34, 'abc', 5, 4, 3, 2, 1]"
      ]
     },
     "execution_count": 13,
     "metadata": {},
     "output_type": "execute_result"
    }
   ],
   "source": [
    "a.reverse() #It changes original list doesn't create a new list\n",
    "a"
   ]
  },
  {
   "cell_type": "markdown",
   "id": "9b79c781",
   "metadata": {},
   "source": [
    "## Multi-Dimensional List 1 :-\n",
    "e.g :- In python we can also put a list inside a list, it is called 2-D list or 2 dimensional list.\n",
    "\n",
    "l=[1,2,3,4,\"abc\",[1,2],57]\n",
    "\n",
    "A 2-D list means a m*n list, which generally means a list in which there are m lists each of size n, but in python there is no any specific multidimensional list"
   ]
  },
  {
   "cell_type": "code",
   "execution_count": 24,
   "id": "65682fb1",
   "metadata": {},
   "outputs": [],
   "source": [
    "a=[[1,2,3,4],[5,6,7]]"
   ]
  },
  {
   "cell_type": "code",
   "execution_count": 26,
   "id": "5f66a204",
   "metadata": {},
   "outputs": [
    {
     "name": "stdout",
     "output_type": "stream",
     "text": [
      "[[1, 2, 3, 4], [5, 6, 7]]\n",
      "[5, 6, 7]\n",
      "[1, 2, 3, 4]\n",
      "3\n",
      "2\n",
      "4\n",
      "3\n"
     ]
    }
   ],
   "source": [
    "print(a)\n",
    "print(a[1]) #1st element is a list\n",
    "print(a[0]) #0th element is a list\n",
    "print(a[0][2]) #Prints 2nd indexed value of 0th list\n",
    "print(len(a)) #Length of list is 2 because it contains only two lists in it\n",
    "print(len(a[0])) #Length of list present at 0th index is 4\n",
    "print(len(a[1])) #Length of list present at 1st index is 3"
   ]
  },
  {
   "cell_type": "code",
   "execution_count": 32,
   "id": "130f6977",
   "metadata": {},
   "outputs": [
    {
     "name": "stdout",
     "output_type": "stream",
     "text": [
      "2 3\n",
      "1 2 3\n",
      "4 6 5\n"
     ]
    },
    {
     "data": {
      "text/plain": [
       "[[1, 2, 3], [4, 6, 5]]"
      ]
     },
     "execution_count": 32,
     "metadata": {},
     "output_type": "execute_result"
    }
   ],
   "source": [
    "#Taking Input :-\n",
    "sizes = input().split()\n",
    "m=int(sizes[0])\n",
    "n=int(sizes[1])\n",
    "l=[]\n",
    "for i in range(m):\n",
    "    next_row=[int(i) for i in input().split()]\n",
    "    l.append(next_row)\n",
    "l"
   ]
  },
  {
   "cell_type": "code",
   "execution_count": 33,
   "id": "9b8d6d8a",
   "metadata": {},
   "outputs": [
    {
     "name": "stdout",
     "output_type": "stream",
     "text": [
      "2 3\n",
      "1\n",
      "2\n",
      "3\n",
      "4\n",
      "5\n",
      "6\n"
     ]
    },
    {
     "data": {
      "text/plain": [
       "[[1, 2, 3], [4, 5, 6]]"
      ]
     },
     "execution_count": 33,
     "metadata": {},
     "output_type": "execute_result"
    }
   ],
   "source": [
    "sizes = input().split()\n",
    "m=int(sizes[0])\n",
    "n=int(sizes[1])\n",
    "l=[]\n",
    "for i in range(m):\n",
    "    next_row=[]\n",
    "    for j in range(n):\n",
    "        val=int(input())\n",
    "        next_row.append(val)\n",
    "    l.append(next_row)\n",
    "l"
   ]
  },
  {
   "cell_type": "code",
   "execution_count": 34,
   "id": "37545cca",
   "metadata": {},
   "outputs": [
    {
     "name": "stdout",
     "output_type": "stream",
     "text": [
      "2 3\n",
      "1 2 3 4 5 6\n"
     ]
    },
    {
     "data": {
      "text/plain": [
       "[[1, 2, 3], [5, 6]]"
      ]
     },
     "execution_count": 34,
     "metadata": {},
     "output_type": "execute_result"
    }
   ],
   "source": [
    "sizes = input().split()\n",
    "m=int(sizes[0])\n",
    "n=int(sizes[1])\n",
    "l_1d=[int(i) for i in input().split()]\n",
    "l=[]\n",
    "for i in range(m):\n",
    "    start=4*i\n",
    "    end=n*(i+1)\n",
    "    next_row=l_1d[start:end]\n",
    "    l.append(next_row)\n",
    "l"
   ]
  },
  {
   "cell_type": "markdown",
   "id": "6369db22",
   "metadata": {},
   "source": [
    "## Multi-Dimension List 2 :-"
   ]
  },
  {
   "cell_type": "code",
   "execution_count": 35,
   "id": "41edd22d",
   "metadata": {},
   "outputs": [],
   "source": [
    "a=[[1,2,3,4],[5,6,7,8],[9,10,11,12],[13,14,15,16]]"
   ]
  },
  {
   "cell_type": "code",
   "execution_count": 36,
   "id": "c57bb2b4",
   "metadata": {},
   "outputs": [
    {
     "data": {
      "text/plain": [
       "[[5, 6, 7, 8], [9, 10, 11, 12]]"
      ]
     },
     "execution_count": 36,
     "metadata": {},
     "output_type": "execute_result"
    }
   ],
   "source": [
    "a[1:3] #Print index 1 to index 2.....3 excluded"
   ]
  },
  {
   "cell_type": "code",
   "execution_count": 38,
   "id": "aa8a59b7",
   "metadata": {},
   "outputs": [
    {
     "data": {
      "text/plain": [
       "[[1, 2],\n",
       " [1, 2],\n",
       " [1, 2],\n",
       " [1, 2],\n",
       " [1, 2],\n",
       " [1, 2],\n",
       " [1, 2],\n",
       " [1, 2],\n",
       " [1, 2],\n",
       " [1, 2]]"
      ]
     },
     "execution_count": 38,
     "metadata": {},
     "output_type": "execute_result"
    }
   ],
   "source": [
    "a=[[1,2] for i in range(10)]\n",
    "a"
   ]
  },
  {
   "cell_type": "code",
   "execution_count": 40,
   "id": "cb575a4b",
   "metadata": {},
   "outputs": [
    {
     "name": "stdout",
     "output_type": "stream",
     "text": [
      "5 6\n",
      "1 2 3\n",
      "4 5 6\n",
      "7 8 9\n",
      "1 1 1 1\n",
      "11 22 33\n"
     ]
    },
    {
     "data": {
      "text/plain": [
       "[[1, 2, 3], [4, 5, 6], [7, 8, 9], [1, 1, 1, 1], [11, 22, 33]]"
      ]
     },
     "execution_count": 40,
     "metadata": {},
     "output_type": "execute_result"
    }
   ],
   "source": [
    "sizes=input().split()\n",
    "m=int(sizes[0])\n",
    "n=int(sizes[1])\n",
    "a=[[int(j) for j in input().split()]for i in range(m)]\n",
    "a"
   ]
  },
  {
   "cell_type": "code",
   "execution_count": 43,
   "id": "a2a3d790",
   "metadata": {},
   "outputs": [
    {
     "name": "stdout",
     "output_type": "stream",
     "text": [
      "2 3\n",
      "1 1 1\n",
      "2 2 2\n",
      "3 3 3 "
     ]
    }
   ],
   "source": [
    "#Coulmn wise Sum\n",
    "def col_sum(a):\n",
    "    m=len(a)\n",
    "    if(m!=0):\n",
    "        n=len(a[0])\n",
    "        for j in range(n):\n",
    "            sum_j=0\n",
    "            for i in range(m):\n",
    "                sum_j=sum_j+a[i][j]\n",
    "            print(sum_j,end=' ')\n",
    "sizes=input().split()\n",
    "m=int(sizes[0])\n",
    "n=int(sizes[1])\n",
    "a=[[int(j) for j in input().split()]for i in range(m)]\n",
    "col_sum(a)"
   ]
  },
  {
   "cell_type": "markdown",
   "id": "89b0c07f",
   "metadata": {},
   "source": [
    "## 34. Row-Wise Sum :-\n",
    "For a given two-dimensional integer array/list of size (N x M), find and print the sum of each of the row elements in a single line, separated by a single space."
   ]
  },
  {
   "cell_type": "code",
   "execution_count": 44,
   "id": "7d0ee614",
   "metadata": {},
   "outputs": [
    {
     "name": "stdout",
     "output_type": "stream",
     "text": [
      "2 5\n",
      "4 5 3 2 6\n",
      "7 5 3 8 9\n",
      "20 32 "
     ]
    }
   ],
   "source": [
    "def row_sum(a):\n",
    "    m=len(a)\n",
    "    if(m!=0):\n",
    "        n=len(a[0])\n",
    "        for i in range(m):\n",
    "            sum=0\n",
    "            for j in range(n):\n",
    "                sum+=a[i][j]\n",
    "            print(sum,end=' ')\n",
    "sizes=input().split()\n",
    "m=int(sizes[0])\n",
    "n=int(sizes[1])\n",
    "a=[[int(j) for j in input().split()]for i in range(m)]\n",
    "row_sum(a)        "
   ]
  },
  {
   "cell_type": "markdown",
   "id": "4d472c10",
   "metadata": {},
   "source": [
    "## 35. Wave Print :-\n",
    "For a given two-dimensional integer array/list of size (N x M), print the array/list in a sine wave order, i.e, print the first column top to bottom, next column bottom to top and so on."
   ]
  },
  {
   "cell_type": "code",
   "execution_count": 46,
   "id": "31a3e81a",
   "metadata": {},
   "outputs": [
    {
     "name": "stdout",
     "output_type": "stream",
     "text": [
      "2 3\n",
      "1 2 3\n",
      "4 5 6\n",
      "1 2 4 5 "
     ]
    },
    {
     "ename": "IndexError",
     "evalue": "list index out of range",
     "output_type": "error",
     "traceback": [
      "\u001b[1;31m---------------------------------------------------------------------------\u001b[0m",
      "\u001b[1;31mIndexError\u001b[0m                                Traceback (most recent call last)",
      "Cell \u001b[1;32mIn[46], line 12\u001b[0m\n\u001b[0;32m     10\u001b[0m n\u001b[38;5;241m=\u001b[39m\u001b[38;5;28mint\u001b[39m(sizes[\u001b[38;5;241m1\u001b[39m])\n\u001b[0;32m     11\u001b[0m a\u001b[38;5;241m=\u001b[39m[[\u001b[38;5;28mint\u001b[39m(j) \u001b[38;5;28;01mfor\u001b[39;00m j \u001b[38;5;129;01min\u001b[39;00m \u001b[38;5;28minput\u001b[39m()\u001b[38;5;241m.\u001b[39msplit()]\u001b[38;5;28;01mfor\u001b[39;00m i \u001b[38;5;129;01min\u001b[39;00m \u001b[38;5;28mrange\u001b[39m(m)]\n\u001b[1;32m---> 12\u001b[0m \u001b[43mprint_wave\u001b[49m\u001b[43m(\u001b[49m\u001b[43ma\u001b[49m\u001b[43m)\u001b[49m\n",
      "Cell \u001b[1;32mIn[46], line 7\u001b[0m, in \u001b[0;36mprint_wave\u001b[1;34m(a)\u001b[0m\n\u001b[0;32m      5\u001b[0m \u001b[38;5;28;01mfor\u001b[39;00m j \u001b[38;5;129;01min\u001b[39;00m \u001b[38;5;28mrange\u001b[39m(n):\n\u001b[0;32m      6\u001b[0m     \u001b[38;5;28;01mfor\u001b[39;00m i \u001b[38;5;129;01min\u001b[39;00m \u001b[38;5;28mrange\u001b[39m(m):\n\u001b[1;32m----> 7\u001b[0m         \u001b[38;5;28mprint\u001b[39m(\u001b[43ma\u001b[49m\u001b[43m[\u001b[49m\u001b[43mj\u001b[49m\u001b[43m]\u001b[49m[i],end\u001b[38;5;241m=\u001b[39m\u001b[38;5;124m'\u001b[39m\u001b[38;5;124m \u001b[39m\u001b[38;5;124m'\u001b[39m)\n",
      "\u001b[1;31mIndexError\u001b[0m: list index out of range"
     ]
    }
   ],
   "source": [
    "def print_wave(a):\n",
    "    m=len(a)\n",
    "    if(m!=0):\n",
    "        n=len(a[0])\n",
    "        for j in range(n):\n",
    "            for i in range(m):\n",
    "                print(a[j][i],end=' ')\n",
    "sizes=input().split()\n",
    "m=int(sizes[0])\n",
    "n=int(sizes[1])\n",
    "a=[[int(j) for j in input().split()]for i in range(m)]\n",
    "print_wave(a)     "
   ]
  }
 ],
 "metadata": {
  "kernelspec": {
   "display_name": "Python 3 (ipykernel)",
   "language": "python",
   "name": "python3"
  },
  "language_info": {
   "codemirror_mode": {
    "name": "ipython",
    "version": 3
   },
   "file_extension": ".py",
   "mimetype": "text/x-python",
   "name": "python",
   "nbconvert_exporter": "python",
   "pygments_lexer": "ipython3",
   "version": "3.11.4"
  }
 },
 "nbformat": 4,
 "nbformat_minor": 5
}
