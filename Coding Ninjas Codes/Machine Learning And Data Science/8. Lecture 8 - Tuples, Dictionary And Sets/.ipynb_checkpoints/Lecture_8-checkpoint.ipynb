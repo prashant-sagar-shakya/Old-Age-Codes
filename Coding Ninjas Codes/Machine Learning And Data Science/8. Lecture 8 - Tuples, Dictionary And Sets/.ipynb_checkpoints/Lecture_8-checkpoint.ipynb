{
 "cells": [
  {
   "cell_type": "markdown",
   "id": "f06ab1ed",
   "metadata": {},
   "source": [
    "## Tuples :-\n",
    "Tuples are simmilar to list used when we want to store multiple entries, it is created in small braces.\n",
    "\n",
    "e.g e = 1,2 ----> It is considered as a tuple and prints as (1,2).\n",
    "\n",
    "Tuple is immutable, i.e we can't change a Tuple (Update, add, remove) Elements. "
   ]
  },
  {
   "cell_type": "code",
   "execution_count": 2,
   "id": "062119c0",
   "metadata": {},
   "outputs": [
    {
     "name": "stdout",
     "output_type": "stream",
     "text": [
      "(1, 2)\n",
      "<class 'tuple'>\n"
     ]
    }
   ],
   "source": [
    "a=(1,2)\n",
    "print(a)\n",
    "print(type(a))"
   ]
  },
  {
   "cell_type": "code",
   "execution_count": 3,
   "id": "b5b3dca7",
   "metadata": {},
   "outputs": [
    {
     "name": "stdout",
     "output_type": "stream",
     "text": [
      "3 4\n",
      "(5, 6)\n",
      "<class 'tuple'>\n"
     ]
    }
   ],
   "source": [
    "b,c=3,4\n",
    "print (b,c)\n",
    "e=5,6\n",
    "print(e)\n",
    "print(type(e))"
   ]
  },
  {
   "cell_type": "code",
   "execution_count": 4,
   "id": "f3b170e8",
   "metadata": {},
   "outputs": [
    {
     "data": {
      "text/plain": [
       "(1, 2, 3)"
      ]
     },
     "execution_count": 4,
     "metadata": {},
     "output_type": "execute_result"
    }
   ],
   "source": [
    "f=(1,2,3,4,5,6)\n",
    "f[0:3]"
   ]
  },
  {
   "cell_type": "markdown",
   "id": "804755f6",
   "metadata": {},
   "source": [
    "## Tuples Functions :-"
   ]
  },
  {
   "cell_type": "code",
   "execution_count": 11,
   "id": "8019d840",
   "metadata": {},
   "outputs": [],
   "source": [
    "a=(1,2,3)\n",
    "b=5,6"
   ]
  },
  {
   "cell_type": "code",
   "execution_count": 5,
   "id": "2c6e9853",
   "metadata": {},
   "outputs": [
    {
     "name": "stdout",
     "output_type": "stream",
     "text": [
      "1\n",
      "2\n"
     ]
    }
   ],
   "source": [
    "#for loops\n",
    "for i in a:\n",
    "    print(i)"
   ]
  },
  {
   "cell_type": "code",
   "execution_count": 8,
   "id": "91856758",
   "metadata": {},
   "outputs": [
    {
     "data": {
      "text/plain": [
       "True"
      ]
     },
     "execution_count": 8,
     "metadata": {},
     "output_type": "execute_result"
    }
   ],
   "source": [
    "1 in a"
   ]
  },
  {
   "cell_type": "code",
   "execution_count": 12,
   "id": "3619b75e",
   "metadata": {},
   "outputs": [
    {
     "data": {
      "text/plain": [
       "False"
      ]
     },
     "execution_count": 12,
     "metadata": {},
     "output_type": "execute_result"
    }
   ],
   "source": [
    "1 in b"
   ]
  },
  {
   "cell_type": "code",
   "execution_count": 13,
   "id": "6d57f511",
   "metadata": {},
   "outputs": [
    {
     "data": {
      "text/plain": [
       "(1, 2, 3, 5, 6)"
      ]
     },
     "execution_count": 13,
     "metadata": {},
     "output_type": "execute_result"
    }
   ],
   "source": [
    "c=a+b #Cocatenate tuples\n",
    "c"
   ]
  },
  {
   "cell_type": "code",
   "execution_count": 14,
   "id": "0ec85af4",
   "metadata": {},
   "outputs": [
    {
     "data": {
      "text/plain": [
       "((1, 2, 3), (5, 6))"
      ]
     },
     "execution_count": 14,
     "metadata": {},
     "output_type": "execute_result"
    }
   ],
   "source": [
    "d=(a,b) #Tuple of tuples\n",
    "d"
   ]
  },
  {
   "cell_type": "code",
   "execution_count": 15,
   "id": "aade5a8c",
   "metadata": {},
   "outputs": [
    {
     "data": {
      "text/plain": [
       "(1, 2, 3, 1, 2, 3, 1, 2, 3, 1, 2, 3)"
      ]
     },
     "execution_count": 15,
     "metadata": {},
     "output_type": "execute_result"
    }
   ],
   "source": [
    "e=a*4 #Creating a new tuples in which all the elements are those many times\n",
    "e"
   ]
  },
  {
   "cell_type": "code",
   "execution_count": 16,
   "id": "d705ccc5",
   "metadata": {},
   "outputs": [
    {
     "data": {
      "text/plain": [
       "1"
      ]
     },
     "execution_count": 16,
     "metadata": {},
     "output_type": "execute_result"
    }
   ],
   "source": [
    "min(a)"
   ]
  },
  {
   "cell_type": "code",
   "execution_count": 17,
   "id": "ca25d9be",
   "metadata": {},
   "outputs": [
    {
     "data": {
      "text/plain": [
       "3"
      ]
     },
     "execution_count": 17,
     "metadata": {},
     "output_type": "execute_result"
    }
   ],
   "source": [
    "max(a)"
   ]
  },
  {
   "cell_type": "code",
   "execution_count": 18,
   "id": "a8774d08",
   "metadata": {},
   "outputs": [
    {
     "ename": "TypeError",
     "evalue": "'<' not supported between instances of 'str' and 'int'",
     "output_type": "error",
     "traceback": [
      "\u001b[1;31m---------------------------------------------------------------------------\u001b[0m",
      "\u001b[1;31mTypeError\u001b[0m                                 Traceback (most recent call last)",
      "Cell \u001b[1;32mIn[18], line 2\u001b[0m\n\u001b[0;32m      1\u001b[0m a2\u001b[38;5;241m=\u001b[39m(\u001b[38;5;241m1\u001b[39m,\u001b[38;5;241m2\u001b[39m,\u001b[38;5;124m\"\u001b[39m\u001b[38;5;124ms\u001b[39m\u001b[38;5;124m\"\u001b[39m,(\u001b[38;5;241m1\u001b[39m,\u001b[38;5;241m2\u001b[39m,\u001b[38;5;241m3\u001b[39m))\n\u001b[1;32m----> 2\u001b[0m \u001b[38;5;28;43mmin\u001b[39;49m\u001b[43m(\u001b[49m\u001b[43ma2\u001b[49m\u001b[43m)\u001b[49m\n",
      "\u001b[1;31mTypeError\u001b[0m: '<' not supported between instances of 'str' and 'int'"
     ]
    }
   ],
   "source": [
    "a2=(1,2,\"s\",(1,2,3))\n",
    "min(a2) #'<' not supported between instances of 'str' and 'int'"
   ]
  },
  {
   "cell_type": "code",
   "execution_count": 20,
   "id": "e17c3b9d",
   "metadata": {},
   "outputs": [
    {
     "data": {
      "text/plain": [
       "(1, 2, 3, 4)"
      ]
     },
     "execution_count": 20,
     "metadata": {},
     "output_type": "execute_result"
    }
   ],
   "source": [
    "#List to tuple\n",
    "l=[1,2,3,4]\n",
    "tuple(l)"
   ]
  },
  {
   "cell_type": "markdown",
   "id": "0f75a896",
   "metadata": {},
   "source": [
    "## Variable Length Input and Output :-\n",
    "Variable Length input to a function\n"
   ]
  },
  {
   "cell_type": "code",
   "execution_count": 22,
   "id": "1951bde9",
   "metadata": {},
   "outputs": [
    {
     "ename": "TypeError",
     "evalue": "sum() takes 2 positional arguments but 4 were given",
     "output_type": "error",
     "traceback": [
      "\u001b[1;31m---------------------------------------------------------------------------\u001b[0m",
      "\u001b[1;31mTypeError\u001b[0m                                 Traceback (most recent call last)",
      "Cell \u001b[1;32mIn[22], line 4\u001b[0m\n\u001b[0;32m      1\u001b[0m \u001b[38;5;28;01mdef\u001b[39;00m \u001b[38;5;21msum\u001b[39m(a,b):\n\u001b[0;32m      2\u001b[0m     \u001b[38;5;28;01mreturn\u001b[39;00m a\u001b[38;5;241m+\u001b[39mb\n\u001b[1;32m----> 4\u001b[0m \u001b[38;5;28;43msum\u001b[39;49m\u001b[43m(\u001b[49m\u001b[38;5;241;43m1\u001b[39;49m\u001b[43m,\u001b[49m\u001b[38;5;241;43m2\u001b[39;49m\u001b[43m,\u001b[49m\u001b[38;5;241;43m3\u001b[39;49m\u001b[43m,\u001b[49m\u001b[38;5;241;43m4\u001b[39;49m\u001b[43m)\u001b[49m\n",
      "\u001b[1;31mTypeError\u001b[0m: sum() takes 2 positional arguments but 4 were given"
     ]
    }
   ],
   "source": [
    "def sum(a,b):\n",
    "    return a+b\n",
    "\n",
    "sum(1,2,3,4)\n",
    "#sum() takes 2 positional arguments but 4 were given"
   ]
  },
  {
   "cell_type": "code",
   "execution_count": 29,
   "id": "beb0b172",
   "metadata": {},
   "outputs": [
    {
     "name": "stdout",
     "output_type": "stream",
     "text": [
      "2\n",
      "3\n",
      "<class 'tuple'>\n"
     ]
    }
   ],
   "source": [
    "def sum2(a,b,*more):\n",
    "    print(a)\n",
    "    print(b)\n",
    "    print(type(more))\n",
    "sum2(2,3)\n",
    "# More takes all the input in form of a tuples, atleast 2 arguments are neccesary here\n",
    "# Because we declared a and b"
   ]
  },
  {
   "cell_type": "code",
   "execution_count": 31,
   "id": "86c998a7",
   "metadata": {},
   "outputs": [
    {
     "data": {
      "text/plain": [
       "(5, -1)"
      ]
     },
     "execution_count": 31,
     "metadata": {},
     "output_type": "execute_result"
    }
   ],
   "source": [
    "#Returning two things from a function also works in tuples\n",
    "def sum_diff(a,b):\n",
    "    return a+b, a-b\n",
    "sum_diff(2,3)"
   ]
  },
  {
   "cell_type": "code",
   "execution_count": 32,
   "id": "0c11baff",
   "metadata": {},
   "outputs": [
    {
     "name": "stdout",
     "output_type": "stream",
     "text": [
      "8\n",
      "2\n"
     ]
    }
   ],
   "source": [
    "d,e=sum_diff(5,3) #Multiple values of tuple......assigning to multiple variables\n",
    "print(d)\n",
    "print(e)"
   ]
  },
  {
   "cell_type": "markdown",
   "id": "7d1b2680",
   "metadata": {},
   "source": [
    "## Dictonary Intro :-\n",
    "Dictonary is way of storing a data in key value pairs.\n",
    "\n",
    "e.g :- Frequency of elements of a list\n",
    "\n",
    "Dictonaries are Mutable"
   ]
  },
  {
   "cell_type": "code",
   "execution_count": null,
   "id": "80c564d6",
   "metadata": {},
   "outputs": [],
   "source": [
    "# a=[] -> List\n",
    "# a=() -> Tuple\n",
    "# a={} -> Dictonary (dict)"
   ]
  },
  {
   "cell_type": "code",
   "execution_count": 33,
   "id": "35c3526a",
   "metadata": {},
   "outputs": [
    {
     "data": {
      "text/plain": [
       "dict"
      ]
     },
     "execution_count": 33,
     "metadata": {},
     "output_type": "execute_result"
    }
   ],
   "source": [
    "a={}\n",
    "type(a)"
   ]
  },
  {
   "cell_type": "code",
   "execution_count": 36,
   "id": "4b2abda0",
   "metadata": {},
   "outputs": [
    {
     "name": "stdout",
     "output_type": "stream",
     "text": [
      "{'the': 2, 'a': 5, 100: 'Str'}\n"
     ]
    }
   ],
   "source": [
    "a={\"the\":2, \"a\":5, 100:\"Str\"}\n",
    "print(a)\n",
    "# dict{key:value}"
   ]
  },
  {
   "cell_type": "code",
   "execution_count": 37,
   "id": "f1b89462",
   "metadata": {},
   "outputs": [
    {
     "data": {
      "text/plain": [
       "3"
      ]
     },
     "execution_count": 37,
     "metadata": {},
     "output_type": "execute_result"
    }
   ],
   "source": [
    "len(a)"
   ]
  },
  {
   "cell_type": "code",
   "execution_count": 38,
   "id": "4af9148f",
   "metadata": {},
   "outputs": [
    {
     "data": {
      "text/plain": [
       "{'the': 2, 'a': 5, 100: 'Str'}"
      ]
     },
     "execution_count": 38,
     "metadata": {},
     "output_type": "execute_result"
    }
   ],
   "source": [
    "b=a.copy() #Copy contents of dictonary a to b\n",
    "b"
   ]
  },
  {
   "cell_type": "code",
   "execution_count": 40,
   "id": "f7c64616",
   "metadata": {},
   "outputs": [
    {
     "data": {
      "text/plain": [
       "{'the': 3, 'a': 2, 5: 'Str'}"
      ]
     },
     "execution_count": 40,
     "metadata": {},
     "output_type": "execute_result"
    }
   ],
   "source": [
    "c=dict([(\"the\",3),('a',2),(5,\"Str\")]) # Other way of creating a dictonary\n",
    "c"
   ]
  },
  {
   "cell_type": "code",
   "execution_count": 46,
   "id": "78b08195",
   "metadata": {},
   "outputs": [
    {
     "data": {
      "text/plain": [
       "{'abc': 10, 32: 10, 4: 10}"
      ]
     },
     "execution_count": 46,
     "metadata": {},
     "output_type": "execute_result"
    }
   ],
   "source": [
    "#One more way to create a dictonary using fromkeys() method\n",
    "d=dict.fromkeys([\"abc\",32,4,4], 10)\n",
    "#If here 10 will not given then none will be printed for each value of key\n",
    "d"
   ]
  },
  {
   "cell_type": "markdown",
   "id": "89cb6581",
   "metadata": {},
   "source": [
    "## Access Looping Elements in Dictonary :-"
   ]
  },
  {
   "cell_type": "code",
   "execution_count": 1,
   "id": "3006329c",
   "metadata": {},
   "outputs": [
    {
     "data": {
      "text/plain": [
       "{1: 2, 3: 4, 'list': [1, 23], 'dict': {1: 2}}"
      ]
     },
     "execution_count": 1,
     "metadata": {},
     "output_type": "execute_result"
    }
   ],
   "source": [
    "a={1:2, 3:4, \"list\":[1,23],\"dict\":{1:2}}\n",
    "# 4 keys and 4 values\n",
    "# There is no indexing in dictonary\n",
    "# We can access a dictonary value as dict_name[key]\n",
    "a"
   ]
  },
  {
   "cell_type": "code",
   "execution_count": 2,
   "id": "29c11cee",
   "metadata": {},
   "outputs": [
    {
     "data": {
      "text/plain": [
       "[1, 23]"
      ]
     },
     "execution_count": 2,
     "metadata": {},
     "output_type": "execute_result"
    }
   ],
   "source": [
    "a[\"list\"]"
   ]
  },
  {
   "cell_type": "code",
   "execution_count": 3,
   "id": "851748b1",
   "metadata": {},
   "outputs": [
    {
     "data": {
      "text/plain": [
       "2"
      ]
     },
     "execution_count": 3,
     "metadata": {},
     "output_type": "execute_result"
    }
   ],
   "source": [
    "a.get(1) # Or, we can use get() method to access value of a key of dictonary"
   ]
  },
  {
   "cell_type": "code",
   "execution_count": 7,
   "id": "fa73b642",
   "metadata": {},
   "outputs": [
    {
     "name": "stdout",
     "output_type": "stream",
     "text": [
      "None\n"
     ]
    }
   ],
   "source": [
    "print(a.get(\"li\",None)) # No error.....in case if key is not present then it returns none by default and we can also\n",
    "# change it further"
   ]
  },
  {
   "cell_type": "code",
   "execution_count": 8,
   "id": "30b80ce1",
   "metadata": {},
   "outputs": [
    {
     "data": {
      "text/plain": [
       "dict_keys([1, 3, 'list', 'dict'])"
      ]
     },
     "execution_count": 8,
     "metadata": {},
     "output_type": "execute_result"
    }
   ],
   "source": [
    "#To print all the keys of dictonary.....keys() method is used\n",
    "a.keys()"
   ]
  },
  {
   "cell_type": "code",
   "execution_count": 10,
   "id": "b3338bcc",
   "metadata": {},
   "outputs": [
    {
     "data": {
      "text/plain": [
       "dict_values([2, 4, [1, 23], {1: 2}])"
      ]
     },
     "execution_count": 10,
     "metadata": {},
     "output_type": "execute_result"
    }
   ],
   "source": [
    "#To print all the values of a dictonary....values() method is used\n",
    "a.values()"
   ]
  },
  {
   "cell_type": "code",
   "execution_count": 11,
   "id": "f9337379",
   "metadata": {},
   "outputs": [
    {
     "data": {
      "text/plain": [
       "dict_items([(1, 2), (3, 4), ('list', [1, 23]), ('dict', {1: 2})])"
      ]
     },
     "execution_count": 11,
     "metadata": {},
     "output_type": "execute_result"
    }
   ],
   "source": [
    "#If we want to print all the key value pairs then items() method is used.\n",
    "# it returns a list of tuples of all the key values pairs of the dictonary\n",
    "a.items()"
   ]
  },
  {
   "cell_type": "code",
   "execution_count": 13,
   "id": "a9baefea",
   "metadata": {},
   "outputs": [
    {
     "name": "stdout",
     "output_type": "stream",
     "text": [
      "1 2\n",
      "3 4\n",
      "list [1, 23]\n",
      "dict {1: 2}\n"
     ]
    }
   ],
   "source": [
    "#Using a for loop in dictonary\n",
    "for i in a: #Print all the keys and values\n",
    "    print(i, a[i])"
   ]
  },
  {
   "cell_type": "code",
   "execution_count": 14,
   "id": "23c10ec6",
   "metadata": {},
   "outputs": [
    {
     "name": "stdout",
     "output_type": "stream",
     "text": [
      "2\n",
      "4\n",
      "[1, 23]\n",
      "{1: 2}\n"
     ]
    }
   ],
   "source": [
    "for i in a.values(): #Print all the values\n",
    "    print(i)"
   ]
  },
  {
   "cell_type": "code",
   "execution_count": 15,
   "id": "397db648",
   "metadata": {},
   "outputs": [
    {
     "data": {
      "text/plain": [
       "True"
      ]
     },
     "execution_count": 15,
     "metadata": {},
     "output_type": "execute_result"
    }
   ],
   "source": [
    "#Checking a key is present in dictonary or not\n",
    "\"list\" in a\n",
    "# key_name in a....Returns Boolean"
   ]
  },
  {
   "cell_type": "markdown",
   "id": "8a528089",
   "metadata": {},
   "source": [
    "## Adding or Removing Data in Dictonary :-"
   ]
  },
  {
   "cell_type": "code",
   "execution_count": 18,
   "id": "76f9b2d2",
   "metadata": {},
   "outputs": [
    {
     "data": {
      "text/plain": [
       "{1: 2, 3: 4, 'list': [1, 23], 'dict': {1: 2}, 'tuple': (1, 2, 3)}"
      ]
     },
     "execution_count": 18,
     "metadata": {},
     "output_type": "execute_result"
    }
   ],
   "source": [
    "a['tuple']=(1,2,3) #Adds a tuple to end of the dictonary\n",
    "a"
   ]
  },
  {
   "cell_type": "code",
   "execution_count": 19,
   "id": "60e9f81f",
   "metadata": {},
   "outputs": [
    {
     "data": {
      "text/plain": [
       "{1: 10, 3: 4, 'list': [1, 23], 'dict': {1: 2}, 'tuple': (1, 2, 3)}"
      ]
     },
     "execution_count": 19,
     "metadata": {},
     "output_type": "execute_result"
    }
   ],
   "source": [
    "#Changing the value of a key\n",
    "#dict_name[exixting key]=updated value\n",
    "a[1]=10\n",
    "a"
   ]
  },
  {
   "cell_type": "code",
   "execution_count": 21,
   "id": "54a45812",
   "metadata": {},
   "outputs": [
    {
     "data": {
      "text/plain": [
       "{1: 10,\n",
       " 3: 5,\n",
       " 'list': [1, 23],\n",
       " 'dict': {1: 2},\n",
       " 'tuple': (1, 2, 3),\n",
       " 'the': 4,\n",
       " 2: 100}"
      ]
     },
     "execution_count": 21,
     "metadata": {},
     "output_type": "execute_result"
    }
   ],
   "source": [
    "# Updating a dictonary w.r.t an another dictonary, if something is common the value is updated\n",
    "# Otherwise added in dictonary\n",
    "b={3:5, \"the\":4, 2:100}\n",
    "a.update(b)\n",
    "a"
   ]
  },
  {
   "cell_type": "code",
   "execution_count": 22,
   "id": "e4b937df",
   "metadata": {},
   "outputs": [
    {
     "data": {
      "text/plain": [
       "{1: 10, 3: 5, 'list': [1, 23], 'dict': {1: 2}, 'tuple': (1, 2, 3), 'the': 4}"
      ]
     },
     "execution_count": 22,
     "metadata": {},
     "output_type": "execute_result"
    }
   ],
   "source": [
    "# Removing a value from a dictonary....pop(_keyname) method is used\n",
    "a.pop(2)\n",
    "a\n",
    "#If the key is non-existing in dictonary then it throws a keyerror"
   ]
  },
  {
   "cell_type": "code",
   "execution_count": 23,
   "id": "c553654d",
   "metadata": {},
   "outputs": [
    {
     "data": {
      "text/plain": [
       "{3: 5, 'list': [1, 23], 'dict': {1: 2}, 'tuple': (1, 2, 3), 'the': 4}"
      ]
     },
     "execution_count": 23,
     "metadata": {},
     "output_type": "execute_result"
    }
   ],
   "source": [
    "#We can also use del method to remove a key from dictonary\n",
    "del a[1] #del dict_name[key_name]\n",
    "a"
   ]
  },
  {
   "cell_type": "code",
   "execution_count": 24,
   "id": "6309a7d0",
   "metadata": {},
   "outputs": [
    {
     "data": {
      "text/plain": [
       "{}"
      ]
     },
     "execution_count": 24,
     "metadata": {},
     "output_type": "execute_result"
    }
   ],
   "source": [
    "#To remove everything from a dictonary clear() method is used\n",
    "a.clear()\n",
    "a"
   ]
  },
  {
   "cell_type": "code",
   "execution_count": null,
   "id": "612a5428",
   "metadata": {},
   "outputs": [],
   "source": [
    "#To delete a dictonary del method is used\n",
    "del a\n",
    "a\n",
    "#name 'a' is not defined"
   ]
  },
  {
   "cell_type": "markdown",
   "id": "568dd828",
   "metadata": {},
   "source": [
    "## Print All Words With Frequency K :-"
   ]
  },
  {
   "cell_type": "code",
   "execution_count": 34,
   "id": "1a09deea",
   "metadata": {},
   "outputs": [],
   "source": [
    "s=\"this is a word string having many many word\"\n",
    "k=2"
   ]
  },
  {
   "cell_type": "code",
   "execution_count": 35,
   "id": "2d15b9da",
   "metadata": {},
   "outputs": [
    {
     "data": {
      "text/plain": [
       "['this', 'is', 'a', 'word', 'string', 'having', 'many', 'many', 'word']"
      ]
     },
     "execution_count": 35,
     "metadata": {},
     "output_type": "execute_result"
    }
   ],
   "source": [
    "words = s.split()\n",
    "words"
   ]
  },
  {
   "cell_type": "code",
   "execution_count": 36,
   "id": "0fef4146",
   "metadata": {},
   "outputs": [
    {
     "data": {
      "text/plain": [
       "['a', 'having', 'is', 'many', 'many', 'string', 'this', 'word', 'word']"
      ]
     },
     "execution_count": 36,
     "metadata": {},
     "output_type": "execute_result"
    }
   ],
   "source": [
    "words.sort()\n",
    "words"
   ]
  },
  {
   "cell_type": "code",
   "execution_count": 37,
   "id": "0bbd8409",
   "metadata": {},
   "outputs": [
    {
     "ename": "KeyError",
     "evalue": "'a'",
     "output_type": "error",
     "traceback": [
      "\u001b[1;31m---------------------------------------------------------------------------\u001b[0m",
      "\u001b[1;31mKeyError\u001b[0m                                  Traceback (most recent call last)",
      "Cell \u001b[1;32mIn[37], line 3\u001b[0m\n\u001b[0;32m      1\u001b[0m d\u001b[38;5;241m=\u001b[39m{}\n\u001b[0;32m      2\u001b[0m \u001b[38;5;28;01mfor\u001b[39;00m w \u001b[38;5;129;01min\u001b[39;00m words:\n\u001b[1;32m----> 3\u001b[0m     d[w]\u001b[38;5;241m=\u001b[39m\u001b[43md\u001b[49m\u001b[43m[\u001b[49m\u001b[43mw\u001b[49m\u001b[43m]\u001b[49m\u001b[38;5;241m+\u001b[39m\u001b[38;5;241m1\u001b[39m\n",
      "\u001b[1;31mKeyError\u001b[0m: 'a'"
     ]
    }
   ],
   "source": [
    "d={}\n",
    "for w in words:\n",
    "    d[w]=d[w]+1  #Keyerror"
   ]
  },
  {
   "cell_type": "code",
   "execution_count": 39,
   "id": "fcb56ac6",
   "metadata": {},
   "outputs": [
    {
     "data": {
      "text/plain": [
       "{'a': 1, 'having': 1, 'is': 1, 'many': 2, 'string': 1, 'this': 1, 'word': 2}"
      ]
     },
     "execution_count": 39,
     "metadata": {},
     "output_type": "execute_result"
    }
   ],
   "source": [
    "d={}\n",
    "for w in words:\n",
    "    if w in d:\n",
    "        d[w]=d[w]+1\n",
    "    else:\n",
    "        d[w]=1\n",
    "#If the word present in dictonary then increase it's frequency else set the frequency 1\n",
    "d"
   ]
  },
  {
   "cell_type": "code",
   "execution_count": 40,
   "id": "fafa8845",
   "metadata": {},
   "outputs": [
    {
     "data": {
      "text/plain": [
       "{'a': 1, 'having': 1, 'is': 1, 'many': 2, 'string': 1, 'this': 1, 'word': 2}"
      ]
     },
     "execution_count": 40,
     "metadata": {},
     "output_type": "execute_result"
    }
   ],
   "source": [
    "#Other Way\n",
    "d={}\n",
    "for w in words:\n",
    "    d[w]=d.get(w,0)+1\n",
    "d"
   ]
  },
  {
   "cell_type": "code",
   "execution_count": 41,
   "id": "89e37f8a",
   "metadata": {},
   "outputs": [
    {
     "name": "stdout",
     "output_type": "stream",
     "text": [
      "many\n",
      "word\n"
     ]
    }
   ],
   "source": [
    "for w in d:\n",
    "    if d[w]==k:\n",
    "        print(w)"
   ]
  },
  {
   "cell_type": "code",
   "execution_count": 42,
   "id": "31d51edc",
   "metadata": {},
   "outputs": [],
   "source": [
    "def printKFreqWords(s,k):\n",
    "    words=s.split()\n",
    "    d={}\n",
    "    for w in words:\n",
    "        d[w]=d.get(w,0)+1\n",
    "    for w in d:\n",
    "        if d[w]==k:\n",
    "            print(w)"
   ]
  },
  {
   "cell_type": "code",
   "execution_count": 44,
   "id": "e4dedbb3",
   "metadata": {},
   "outputs": [
    {
     "name": "stdout",
     "output_type": "stream",
     "text": [
      "word\n",
      "many\n"
     ]
    }
   ],
   "source": [
    "printKFreqWords(s,k)"
   ]
  },
  {
   "cell_type": "markdown",
   "id": "473a283e",
   "metadata": {},
   "source": [
    "## 20. Highest Frequency Number :-\n",
    "You are given an array of integers that contain numbers in random order. Write a program to find and return the number which occurs the maximum times in the given input.\n",
    "\n",
    "If two or more elements contend for the maximum frequency, return the element which occurs in the array first.\n"
   ]
  },
  {
   "cell_type": "code",
   "execution_count": 45,
   "id": "a4aa1f8c",
   "metadata": {},
   "outputs": [
    {
     "name": "stdout",
     "output_type": "stream",
     "text": [
      "13\n",
      "2 12 2 11 12 2 1 2 2 11 12 2 6\n",
      "2\n"
     ]
    }
   ],
   "source": [
    "def HighFreq(l):\n",
    "    d={}\n",
    "    for k in l:\n",
    "        d[k]=d.get(k,0)+1\n",
    "    Max=max(d.values())\n",
    "    for k in d:\n",
    "        if(d[k]==Max):\n",
    "            return k\n",
    "size=int(input())\n",
    "l=[int(i) for i in input().split()]\n",
    "print(HighFreq(l))"
   ]
  },
  {
   "cell_type": "markdown",
   "id": "eb1b3e1b",
   "metadata": {},
   "source": [
    "## 21. Maximum Distance :-\n",
    "Given an array that might contain duplicate elements, find the maximum possible distance between occurrences of two repeating elements i.e. elements having same value. If there are no duplicate elements in the array, return 0."
   ]
  },
  {
   "cell_type": "code",
   "execution_count": null,
   "id": "4f595f73",
   "metadata": {},
   "outputs": [],
   "source": []
  },
  {
   "cell_type": "markdown",
   "id": "ce6859a0",
   "metadata": {},
   "source": [
    "## Sets Intro :-\n",
    "Sets are not ordered, i.e no indexing.\n",
    "\n",
    "it has some collection data to use.\n",
    "\n",
    "It is basically used to find uniqueness."
   ]
  },
  {
   "cell_type": "code",
   "execution_count": 3,
   "id": "e6440248",
   "metadata": {},
   "outputs": [
    {
     "data": {
      "text/plain": [
       "{1, 2, 3, 4, 5, 'abc', 'apple'}"
      ]
     },
     "execution_count": 3,
     "metadata": {},
     "output_type": "execute_result"
    }
   ],
   "source": [
    "a = {1,2,3,4,5,\"apple\",\"abc\"}\n",
    "a"
   ]
  },
  {
   "cell_type": "code",
   "execution_count": 4,
   "id": "0c465831",
   "metadata": {},
   "outputs": [
    {
     "data": {
      "text/plain": [
       "set"
      ]
     },
     "execution_count": 4,
     "metadata": {},
     "output_type": "execute_result"
    }
   ],
   "source": [
    "type(a)"
   ]
  },
  {
   "cell_type": "code",
   "execution_count": 6,
   "id": "1e6611fb",
   "metadata": {},
   "outputs": [
    {
     "name": "stdout",
     "output_type": "stream",
     "text": [
      "apple\n",
      "1\n",
      "2\n",
      "3\n",
      "4\n",
      "5\n",
      "abc\n",
      "7\n"
     ]
    }
   ],
   "source": [
    "for i in a:\n",
    "    print(i)\n",
    "print(len(a))"
   ]
  },
  {
   "cell_type": "code",
   "execution_count": 169,
   "id": "9e61a4c2",
   "metadata": {},
   "outputs": [
    {
     "data": {
      "text/plain": [
       "{1, 2, 3, 4, 5, 'abc', 'apple', 'temp'}"
      ]
     },
     "execution_count": 169,
     "metadata": {},
     "output_type": "execute_result"
    }
   ],
   "source": [
    "#To add an element in set we have to use add method\n",
    "a.add(\"temp\")\n",
    "a"
   ]
  },
  {
   "cell_type": "code",
   "execution_count": 170,
   "id": "f6967aa1",
   "metadata": {},
   "outputs": [
    {
     "data": {
      "text/plain": [
       "{1, '123', 2, 3, 4, 5, 'abc', 'apple', 'temp'}"
      ]
     },
     "execution_count": 170,
     "metadata": {},
     "output_type": "execute_result"
    }
   ],
   "source": [
    "#To update a set w.r.t an another set we've to use update method\n",
    "b={\"abc\",\"123\"}\n",
    "a.update(b)\n",
    "a"
   ]
  },
  {
   "cell_type": "code",
   "execution_count": 171,
   "id": "a13da56c",
   "metadata": {},
   "outputs": [
    {
     "data": {
      "text/plain": [
       "{1, '123', 2, 3, 4, 5, 'abc', 'apple'}"
      ]
     },
     "execution_count": 171,
     "metadata": {},
     "output_type": "execute_result"
    }
   ],
   "source": [
    "#To remove a value from a set we've to use remove method\n",
    "#If we want to remove something that is not in set then we get a keyerror\n",
    "a.remove(\"temp\")\n",
    "a"
   ]
  },
  {
   "cell_type": "code",
   "execution_count": 172,
   "id": "205434b7",
   "metadata": {},
   "outputs": [
    {
     "data": {
      "text/plain": [
       "set()"
      ]
     },
     "execution_count": 172,
     "metadata": {},
     "output_type": "execute_result"
    }
   ],
   "source": [
    "#To clear a set we've to use clear method\n",
    "a.clear()\n",
    "a"
   ]
  },
  {
   "cell_type": "code",
   "execution_count": 173,
   "id": "12252e2f",
   "metadata": {},
   "outputs": [
    {
     "ename": "NameError",
     "evalue": "name 'a' is not defined",
     "output_type": "error",
     "traceback": [
      "\u001b[1;31m---------------------------------------------------------------------------\u001b[0m",
      "\u001b[1;31mNameError\u001b[0m                                 Traceback (most recent call last)",
      "Cell \u001b[1;32mIn[173], line 3\u001b[0m\n\u001b[0;32m      1\u001b[0m \u001b[38;5;66;03m#To delete a set the generic delete method is used\u001b[39;00m\n\u001b[0;32m      2\u001b[0m \u001b[38;5;28;01mdel\u001b[39;00m a\n\u001b[1;32m----> 3\u001b[0m \u001b[43ma\u001b[49m\n",
      "\u001b[1;31mNameError\u001b[0m: name 'a' is not defined"
     ]
    }
   ],
   "source": [
    "#To delete a set the generic delete method is used\n",
    "del a\n",
    "a"
   ]
  },
  {
   "cell_type": "code",
   "execution_count": 175,
   "id": "ec572d46",
   "metadata": {},
   "outputs": [],
   "source": [
    "a={1,2,3,\"1bc\",\"dc\"}"
   ]
  },
  {
   "cell_type": "code",
   "execution_count": 176,
   "id": "baf7e9ee",
   "metadata": {},
   "outputs": [
    {
     "data": {
      "text/plain": [
       "{1, 2, 3, 'dc'}"
      ]
     },
     "execution_count": 176,
     "metadata": {},
     "output_type": "execute_result"
    }
   ],
   "source": [
    "#To remove something from a set discard method is also used.\n",
    "#When we pass a value to discard which is not present in set, it returns None.\n",
    "a.discard(\"1bc\")\n",
    "a"
   ]
  },
  {
   "cell_type": "code",
   "execution_count": 178,
   "id": "00162f45",
   "metadata": {},
   "outputs": [
    {
     "name": "stdout",
     "output_type": "stream",
     "text": [
      "None\n"
     ]
    }
   ],
   "source": [
    "print(a.discard(a))"
   ]
  },
  {
   "cell_type": "code",
   "execution_count": 184,
   "id": "963a28aa",
   "metadata": {},
   "outputs": [
    {
     "data": {
      "text/plain": [
       "{2, 3, 'dc'}"
      ]
     },
     "execution_count": 184,
     "metadata": {},
     "output_type": "execute_result"
    }
   ],
   "source": [
    "#pop() method is also used to remove an element from set\n",
    "a.pop() #removes randomly anything\n",
    "a"
   ]
  },
  {
   "cell_type": "markdown",
   "id": "018ddfc3",
   "metadata": {},
   "source": [
    "## Functions in Sets :-\n",
    "Like ;- Difference, union, intersection etc."
   ]
  },
  {
   "cell_type": "code",
   "execution_count": 214,
   "id": "7326e922",
   "metadata": {},
   "outputs": [
    {
     "data": {
      "text/plain": [
       "{1, 2, 3, 4, 5, 6, 7}"
      ]
     },
     "execution_count": 214,
     "metadata": {},
     "output_type": "execute_result"
    }
   ],
   "source": [
    "#union() method finds union of two sets\n",
    "a={1,2,3,4}\n",
    "b={4,5,6,7}\n",
    "a.union(b)"
   ]
  },
  {
   "cell_type": "code",
   "execution_count": 199,
   "id": "030056ee",
   "metadata": {},
   "outputs": [
    {
     "data": {
      "text/plain": [
       "{4}"
      ]
     },
     "execution_count": 199,
     "metadata": {},
     "output_type": "execute_result"
    }
   ],
   "source": [
    "#intersection() method finds intersection of two sets\n",
    "a.intersection(b)"
   ]
  },
  {
   "cell_type": "code",
   "execution_count": 202,
   "id": "979e5050",
   "metadata": {},
   "outputs": [
    {
     "data": {
      "text/plain": [
       "{1, 2, 3}"
      ]
     },
     "execution_count": 202,
     "metadata": {},
     "output_type": "execute_result"
    }
   ],
   "source": [
    "#difference() method find the difference of two sets. i.e, Everthing which is present in set a and not in set b\n",
    "a.difference(b) #or, a-b"
   ]
  },
  {
   "cell_type": "code",
   "execution_count": 188,
   "id": "0f6f2e9f",
   "metadata": {},
   "outputs": [
    {
     "data": {
      "text/plain": [
       "{1, 2, 3}"
      ]
     },
     "execution_count": 188,
     "metadata": {},
     "output_type": "execute_result"
    }
   ],
   "source": [
    "a-b"
   ]
  },
  {
   "cell_type": "code",
   "execution_count": 200,
   "id": "8d5c16cd",
   "metadata": {},
   "outputs": [
    {
     "data": {
      "text/plain": [
       "{1, 2, 3, 5, 6, 7}"
      ]
     },
     "execution_count": 200,
     "metadata": {},
     "output_type": "execute_result"
    }
   ],
   "source": [
    "#Symmetric Diffrence is union-intersection of two sets\n",
    "#For finding symmetric difference of two sets symmetric_difference() method is used\n",
    "a.symmetric_difference(b)"
   ]
  },
  {
   "cell_type": "code",
   "execution_count": 205,
   "id": "2f2fc34b",
   "metadata": {},
   "outputs": [
    {
     "data": {
      "text/plain": [
       "{4}"
      ]
     },
     "execution_count": 205,
     "metadata": {},
     "output_type": "execute_result"
    }
   ],
   "source": [
    "#intersection_update(), difference_update(), symmetric_difference_update() methods,\n",
    "#First implement the set operation on set a w.r.t. set b and then update a to the resultant value\n",
    "a.intersection_update(b)\n",
    "a"
   ]
  },
  {
   "cell_type": "code",
   "execution_count": 209,
   "id": "38d4fa64",
   "metadata": {},
   "outputs": [
    {
     "data": {
      "text/plain": [
       "{1, 2, 3}"
      ]
     },
     "execution_count": 209,
     "metadata": {},
     "output_type": "execute_result"
    }
   ],
   "source": [
    "a.difference_update(b)\n",
    "a"
   ]
  },
  {
   "cell_type": "code",
   "execution_count": 212,
   "id": "7ead1b6a",
   "metadata": {},
   "outputs": [
    {
     "data": {
      "text/plain": [
       "{1, 2, 3, 5, 6, 7}"
      ]
     },
     "execution_count": 212,
     "metadata": {},
     "output_type": "execute_result"
    }
   ],
   "source": [
    "a.symmetric_difference_update(b)\n",
    "a"
   ]
  },
  {
   "cell_type": "code",
   "execution_count": 215,
   "id": "7f09d772",
   "metadata": {},
   "outputs": [
    {
     "data": {
      "text/plain": [
       "False"
      ]
     },
     "execution_count": 215,
     "metadata": {},
     "output_type": "execute_result"
    }
   ],
   "source": [
    "#To check a set is subset of other or not, issubset() method is used. It returns boolean value.\n",
    "a.issubset(b)"
   ]
  },
  {
   "cell_type": "code",
   "execution_count": 216,
   "id": "b672c02d",
   "metadata": {},
   "outputs": [
    {
     "data": {
      "text/plain": [
       "True"
      ]
     },
     "execution_count": 216,
     "metadata": {},
     "output_type": "execute_result"
    }
   ],
   "source": [
    "c={1,2}\n",
    "c.issubset(a)"
   ]
  },
  {
   "cell_type": "code",
   "execution_count": 217,
   "id": "85173d19",
   "metadata": {},
   "outputs": [
    {
     "data": {
      "text/plain": [
       "True"
      ]
     },
     "execution_count": 217,
     "metadata": {},
     "output_type": "execute_result"
    }
   ],
   "source": [
    "#To check a set is superset of other or not, issubset() method is used. It returns boolean value.\n",
    "a.issuperset(c)"
   ]
  },
  {
   "cell_type": "code",
   "execution_count": 219,
   "id": "b0d3b2ac",
   "metadata": {},
   "outputs": [
    {
     "data": {
      "text/plain": [
       "False"
      ]
     },
     "execution_count": 219,
     "metadata": {},
     "output_type": "execute_result"
    }
   ],
   "source": [
    "#To check two sets are disjoint of each other or not, isdisjoint() method is used. It returns boolean value.\n",
    "a.isdisjoint(b)"
   ]
  },
  {
   "cell_type": "markdown",
   "id": "af5a505f",
   "metadata": {},
   "source": [
    "## Sum of All Unique Numbers in List :-"
   ]
  },
  {
   "cell_type": "code",
   "execution_count": 222,
   "id": "3a0333d6",
   "metadata": {},
   "outputs": [
    {
     "name": "stdout",
     "output_type": "stream",
     "text": [
      "1 2 3 4 4 3 4 2 1 5 5\n",
      "15\n"
     ]
    }
   ],
   "source": [
    "l=[int(i) for i in input().split()]\n",
    "s=set() #Creating an empty set\n",
    "for i in l:\n",
    "    s.add(i)\n",
    "sum=0\n",
    "for i in s:\n",
    "    sum+=i\n",
    "print(sum)"
   ]
  }
 ],
 "metadata": {
  "kernelspec": {
   "display_name": "Python 3 (ipykernel)",
   "language": "python",
   "name": "python3"
  },
  "language_info": {
   "codemirror_mode": {
    "name": "ipython",
    "version": 3
   },
   "file_extension": ".py",
   "mimetype": "text/x-python",
   "name": "python",
   "nbconvert_exporter": "python",
   "pygments_lexer": "ipython3",
   "version": "3.10.9"
  }
 },
 "nbformat": 4,
 "nbformat_minor": 5
}
