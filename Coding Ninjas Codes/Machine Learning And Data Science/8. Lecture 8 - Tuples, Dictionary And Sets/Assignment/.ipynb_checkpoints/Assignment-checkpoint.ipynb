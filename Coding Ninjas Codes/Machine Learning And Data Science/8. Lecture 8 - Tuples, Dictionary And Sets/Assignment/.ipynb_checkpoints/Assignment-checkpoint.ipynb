{
 "cells": [
  {
   "cell_type": "markdown",
   "id": "4471b0d0",
   "metadata": {},
   "source": [
    "## 1. First non repeating character :-\n",
    "In a given string, find the first non-repeating character .You are given a string, that can contain repeating characters. Your task is to return the first character in this string that does not repeat. i.e., occurs exactly once. The string will contain characters only from English alphabet set, i.e., ('A' - 'Z') and ('a' - 'z'). If there is no non-repeating character print the first character of string."
   ]
  },
  {
   "cell_type": "code",
   "execution_count": 8,
   "id": "424483ce",
   "metadata": {},
   "outputs": [
    {
     "name": "stdout",
     "output_type": "stream",
     "text": [
      "aDcadhc\n",
      "D\n"
     ]
    }
   ],
   "source": [
    "def Firstnonrepeat(s):\n",
    "    words=[i for i in s]\n",
    "    d={}\n",
    "    for k in words:\n",
    "        d[k]=d.get(k,0)+1\n",
    "    for k in d:\n",
    "        if d[k]==1:\n",
    "            return k\n",
    "s=input()\n",
    "print(Firstnonrepeat(s))"
   ]
  },
  {
   "cell_type": "markdown",
   "id": "73b9e6ec",
   "metadata": {},
   "source": [
    "## 2. Different Names :-\n",
    "In Little Flowers Public School, there are many students with same first names. You are given a task to find the students with same names. You will be given a string comprising of all the names of students and you have to tell the name and count of those students having same. If all the names are unique, print -1 instead.\n",
    "\n",
    "Note: We don't have to mention names whose frequency is 1."
   ]
  },
  {
   "cell_type": "code",
   "execution_count": 12,
   "id": "3ac77f19",
   "metadata": {},
   "outputs": [
    {
     "name": "stdout",
     "output_type": "stream",
     "text": [
      "Prashant\n",
      "-1\n"
     ]
    }
   ],
   "source": [
    "def different_names(s):\n",
    "    words=[i for i in s.split()]\n",
    "    d={}\n",
    "    for k in words:\n",
    "        d[k]=d.get(k,0)+1\n",
    "    for k in d:\n",
    "        if d[k]>1:\n",
    "            print(k,d[k])\n",
    "    else:\n",
    "        print(-1)\n",
    "s=input()\n",
    "different_names(s)"
   ]
  },
  {
   "cell_type": "markdown",
   "id": "ac68c5f3",
   "metadata": {},
   "source": [
    "## 3. Even Count :-\n",
    "You are provided with an integer array where each number is present either odd number of times or even number of times. You have to find and return the number which is present even number of times.\n",
    "\n",
    "If multiple numbers are present even number of times, then return that number which occurs first among these numbers in the given array. If no such number exists, then return -1.\n",
    "\n",
    "Note : You may take extra space but solve this problem in O(n) time."
   ]
  },
  {
   "cell_type": "code",
   "execution_count": 14,
   "id": "274c1398",
   "metadata": {},
   "outputs": [
    {
     "name": "stdout",
     "output_type": "stream",
     "text": [
      "6\n",
      "2 5 3 5 3 4 \n",
      "5\n"
     ]
    }
   ],
   "source": [
    "def Even_Count(lis):\n",
    "    d={}\n",
    "    for k in lis:\n",
    "        d[k]=d.get(k,0)+1\n",
    "    for k in d:\n",
    "        if d[k]%2==0:\n",
    "            return k\n",
    "size=int(input())\n",
    "lis=[int(i) for i in input().split()]\n",
    "print(Even_Count(lis))"
   ]
  },
  {
   "cell_type": "markdown",
   "id": "a77bf770",
   "metadata": {},
   "source": [
    "## 4. Unique triangles :-\n",
    "You are given n triangles. You are required to find how many triangles are unique out of given triangles. For each triangle you are given three integers a, b and c (the sides of a triangle).\n",
    "\n",
    "A triangle is said to be unique if there is no other triangle with same set of sides.\n",
    "\n",
    "Note : It is always possible to form triangle with given sides.\n"
   ]
  },
  {
   "cell_type": "code",
   "execution_count": 12,
   "id": "3b0c87db",
   "metadata": {},
   "outputs": [
    {
     "name": "stdout",
     "output_type": "stream",
     "text": [
      "5\n",
      "5 7 6\n",
      "7 6 5\n",
      "8 2 9\n",
      "2 3 4\n",
      "3 2 4\n",
      "1\n"
     ]
    }
   ],
   "source": [
    "n=int(input())\n",
    "l=[]\n",
    "count=0\n",
    "for i in range(n):\n",
    "    val = {int(i) for i in input().split()}\n",
    "    l.append(val)\n",
    "for i in range (0,n-1,2):\n",
    "    if(l[i].intersection(l[i+1])!=l[i]):\n",
    "        count+=1\n",
    "print(count)"
   ]
  },
  {
   "cell_type": "markdown",
   "id": "ebe22a4f",
   "metadata": {},
   "source": [
    "## 5. Pairs with difference K :-\n",
    "You are given with an array of integers and an integer K. You have to find and print the count of all such pairs which have difference K.\n",
    "\n",
    "Note: Take absolute difference between the elements of the array.\n"
   ]
  },
  {
   "cell_type": "code",
   "execution_count": null,
   "id": "26abad25",
   "metadata": {},
   "outputs": [],
   "source": []
  }
 ],
 "metadata": {
  "kernelspec": {
   "display_name": "Python 3 (ipykernel)",
   "language": "python",
   "name": "python3"
  },
  "language_info": {
   "codemirror_mode": {
    "name": "ipython",
    "version": 3
   },
   "file_extension": ".py",
   "mimetype": "text/x-python",
   "name": "python",
   "nbconvert_exporter": "python",
   "pygments_lexer": "ipython3",
   "version": "3.10.9"
  }
 },
 "nbformat": 4,
 "nbformat_minor": 5
}
