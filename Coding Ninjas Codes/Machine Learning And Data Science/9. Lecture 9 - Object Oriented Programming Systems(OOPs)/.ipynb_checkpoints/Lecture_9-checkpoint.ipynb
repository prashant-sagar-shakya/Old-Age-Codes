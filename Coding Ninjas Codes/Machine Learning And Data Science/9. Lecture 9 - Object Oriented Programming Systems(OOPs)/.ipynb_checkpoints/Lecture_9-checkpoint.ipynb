{
 "cells": [
  {
   "cell_type": "markdown",
   "id": "16351708",
   "metadata": {},
   "source": [
    "## Introduction :-\n",
    "It is a programming pradime which main focus on objects rather than the functions, Objects are more important than the logic dealing behind with manipulation.\n",
    "\n",
    "Objects :- Any real world entity, each and every object posseses some characteristics and some behaviour.\n",
    "\n",
    "Class :- A class is a blueprint that defines the behaviour of an object."
   ]
  },
  {
   "cell_type": "markdown",
   "id": "8e3edf52",
   "metadata": {},
   "source": [
    "## Create Class & Objects :-\n",
    "Every object has two diffrent things -> Behaviour and characteristics, These characteristics are called attributes and behaviours are called method or function of that particular object."
   ]
  },
  {
   "cell_type": "code",
   "execution_count": 1,
   "id": "45e67ec3",
   "metadata": {},
   "outputs": [
    {
     "name": "stdout",
     "output_type": "stream",
     "text": [
      "<class 'int'>\n"
     ]
    }
   ],
   "source": [
    "a=10\n",
    "print(type(a)) # Variable a is of int class"
   ]
  },
  {
   "cell_type": "code",
   "execution_count": 2,
   "id": "bd37a32c",
   "metadata": {},
   "outputs": [
    {
     "ename": "SyntaxError",
     "evalue": "incomplete input (3149577075.py, line 3)",
     "output_type": "error",
     "traceback": [
      "\u001b[1;36m  Cell \u001b[1;32mIn[2], line 3\u001b[1;36m\u001b[0m\n\u001b[1;33m    \u001b[0m\n\u001b[1;37m    ^\u001b[0m\n\u001b[1;31mSyntaxError\u001b[0m\u001b[1;31m:\u001b[0m incomplete input\n"
     ]
    }
   ],
   "source": [
    "#Creating our own class\n",
    "class Student:\n",
    "    "
   ]
  },
  {
   "cell_type": "code",
   "execution_count": 3,
   "id": "e3436a0d",
   "metadata": {},
   "outputs": [],
   "source": [
    "class Student:\n",
    "    pass #Completes our syntax without throwing any error"
   ]
  },
  {
   "cell_type": "code",
   "execution_count": null,
   "id": "e3f42e27",
   "metadata": {},
   "outputs": [],
   "source": [
    "class Student:\n",
    "    #Objects of class\n",
    "    pass\n",
    "s1=Student() #Creating objects of the class\n",
    "s2=Student()\n",
    "#Two objects"
   ]
  },
  {
   "cell_type": "markdown",
   "id": "18cab11b",
   "metadata": {},
   "source": [
    "### There are two types of characteristics(Attributes) of a class Instance Attribute and Class Attributes.\n",
    "INSTANCE ATTRIBUTES :- Which bounds to a specific object, that means the attributes which have different values for different objects.\n",
    "\n",
    "e.g. name, age etc.\n",
    "\n",
    "CLASS ATTRIBUTES :- Which bounds to every object, that means which is common for every object.\n",
    "\n",
    "e.g. class_teacher, total_student etc."
   ]
  },
  {
   "cell_type": "markdown",
   "id": "b0e4589d",
   "metadata": {},
   "source": [
    "## Instance Attributes :-\n",
    "Which bounds to a specific object, that means the attributes which have different values for different objects.\n",
    "\n",
    "e.g. name, age etc."
   ]
  },
  {
   "cell_type": "code",
   "execution_count": 6,
   "id": "fef6d497",
   "metadata": {},
   "outputs": [],
   "source": [
    "class Student:\n",
    "    pass\n",
    "s1=Student()\n",
    "s2=Student()\n",
    "s3=Student()"
   ]
  },
  {
   "cell_type": "code",
   "execution_count": 31,
   "id": "0f6958e0",
   "metadata": {},
   "outputs": [],
   "source": [
    "s1.name=\"Prashant\" #In JAVA or CPP we can only assign value like this when name is already an attribute of our class.\n",
    "# But in python this will create a new attribute for our object s1, we can add an attribute with our requirement.\n",
    "s1.age=21"
   ]
  },
  {
   "cell_type": "code",
   "execution_count": 30,
   "id": "66dd6e35",
   "metadata": {},
   "outputs": [],
   "source": [
    "s2.rollNumber=101"
   ]
  },
  {
   "cell_type": "code",
   "execution_count": 21,
   "id": "6e2d0f01",
   "metadata": {},
   "outputs": [],
   "source": [
    "s3.age=23"
   ]
  },
  {
   "cell_type": "code",
   "execution_count": 10,
   "id": "7006b39b",
   "metadata": {},
   "outputs": [
    {
     "name": "stdout",
     "output_type": "stream",
     "text": [
      "{'name': 'Prashant', 'age': 23}\n",
      "{'rollNumber': 101}\n",
      "{'age': 21}\n"
     ]
    }
   ],
   "source": [
    "#In python each and every instance of class posseses a dictonary which holds the list of attributes\n",
    "# along with their values and we can access that dictonary to verify the values as -\n",
    "# object_name.__dict__\n",
    "print(s1.__dict__)\n",
    "print(s2.__dict__)\n",
    "print(s3.__dict__)"
   ]
  },
  {
   "cell_type": "code",
   "execution_count": 11,
   "id": "2e5d92c1",
   "metadata": {},
   "outputs": [
    {
     "ename": "AttributeError",
     "evalue": "'Student' object has no attribute 'name'",
     "output_type": "error",
     "traceback": [
      "\u001b[1;31m---------------------------------------------------------------------------\u001b[0m",
      "\u001b[1;31mAttributeError\u001b[0m                            Traceback (most recent call last)",
      "Cell \u001b[1;32mIn[11], line 1\u001b[0m\n\u001b[1;32m----> 1\u001b[0m \u001b[38;5;28mprint\u001b[39m(\u001b[43ms2\u001b[49m\u001b[38;5;241;43m.\u001b[39;49m\u001b[43mname\u001b[49m)\n",
      "\u001b[1;31mAttributeError\u001b[0m: 'Student' object has no attribute 'name'"
     ]
    }
   ],
   "source": [
    "print(s2.name)"
   ]
  },
  {
   "cell_type": "code",
   "execution_count": 12,
   "id": "cfb29bc2",
   "metadata": {},
   "outputs": [
    {
     "name": "stdout",
     "output_type": "stream",
     "text": [
      "Prashant\n"
     ]
    }
   ],
   "source": [
    "print(s1.name)"
   ]
  },
  {
   "cell_type": "code",
   "execution_count": 13,
   "id": "314ebaf2",
   "metadata": {},
   "outputs": [
    {
     "name": "stdout",
     "output_type": "stream",
     "text": [
      "True\n"
     ]
    }
   ],
   "source": [
    "#In python each object has some in-built functions\n",
    "# hasattr(object_name, 'attribute_name') Checks the given attribute is assigned or not to the passes object. It returns boolean value.\n",
    "print(hasattr(s1,'name'))"
   ]
  },
  {
   "cell_type": "code",
   "execution_count": 14,
   "id": "51630790",
   "metadata": {},
   "outputs": [
    {
     "name": "stdout",
     "output_type": "stream",
     "text": [
      "False\n"
     ]
    }
   ],
   "source": [
    "print(hasattr(s2,'name'))"
   ]
  },
  {
   "cell_type": "code",
   "execution_count": null,
   "id": "8f2205ce",
   "metadata": {},
   "outputs": [],
   "source": [
    "#setattr(obj_name,'attr_name',value) Used to set value of an attribute\n",
    "#delattr(obj_name,'attr_name') Used to delete an object\n",
    "#getattr(obj_name,'attr_name',default_value) Used to get an object"
   ]
  },
  {
   "cell_type": "code",
   "execution_count": 32,
   "id": "bbc7f9a3",
   "metadata": {},
   "outputs": [
    {
     "name": "stdout",
     "output_type": "stream",
     "text": [
      "Prashant\n",
      "Sanjana\n",
      "25\n"
     ]
    }
   ],
   "source": [
    "print(getattr(s1,'name'))\n",
    "setattr(s1,'name',\"Sanjana\")\n",
    "print(getattr(s1,'name'))\n",
    "delattr(s2,'rollNumber')\n",
    "print(getattr(s2,'rollNumber',25)) #Default value is set to 25"
   ]
  },
  {
   "cell_type": "markdown",
   "id": "bcbb9d3c",
   "metadata": {},
   "source": [
    "## Class Attributes :-\n",
    "Class Attribues are those attributes which are bound or owned by a class which is same for whole class.\n",
    "we can access a class attribute by class name only because that are bounded by a class."
   ]
  },
  {
   "cell_type": "code",
   "execution_count": 33,
   "id": "dcf5f24e",
   "metadata": {},
   "outputs": [
    {
     "name": "stdout",
     "output_type": "stream",
     "text": [
      "{'__module__': '__main__', '__dict__': <attribute '__dict__' of 'Student' objects>, '__weakref__': <attribute '__weakref__' of 'Student' objects>, '__doc__': None, 'totalStudent': 20}\n"
     ]
    }
   ],
   "source": [
    "Student.totalStudent=20\n",
    "#class also has a dictonary which is accesses as class_name.__dict__\n",
    "print(Student.__dict__)"
   ]
  },
  {
   "cell_type": "code",
   "execution_count": 35,
   "id": "e019a185",
   "metadata": {},
   "outputs": [
    {
     "name": "stdout",
     "output_type": "stream",
     "text": [
      "{'__module__': '__main__', 'totalStudents': 20, 'class_Teacher': 'Prashant', '__dict__': <attribute '__dict__' of 'Student' objects>, '__weakref__': <attribute '__weakref__' of 'Student' objects>, '__doc__': None}\n",
      "{}\n"
     ]
    }
   ],
   "source": [
    "#Another way of creating class attriute is inside class.\n",
    "#Unlike JAVA or CPP any attribute that we add in class will become class attribute.\n",
    "class Student:\n",
    "    #Class_attribute\n",
    "    totalStudents=20\n",
    "    class_Teacher=\"Prashant\"\n",
    "s1=Student()\n",
    "s2=Student()\n",
    "print(Student.__dict__)\n",
    "print(s1.__dict__) #Answer should be empty because we haven't added any instance attribute to the object.\n",
    "print(s2.__dict__)"
   ]
  },
  {
   "cell_type": "code",
   "execution_count": 39,
   "id": "6fa22af2",
   "metadata": {},
   "outputs": [
    {
     "name": "stdout",
     "output_type": "stream",
     "text": [
      "20\n",
      "20\n",
      "20\n",
      "{}\n",
      "{}\n"
     ]
    }
   ],
   "source": [
    "#Now can we access the class attributes using s1 or s2 ?\n",
    "#Yes\n",
    "print(Student.totalStudents)\n",
    "print(s1.totalStudents)\n",
    "print(s2.totalStudents)\n",
    "print(s1.__dict__)\n",
    "print(s2.__dict__)"
   ]
  },
  {
   "cell_type": "code",
   "execution_count": 40,
   "id": "990c77e5",
   "metadata": {},
   "outputs": [],
   "source": [
    "Student.totalStudents=30 #Value is updated"
   ]
  },
  {
   "cell_type": "code",
   "execution_count": 41,
   "id": "0a911d42",
   "metadata": {},
   "outputs": [
    {
     "name": "stdout",
     "output_type": "stream",
     "text": [
      "30\n",
      "30\n",
      "30\n",
      "{}\n",
      "{}\n"
     ]
    }
   ],
   "source": [
    "print(Student.totalStudents)\n",
    "print(s1.totalStudents)\n",
    "print(s2.totalStudents)"
   ]
  },
  {
   "cell_type": "code",
   "execution_count": 42,
   "id": "54932903",
   "metadata": {},
   "outputs": [],
   "source": [
    "s1.totalStudents=40 #Only for s1 the value of totalStudents is updated. i.e, now s1 also holds a instance attribute with name totalStudents"
   ]
  },
  {
   "cell_type": "code",
   "execution_count": 43,
   "id": "4363f19b",
   "metadata": {},
   "outputs": [
    {
     "name": "stdout",
     "output_type": "stream",
     "text": [
      "30\n",
      "40\n",
      "30\n"
     ]
    }
   ],
   "source": [
    "print(Student.totalStudents)\n",
    "print(s1.totalStudents)\n",
    "print(s2.totalStudents)"
   ]
  },
  {
   "cell_type": "code",
   "execution_count": 45,
   "id": "39dd97dc",
   "metadata": {},
   "outputs": [
    {
     "name": "stdout",
     "output_type": "stream",
     "text": [
      "{'totalStudents': 40}\n",
      "{}\n"
     ]
    }
   ],
   "source": [
    "print(s1.__dict__)\n",
    "print(s2.__dict__)"
   ]
  },
  {
   "cell_type": "markdown",
   "id": "90a4ef47",
   "metadata": {},
   "source": [
    "### object_name.property -> First it checks for the instance attribute with same name for the specified object_name then it prints the value of instance attribute otherwise it goes to class attribute. If a class attribute of that property is also not found then it throws an attribute error."
   ]
  },
  {
   "cell_type": "markdown",
   "id": "536e14b9",
   "metadata": {},
   "source": [
    "## Methods :-\n",
    "Methods are basically the behaviour which can a object possesed. Or, it can some operation that we can perform over an object.\n",
    "\n",
    "There are three types of methods available in python OOPs :-\n",
    "\n",
    "1.) Instance Methods, like instance attributes also known as object methods (Bound or owned by the object) e.g:- getter or setter etc.\n",
    "\n",
    "2.) Class Methods, like class attributes (Bound or owned by the class)\n",
    "\n",
    "3.) Static Methods"
   ]
  },
  {
   "cell_type": "code",
   "execution_count": 43,
   "id": "6e444b24",
   "metadata": {},
   "outputs": [],
   "source": [
    "class Student:\n",
    "    ##Class Attributes\n",
    "    totalStudents=20\n",
    "    classTeacher=\"Prashant\"\n",
    "    ## Instance methods\n",
    "    ## Any function or method present in this class is known as instance method by default\n",
    "    def PrintHello(self): #self must have to use\n",
    "        print('Hello')\n",
    "    def print(self, str):\n",
    "        print(str)\n",
    "    def Print_name(self):\n",
    "        name=\"abc\"\n",
    "        print(self.name)\n",
    "        print(name)\n",
    "    def add_name(self,name):\n",
    "        self.name=name\n",
    "    def test(self):\n",
    "        print(self.totalStudents) #If we not put self here then it treats totalStudents as it's own local variable and throws NameError\n",
    "        \n",
    "        \n",
    "s1=Student()\n",
    "s2=Student()"
   ]
  },
  {
   "cell_type": "code",
   "execution_count": 27,
   "id": "f4337025",
   "metadata": {},
   "outputs": [],
   "source": [
    "s1.name=\"Prashant\""
   ]
  },
  {
   "cell_type": "code",
   "execution_count": 28,
   "id": "13199f7e",
   "metadata": {},
   "outputs": [
    {
     "name": "stdout",
     "output_type": "stream",
     "text": [
      "Prashant\n",
      "abc\n"
     ]
    }
   ],
   "source": [
    "s1.Print_name()"
   ]
  },
  {
   "cell_type": "code",
   "execution_count": 10,
   "id": "31df500d",
   "metadata": {},
   "outputs": [
    {
     "name": "stdout",
     "output_type": "stream",
     "text": [
      "Hello\n",
      "Hii\n"
     ]
    }
   ],
   "source": [
    "## s1.PrintHello(), Internally this line is intrepreted as Student.PrintHello(s1)\n",
    "s1.PrintHello()\n",
    "s1.print(\"Hii\")"
   ]
  },
  {
   "cell_type": "code",
   "execution_count": 14,
   "id": "be0a6ced",
   "metadata": {},
   "outputs": [
    {
     "ename": "TypeError",
     "evalue": "Student.PrintHello() missing 1 required positional argument: 'self'",
     "output_type": "error",
     "traceback": [
      "\u001b[1;31m---------------------------------------------------------------------------\u001b[0m",
      "\u001b[1;31mTypeError\u001b[0m                                 Traceback (most recent call last)",
      "Cell \u001b[1;32mIn[14], line 1\u001b[0m\n\u001b[1;32m----> 1\u001b[0m \u001b[43mStudent\u001b[49m\u001b[38;5;241;43m.\u001b[39;49m\u001b[43mPrintHello\u001b[49m\u001b[43m(\u001b[49m\u001b[43m)\u001b[49m\n",
      "\u001b[1;31mTypeError\u001b[0m: Student.PrintHello() missing 1 required positional argument: 'self'"
     ]
    }
   ],
   "source": [
    "Student.PrintHello()\n",
    "#To solve this error we've to pass any object of student class"
   ]
  },
  {
   "cell_type": "code",
   "execution_count": 15,
   "id": "6085d550",
   "metadata": {},
   "outputs": [
    {
     "name": "stdout",
     "output_type": "stream",
     "text": [
      "Hello\n"
     ]
    }
   ],
   "source": [
    "Student.PrintHello(s1)"
   ]
  },
  {
   "cell_type": "markdown",
   "id": "4289a81f",
   "metadata": {},
   "source": [
    "## Instance Methods :-"
   ]
  },
  {
   "cell_type": "code",
   "execution_count": 31,
   "id": "0243c015",
   "metadata": {},
   "outputs": [
    {
     "name": "stdout",
     "output_type": "stream",
     "text": [
      "{}\n",
      "{}\n"
     ]
    }
   ],
   "source": [
    "print(s1.__dict__)\n",
    "print(s2.__dict__)"
   ]
  },
  {
   "cell_type": "code",
   "execution_count": 32,
   "id": "d14e7cfb",
   "metadata": {},
   "outputs": [],
   "source": [
    "s1.add_name(\"Prashant\")"
   ]
  },
  {
   "cell_type": "code",
   "execution_count": 33,
   "id": "801eea71",
   "metadata": {},
   "outputs": [
    {
     "name": "stdout",
     "output_type": "stream",
     "text": [
      "{'name': 'Prashant'}\n"
     ]
    }
   ],
   "source": [
    "print(s1.__dict__)"
   ]
  },
  {
   "cell_type": "code",
   "execution_count": 40,
   "id": "1e3ec2d2",
   "metadata": {},
   "outputs": [
    {
     "ename": "AttributeError",
     "evalue": "'Student' object has no attribute 'name'",
     "output_type": "error",
     "traceback": [
      "\u001b[1;31m---------------------------------------------------------------------------\u001b[0m",
      "\u001b[1;31mAttributeError\u001b[0m                            Traceback (most recent call last)",
      "Cell \u001b[1;32mIn[40], line 1\u001b[0m\n\u001b[1;32m----> 1\u001b[0m \u001b[43ms2\u001b[49m\u001b[38;5;241;43m.\u001b[39;49m\u001b[43mPrint_name\u001b[49m\u001b[43m(\u001b[49m\u001b[43m)\u001b[49m\n",
      "Cell \u001b[1;32mIn[39], line 13\u001b[0m, in \u001b[0;36mStudent.Print_name\u001b[1;34m(self)\u001b[0m\n\u001b[0;32m     11\u001b[0m \u001b[38;5;28;01mdef\u001b[39;00m \u001b[38;5;21mPrint_name\u001b[39m(\u001b[38;5;28mself\u001b[39m):\n\u001b[0;32m     12\u001b[0m     name\u001b[38;5;241m=\u001b[39m\u001b[38;5;124m\"\u001b[39m\u001b[38;5;124mabc\u001b[39m\u001b[38;5;124m\"\u001b[39m\n\u001b[1;32m---> 13\u001b[0m     \u001b[38;5;28mprint\u001b[39m(\u001b[38;5;28;43mself\u001b[39;49m\u001b[38;5;241;43m.\u001b[39;49m\u001b[43mname\u001b[49m)\n\u001b[0;32m     14\u001b[0m     \u001b[38;5;28mprint\u001b[39m(name)\n",
      "\u001b[1;31mAttributeError\u001b[0m: 'Student' object has no attribute 'name'"
     ]
    }
   ],
   "source": [
    "s2.Print_name()"
   ]
  },
  {
   "cell_type": "code",
   "execution_count": 44,
   "id": "245b55a4",
   "metadata": {},
   "outputs": [
    {
     "name": "stdout",
     "output_type": "stream",
     "text": [
      "20\n"
     ]
    }
   ],
   "source": [
    "Student.test(s1)"
   ]
  }
 ],
 "metadata": {
  "kernelspec": {
   "display_name": "Python 3 (ipykernel)",
   "language": "python",
   "name": "python3"
  },
  "language_info": {
   "codemirror_mode": {
    "name": "ipython",
    "version": 3
   },
   "file_extension": ".py",
   "mimetype": "text/x-python",
   "name": "python",
   "nbconvert_exporter": "python",
   "pygments_lexer": "ipython3",
   "version": "3.10.9"
  }
 },
 "nbformat": 4,
 "nbformat_minor": 5
}
