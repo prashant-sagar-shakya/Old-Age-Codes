{
 "cells": [
  {
   "cell_type": "markdown",
   "id": "26d3a64b",
   "metadata": {},
   "source": [
    "## Intro to Jupyter\n",
    "we can write markdown or python code in our cells. You can choose accordingly in dropdown above."
   ]
  },
  {
   "cell_type": "code",
   "execution_count": 29,
   "id": "386d4bdd",
   "metadata": {},
   "outputs": [
    {
     "name": "stdout",
     "output_type": "stream",
     "text": [
      "10\n"
     ]
    }
   ],
   "source": [
    "a=10\n",
    "print(a)"
   ]
  },
  {
   "cell_type": "code",
   "execution_count": null,
   "id": "ded20b64",
   "metadata": {},
   "outputs": [],
   "source": []
  },
  {
   "cell_type": "markdown",
   "id": "3b1cdaae",
   "metadata": {},
   "source": [
    "## Variable Intro"
   ]
  },
  {
   "cell_type": "code",
   "execution_count": 2,
   "id": "6a31fa8f",
   "metadata": {},
   "outputs": [
    {
     "data": {
      "text/plain": [
       "30"
      ]
     },
     "execution_count": 2,
     "metadata": {},
     "output_type": "execute_result"
    }
   ],
   "source": [
    "a = 10\n",
    "b = 20\n",
    "a + b"
   ]
  },
  {
   "cell_type": "markdown",
   "id": "6f807d44",
   "metadata": {},
   "source": [
    "## Variable Naming\n",
    "You can't start with numbers"
   ]
  },
  {
   "cell_type": "markdown",
   "id": "9be5ad1c",
   "metadata": {},
   "source": [
    "## Assigning different type of data to variables\n"
   ]
  },
  {
   "cell_type": "code",
   "execution_count": 7,
   "id": "9ad02aff",
   "metadata": {},
   "outputs": [
    {
     "data": {
      "text/plain": [
       "'Prashant'"
      ]
     },
     "execution_count": 7,
     "metadata": {},
     "output_type": "execute_result"
    }
   ],
   "source": [
    "a = 10\n",
    "a = \"Prashant\"\n",
    "a     #Typecasted to string"
   ]
  },
  {
   "cell_type": "code",
   "execution_count": 11,
   "id": "33271314",
   "metadata": {},
   "outputs": [
    {
     "data": {
      "text/plain": [
       "int"
      ]
     },
     "execution_count": 11,
     "metadata": {},
     "output_type": "execute_result"
    }
   ],
   "source": [
    "type(a)\n",
    "a = 10\n",
    "type(a)"
   ]
  },
  {
   "cell_type": "code",
   "execution_count": 12,
   "id": "8d721aa2",
   "metadata": {},
   "outputs": [
    {
     "name": "stdout",
     "output_type": "stream",
     "text": [
      "<class 'str'>\n",
      "<class 'int'>\n"
     ]
    }
   ],
   "source": [
    "a = \"Prashant\"\n",
    "print(type(a))\n",
    "a = 10\n",
    "print(type(a))"
   ]
  },
  {
   "cell_type": "markdown",
   "id": "2423f449",
   "metadata": {},
   "source": [
    "## Python Numbers"
   ]
  },
  {
   "cell_type": "code",
   "execution_count": 18,
   "id": "a9ce0f15",
   "metadata": {},
   "outputs": [
    {
     "name": "stdout",
     "output_type": "stream",
     "text": [
      "23 3.4 (4+5j)\n",
      "<class 'int'>\n",
      "<class 'float'>\n",
      "<class 'complex'>\n"
     ]
    }
   ],
   "source": [
    "a1 = 23\n",
    "a2 = 3.4\n",
    "a3 = 4 + 5j\n",
    "print(a1,a2,a3)\n",
    "print(type(a1))\n",
    "print(type(a2))\n",
    "print(type(a3))"
   ]
  },
  {
   "cell_type": "code",
   "execution_count": 22,
   "id": "f909ab90",
   "metadata": {},
   "outputs": [
    {
     "name": "stdout",
     "output_type": "stream",
     "text": [
      "2718267015696\n",
      "2718267015728\n",
      "11\n"
     ]
    }
   ],
   "source": [
    "a = 10\n",
    "print(id(a))  # Gives address of a in memory\n",
    "a = a + 1     # a is incremented by 1\n",
    "print(id(a))  #Gives address of a+1 in memory\n",
    "print(a)"
   ]
  },
  {
   "cell_type": "code",
   "execution_count": 27,
   "id": "d08e49fd",
   "metadata": {},
   "outputs": [
    {
     "name": "stdout",
     "output_type": "stream",
     "text": [
      "2718267015696\n",
      "2718267015696\n",
      "\n",
      "2718267023568\n",
      "2718267023568\n",
      "\n",
      "2718383262480\n",
      "2718383268112\n"
     ]
    }
   ],
   "source": [
    "# Printing ID\n",
    "\n",
    "a=10\n",
    "b=10\n",
    "print(id(a))\n",
    "print(id(b))\n",
    "\n",
    "print() # Just for an empty line space\n",
    "\n",
    "# It means both a and b pointing at same memory location due to same value stored\n",
    "# But this optimization is done only for range (-5 to 256), Here is an example\n",
    "\n",
    "a=256\n",
    "b=256\n",
    "print(id(a))\n",
    "print(id(b))\n",
    "\n",
    "print() # Just for an empty line space\n",
    "\n",
    "a=1000\n",
    "b=1000\n",
    "print(id(a))\n",
    "print(id(b))\n",
    "\n",
    "# Now the both Id's are different because 1000 is out of range of (-5 to 256)"
   ]
  },
  {
   "cell_type": "markdown",
   "id": "220dc40e",
   "metadata": {},
   "source": [
    "## Arithmetic Operators"
   ]
  },
  {
   "cell_type": "code",
   "execution_count": 2,
   "id": "1bf0b226",
   "metadata": {},
   "outputs": [
    {
     "name": "stdout",
     "output_type": "stream",
     "text": [
      "13\n",
      "7\n",
      "30\n",
      "3.3333333333333335\n",
      "3\n",
      "1000\n",
      "1\n"
     ]
    }
   ],
   "source": [
    "print(10+3) # Addition Operator\n",
    "print(10-3) # Subtraction Operator\n",
    "print(10*3) # Multiplication Operator\n",
    "print(10/3) # Float Division Operator\n",
    "print(10//3) # Integer Division Operator\n",
    "print(10**3) # Exponentiation Operator\n",
    "print(10%3) # Modulo Operator gives remainder"
   ]
  },
  {
   "cell_type": "code",
   "execution_count": 4,
   "id": "80e370bc",
   "metadata": {},
   "outputs": [
    {
     "name": "stdout",
     "output_type": "stream",
     "text": [
      "1000.0\n",
      "1000\n"
     ]
    }
   ],
   "source": [
    "# Simple Interest\n",
    "\n",
    "p = 10000 #Principle amount\n",
    "r = 5 #Rate is 5 years\n",
    "t = 2 #Time is 2 years\n",
    "si=(p*r*t)/100\n",
    "print(si)\n",
    "print(int(si)) #Typecasted to int and printed"
   ]
  },
  {
   "cell_type": "code",
   "execution_count": 8,
   "id": "662a13e7",
   "metadata": {},
   "outputs": [
    {
     "name": "stdout",
     "output_type": "stream",
     "text": [
      "37.77777777777778\n",
      "37\n",
      "37\n"
     ]
    }
   ],
   "source": [
    "# Fahrenhite to Celcius Conversion\n",
    "\n",
    "f=100\n",
    "c=(f-32)*5/9\n",
    "print(c)\n",
    "print(int(c))\n",
    "\n",
    "#Or, \n",
    "\n",
    "ci=(f-32)*5//9 #Integer Division\n",
    "print(ci)"
   ]
  },
  {
   "cell_type": "markdown",
   "id": "8af955db",
   "metadata": {},
   "source": [
    "## Input"
   ]
  },
  {
   "cell_type": "code",
   "execution_count": 10,
   "id": "9efd66c4",
   "metadata": {},
   "outputs": [
    {
     "name": "stdout",
     "output_type": "stream",
     "text": [
      "23\n",
      "23\n"
     ]
    }
   ],
   "source": [
    "# Taking Input in Python\n",
    "\n",
    "a=input()\n",
    "print(a)"
   ]
  },
  {
   "cell_type": "code",
   "execution_count": 16,
   "id": "1fa885c5",
   "metadata": {},
   "outputs": [
    {
     "name": "stdout",
     "output_type": "stream",
     "text": [
      "12\n",
      "15\n",
      "<class 'str'>\n",
      "<class 'str'>\n",
      "1215\n"
     ]
    }
   ],
   "source": [
    "# Addition of two input data\n",
    "\n",
    "a=input()\n",
    "b=input()\n",
    "\n",
    "print(type(a))\n",
    "print(type(b))\n",
    "\n",
    "#input() Takes input as string datatype\n",
    "\n",
    "sum=a+b\n",
    "print(sum) #It gives string addition"
   ]
  },
  {
   "cell_type": "code",
   "execution_count": 15,
   "id": "75af81e2",
   "metadata": {},
   "outputs": [
    {
     "name": "stdout",
     "output_type": "stream",
     "text": [
      "5\n",
      "7\n",
      "12\n"
     ]
    }
   ],
   "source": [
    "# Addition of two user input numbers\n",
    "\n",
    "a=int(input())\n",
    "b=int(input())\n",
    "\n",
    "sum=a+b\n",
    "print(sum)"
   ]
  },
  {
   "cell_type": "markdown",
   "id": "396333d1",
   "metadata": {},
   "source": [
    "## Average marks Question (Average of 3)"
   ]
  },
  {
   "cell_type": "code",
   "execution_count": 19,
   "id": "ed440b72",
   "metadata": {},
   "outputs": [
    {
     "name": "stdout",
     "output_type": "stream",
     "text": [
      "Enter Marks of Subject 1 2\n",
      "Enter Marks of Subject 2 2\n",
      "Enter Marks of Subject 3 2\n",
      "Average Marks =  2.0\n"
     ]
    }
   ],
   "source": [
    "a=int(input(\"Enter Marks of Subject 1 \"))\n",
    "b=int(input(\"Enter Marks of Subject 2 \"))\n",
    "c=int(input(\"Enter Marks of Subject 3 \"))\n",
    "avg=(a+b+c)/3\n",
    "print(\"Average Marks =\", avg) #Printing integer value along with a string"
   ]
  }
 ],
 "metadata": {
  "kernelspec": {
   "display_name": "Python 3 (ipykernel)",
   "language": "python",
   "name": "python3"
  },
  "language_info": {
   "codemirror_mode": {
    "name": "ipython",
    "version": 3
   },
   "file_extension": ".py",
   "mimetype": "text/x-python",
   "name": "python",
   "nbconvert_exporter": "python",
   "pygments_lexer": "ipython3",
   "version": "3.10.9"
  }
 },
 "nbformat": 4,
 "nbformat_minor": 5
}
