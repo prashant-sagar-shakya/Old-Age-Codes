{
 "cells": [
  {
   "cell_type": "markdown",
   "id": "a086ce11",
   "metadata": {},
   "source": [
    "## 1. Find X raised to power n :-"
   ]
  },
  {
   "cell_type": "code",
   "execution_count": 2,
   "id": "ec4b44e4",
   "metadata": {},
   "outputs": [
    {
     "name": "stdout",
     "output_type": "stream",
     "text": [
      "Enter the value of x 5\n",
      "Enter the value of n 2\n",
      "Result is 25\n"
     ]
    }
   ],
   "source": [
    "x=int(input(\"Enter the value of x \"))\n",
    "n=int(input(\"Enter the value of n \"))\n",
    "power=x**n #Exponentiation operator\n",
    "print(\"Result is\",power)"
   ]
  },
  {
   "cell_type": "markdown",
   "id": "b2eaab5d",
   "metadata": {},
   "source": [
    "## 2. Arithmetic Progression :-\n",
    "You are given three terms of A.P and you have to calculate Common difference and print it"
   ]
  },
  {
   "cell_type": "code",
   "execution_count": 4,
   "id": "9a348678",
   "metadata": {},
   "outputs": [
    {
     "name": "stdout",
     "output_type": "stream",
     "text": [
      "Enter first term 3\n",
      "Enter second term 4\n",
      "Enter third term 7\n",
      "Not a valid A.P sequence\n"
     ]
    }
   ],
   "source": [
    "a=int(input(\"Enter first term \"))\n",
    "b=int(input(\"Enter second term \"))\n",
    "c=int(input(\"Enter third term \"))\n",
    "cd1=b-a\n",
    "cd2=c-b\n",
    "if (cd1==cd2):\n",
    "    print(\"Common difference is\",cd1)\n",
    "else :\n",
    "    print(\"Not a valid A.P sequence\")"
   ]
  },
  {
   "cell_type": "markdown",
   "id": "78964c74",
   "metadata": {},
   "source": [
    "## 3. Rectangular Area :-\n",
    "You are given a rectangle in a plane. The corner coordinates of this rectangle is provided to you. You have to print the amount of area of the plane covered by this rectangles.\n",
    "The end coordinates are provided as four integral values: x1, y1, x2, y2. It is given that x1 < x2 and y1 < y2."
   ]
  },
  {
   "cell_type": "code",
   "execution_count": 6,
   "id": "d9e65dde",
   "metadata": {},
   "outputs": [
    {
     "name": "stdout",
     "output_type": "stream",
     "text": [
      "Enter x1 1\n",
      "Enter y1 1\n",
      "Enter x2 2\n",
      "Enter y2 2\n",
      "Area of rectangle is 1\n"
     ]
    }
   ],
   "source": [
    "x1=int(input(\"Enter x1 \"))\n",
    "y1=int(input(\"Enter y1 \"))\n",
    "x2=int(input(\"Enter x2 \"))\n",
    "y2=int(input(\"Enter y2 \"))\n",
    "print(\"Area of rectangle is\",(x2-x1)*(y2-y1))"
   ]
  }
 ],
 "metadata": {
  "kernelspec": {
   "display_name": "Python 3 (ipykernel)",
   "language": "python",
   "name": "python3"
  },
  "language_info": {
   "codemirror_mode": {
    "name": "ipython",
    "version": 3
   },
   "file_extension": ".py",
   "mimetype": "text/x-python",
   "name": "python",
   "nbconvert_exporter": "python",
   "pygments_lexer": "ipython3",
   "version": "3.10.9"
  }
 },
 "nbformat": 4,
 "nbformat_minor": 5
}
